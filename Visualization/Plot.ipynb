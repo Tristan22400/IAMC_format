{
 "cells": [
  {
   "cell_type": "code",
   "execution_count": 54,
   "metadata": {},
   "outputs": [],
   "source": [
    "import os\n",
    "import pandas as pd\n",
    "import pyam\n",
    "import plotly"
   ]
  },
  {
   "cell_type": "code",
   "execution_count": 31,
   "metadata": {},
   "outputs": [
    {
     "name": "stderr",
     "output_type": "stream",
     "text": [
      "[INFO] 13:19:12 - pyam.core: Reading file Baseline no policies no CO2taxconverted.csv\n",
      "c:\\Users\\34670\\.conda\\envs\\wiliamcformat\\Lib\\site-packages\\pyam\\utils.py:318: FutureWarning: The previous implementation of stack is deprecated and will be removed in a future version of pandas. See the What's New notes for pandas 2.1.0 for details. Specify future_stack=True to adopt the new implementation and silence this warning.\n",
      "  .stack(dropna=True)\n"
     ]
    }
   ],
   "source": [
    "cwd = os.getcwd()\n",
    "\n",
    "# path to the results file (in IAMC format)\n",
    "path = \"..\\\\Conversion-Script\\\\File_Converted\\\\\"\n",
    "\n",
    "try:\n",
    "    # df = pd.read_csv(path + \"Baseline no policies no CO2taxconverted.csv\", sep=\",\")\n",
    "    df = pyam.IamDataFrame(\"Baseline no policies no CO2taxconverted.csv\")\n",
    "except:\n",
    "    print(\"ERROR opening the file with results in IAMC format\")"
   ]
  },
  {
   "cell_type": "code",
   "execution_count": 68,
   "metadata": {},
   "outputs": [
    {
     "data": {
      "text/plain": [
       "['Secondary Energy|Electricity And Heat|Gas Fuels|w/ CCS',\n",
       " 'Secondary Energy|Electricity And Heat|Gas Fuels|w/o CCS',\n",
       " 'Secondary Energy|Electricity And Heat|Geothermal|Deactivated',\n",
       " 'Secondary Energy|Electricity And Heat|Liquid Fuels|w/ CCS',\n",
       " 'Secondary Energy|Electricity And Heat|Liquid Fuels|w/o CCS',\n",
       " 'Secondary Energy|Electricity And Heat|Solid|Biomass|w/ CCS',\n",
       " 'Secondary Energy|Electricity And Heat|Solid|Biomass|w/o CCS',\n",
       " 'Secondary Energy|Electricity And Heat|Solid|Fossil|w/ CCS',\n",
       " 'Secondary Energy|Electricity And Heat|Solid|Fossil|w/o CCS',\n",
       " 'Secondary Energy|Electricity And Heat|Waste',\n",
       " 'Secondary Energy|Electricity|Gas Fuels|w/ CCS',\n",
       " 'Secondary Energy|Electricity|Gas Fuels|w/o CCS',\n",
       " 'Secondary Energy|Electricity|Geothermal',\n",
       " 'Secondary Energy|Electricity|Hydro|Dammed',\n",
       " 'Secondary Energy|Electricity|Hydro|Run Of River',\n",
       " 'Secondary Energy|Electricity|Liquid Fuels|w/ CCS',\n",
       " 'Secondary Energy|Electricity|Liquid Fuels|w/o CCS',\n",
       " 'Secondary Energy|Electricity|Nuclear',\n",
       " 'Secondary Energy|Electricity|Ocean',\n",
       " 'Secondary Energy|Electricity|Solar|CSP',\n",
       " 'Secondary Energy|Electricity|Solar|Open Space|PV',\n",
       " 'Secondary Energy|Electricity|Solar|Urban|PV',\n",
       " 'Secondary Energy|Electricity|Solid|Biomass|w/ CCS',\n",
       " 'Secondary Energy|Electricity|Solid|Biomass|w/o CCS',\n",
       " 'Secondary Energy|Electricity|Solid|Fossil|w/ CCS',\n",
       " 'Secondary Energy|Electricity|Solid|Fossil|w/o CCS',\n",
       " 'Secondary Energy|Electricity|Waste|w/ CCS',\n",
       " 'Secondary Energy|Electricity|Waste|w/o CCS',\n",
       " 'Secondary Energy|Electricity|Wind|Offshore',\n",
       " 'Secondary Energy|Electricity|Wind|Onshore',\n",
       " 'Secondary Energy|Gas Fuels',\n",
       " 'Secondary Energy|Heat|Gas Fuels',\n",
       " 'Secondary Energy|Heat|Geothermal',\n",
       " 'Secondary Energy|Heat|Liquid Fuels',\n",
       " 'Secondary Energy|Heat|Solar|Deactivated',\n",
       " 'Secondary Energy|Heat|Solid|Biomass',\n",
       " 'Secondary Energy|Heat|Solid|Fossil',\n",
       " 'Secondary Energy|Heat|Waste',\n",
       " 'Secondary Energy|Hydrogen',\n",
       " 'Secondary Energy|Liquid Fuels',\n",
       " 'Secondary Energy|Solids|Biomass',\n",
       " 'Secondary Energy|Solids|Fossils']"
      ]
     },
     "execution_count": 68,
     "metadata": {},
     "output_type": "execute_result"
    }
   ],
   "source": [
    "df.filter(variable=\"Secondary*\").variable\n"
   ]
  }
 ],
 "metadata": {
  "kernelspec": {
   "display_name": "wiliamcformat",
   "language": "python",
   "name": "python3"
  },
  "language_info": {
   "codemirror_mode": {
    "name": "ipython",
    "version": 3
   },
   "file_extension": ".py",
   "mimetype": "text/x-python",
   "name": "python",
   "nbconvert_exporter": "python",
   "pygments_lexer": "ipython3",
   "version": "3.12.4"
  }
 },
 "nbformat": 4,
 "nbformat_minor": 2
}
