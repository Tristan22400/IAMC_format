{
 "cells": [
  {
   "cell_type": "markdown",
   "metadata": {},
   "source": [
    "# Report of the scenario"
   ]
  },
  {
   "cell_type": "markdown",
   "metadata": {},
   "source": [
    "The next libraries are used to generate this report."
   ]
  },
  {
   "cell_type": "code",
   "execution_count": null,
   "metadata": {},
   "outputs": [],
   "source": [
    "import pyam\n",
    "import matplotlib.pyplot as plt\n",
    "import plotly\n",
    "import triesearching"
   ]
  },
  {
   "cell_type": "markdown",
   "metadata": {},
   "source": [
    "Selection of results:\n",
    "1. Customize the path where the file with results is placed (by default: \"..\\\\Conversion-Script\\\\File_Converted\\\\\").\n",
    "2. Define the name of the file.\n",
    "3. Define the name of the model and scenario to analyse"
   ]
  },
  {
   "cell_type": "code",
   "execution_count": null,
   "metadata": {},
   "outputs": [],
   "source": [
    "# 1. path to the results file (in IAMC format)\n",
    "path = \"..\\\\Conversion-Script\\\\File_Converted\\\\\"\n",
    "\n",
    "# Structure to check the existance of the file\n",
    "try:\n",
    "    df = pyam.IamDataFrame(path + \"Baseline no policies no CO2taxconverted.csv\") # 2. It imports the data from an existing file (IAMC formatted)\n",
    "except:\n",
    "    print(\"ERROR opening the file with results in IAMC format\")\n",
    "\n",
    "# 3. This defines the model and scenario used for the report\n",
    "args = dict(model=\"WILIAM\", scenario=\"Baseline no policies no CO2tax\")\n"
   ]
  },
  {
   "cell_type": "markdown",
   "metadata": {},
   "source": [
    "The next sections defines principal results of each module.\n",
    "\n",
    "## Demography (35 regions)\n",
    "\n",
    "* **Total population**: The World population aggregates living people per sex, region, and age cohort. "
   ]
  },
  {
   "cell_type": "code",
   "execution_count": null,
   "metadata": {},
   "outputs": [],
   "source": [
    "# Aggregate all the regional populations\n",
    "#data = df.aggregate_region(\"Population\").timeseries()\n",
    "\n",
    "datagg = df.aggregate_region(\"Population\").timeseries()\n",
    "\n",
    "# \"aggregate_region\" function generates a DataFrame object instead of IamDataFrame object. We plot results with DataFrame functions\n",
    "dataggtrans = datagg.transpose()\n",
    "\n",
    "# Generate the plot. To customize this plot, go to: https://pandas.pydata.org/docs/reference/api/pandas.DataFrame.plot.html\n",
    "dataggtrans.plot(kind='line',\n",
    "                        title=\"Global population\",\n",
    "                        legend=False,\n",
    "                        ylabel=\"people\",\n",
    "                        xlabel=\"Year\",\n",
    "                        figsize=[10,5])\n",
    "\n",
    "plt.savefig('Population.png')"
   ]
  },
  {
   "cell_type": "markdown",
   "metadata": {},
   "source": [
    "## Energy (9 regions)\n",
    "\n",
    "* **Consumption of primary energy per region in 2050** "
   ]
  },
  {
   "cell_type": "code",
   "execution_count": null,
   "metadata": {},
   "outputs": [],
   "source": [
    "data = df.filter(**args, variable=\"Primary Energy\", year=2050)\n",
    "\n",
    "data.plot.bar(title=\"Primary energy by region\", x=\"region\")\n",
    "plt.legend(loc=1)\n",
    "plt.tight_layout()\n",
    "plt.show()"
   ]
  },
  {
   "cell_type": "markdown",
   "metadata": {},
   "source": [
    "* **Sankey diagram of part of the Chinese energy system in 2050** "
   ]
  },
  {
   "cell_type": "code",
   "execution_count": null,
   "metadata": {},
   "outputs": [],
   "source": [
    "sankey_mapping = {\n",
    "    \"Primary Energy|Agriculture Products\": (\"Agriculture\", \"Solids\"),\n",
    "    \"Primary Energy|Coal\": (\"Fossil\", \"Solids\"),\n",
    "    \"Primary Energy|Forestry Products\": (\"Forestry\", \"Solids\"),\n",
    "    \"Primary Energy|Geothermal\": (\"Geothermal\", \"Geothermal plants\"),\n",
    "    \"Primary Energy|Hydropower\": (\"Hydropower dams\", \"Hydro\"),\n",
    "    \"Primary Energy|Natural Gas\": (\"Fossil\", \"Gas fuels\"),\n",
    "    \"Primary Energy|Nuclear\": (\"Uranium\", \"Nuclear\"),\n",
    "    \"Primary Energy|Ocean\": (\"Sea\", \"Ocean\"),\n",
    "    \"Primary Energy|Oil\": (\"Fossil\", \"Liquids\"),\n",
    "    \"Primary Energy|Solar\": (\"Sun\", \"Solar\"),\n",
    "    \"Primary Energy|Waste\": (\"Cities\", \"Waste\"),\n",
    "    \"Primary Energy|Wind\": (\"Wind\", \"Wind plants\"),\n",
    "\n",
    "    \"Secondary Energy|Electricity|Gas Fuels|w/ CCS\": (\"Gas fuels\", \"Power Grid\"),\n",
    "    \"Secondary Energy|Electricity|Gas Fuels|w/o CCS\": (\"Gases wothout CCS\", \"Power Grid\"),\n",
    "    \"Secondary Energy|Electricity|Geothermal\": (\"Geothermal\", \"Power Grid\"),\n",
    "    \"Secondary Energy|Electricity|Hydro|Dammed\": (\"Hydro\", \"Power Grid\"),\n",
    "    \"Secondary Energy|Electricity|Hydro|Run Of River\": (\"Hydro\", \"Power Grid\"),\n",
    "    \"Secondary Energy|Electricity|Liquid Fuels|w/ CCS\": (\"Liquids\", \"Power Grid\"),\n",
    "    \"Secondary Energy|Electricity|Liquid Fuels|w/o CCS\": (\"Liquids\", \"Power Grid\"),\n",
    "    \"Secondary Energy|Electricity|Nuclear\": (\"Nuclear\", \"Power Grid\"),\n",
    "    \"Secondary Energy|Electricity|Ocean\": (\"Ocean\", \"Power Grid\"),\n",
    "    \"Secondary Energy|Electricity|Solar|CSP\": (\"Solar\", \"Power Grid\"),\n",
    "    \"Secondary Energy|Electricity|Solar|Open Space|PV\": (\"Solar\", \"Power Grid\"),\n",
    "    \"Secondary Energy|Electricity|Solar|Urban|PV\": (\"Solar\", \"Power Grid\"),\n",
    "    \"Secondary Energy|Electricity|Solid|Biomass|w/ CCS\": (\"Solids\", \"Power Grid\"),\n",
    "    \"Secondary Energy|Electricity|Solid|Biomass|w/o CCS\": (\"Solids\", \"Power Grid\"),\n",
    "    \"Secondary Energy|Electricity|Solid|Fossil|w/ CCS\": (\"Solids\", \"Power Grid\"),\n",
    "    \"Secondary Energy|Electricity|Solid|Fossil|w/o CCS\": (\"Solids\", \"Power Grid\"),\n",
    "    \"Secondary Energy|Electricity|Waste|w/ CCS\": (\"Waste\", \"Power Grid\"),\n",
    "    \"Secondary Energy|Electricity|Waste|w/o CCS\": (\"Waste\", \"Power Grid\"),\n",
    "    \"Secondary Energy|Electricity|Wind|Offshore\": (\"Wind\", \"Power Grid\"),\n",
    "    \"Secondary Energy|Electricity|Wind|Onshore\": (\"Wind\", \"Power Grid\")\n",
    "}\n",
    "\n",
    "\n",
    "data = df.filter(**args,region=\"China\", year=2050, unit=\"EJ/yr\").plot.sankey(mapping=sankey_mapping)\n",
    "# calling `show()` is necessary to have the thumbnail in the gallery overview\n",
    "plotly.io.show(data)"
   ]
  },
  {
   "cell_type": "code",
   "execution_count": null,
   "metadata": {},
   "outputs": [],
   "source": [
    "# Import the library to efficiently search variables\n",
    "import triesearching\n",
    "\n",
    "# Creation of the trie (tree data structure) of our results\n",
    "trie = triesearching.Trie()\n",
    "\n",
    "for x in df.variable:\n",
    "    trie.insert(x)\n",
    "\n",
    "prefix = input(\"Enter a prefix to search for completions: \")\n",
    "completions = triesearching.suggest_completions(trie, prefix)\n",
    "print(\"Completions:\", \"\\n\".join(completions))"
   ]
  }
 ],
 "metadata": {
  "kernelspec": {
   "display_name": "wiliamcformat",
   "language": "python",
   "name": "python3"
  },
  "language_info": {
   "codemirror_mode": {
    "name": "ipython",
    "version": 3
   },
   "file_extension": ".py",
   "mimetype": "text/x-python",
   "name": "python",
   "nbconvert_exporter": "python",
   "pygments_lexer": "ipython3",
   "version": "3.10.14"
  }
 },
 "nbformat": 4,
 "nbformat_minor": 2
}
