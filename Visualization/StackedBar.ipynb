{
 "cells": [
  {
   "cell_type": "markdown",
   "metadata": {},
   "source": [
    "# Stacked Bart Plot"
   ]
  },
  {
   "cell_type": "code",
   "execution_count": null,
   "metadata": {},
   "outputs": [],
   "source": [
    "import matplotlib.pyplot as plt\n",
    "\n",
    "import pyam\n",
    "from pyam.plotting import add_net_values_to_bar_plot\n",
    "path = \"..\\\\Final_script\\\\File_Converted\\\\\"\n",
    "df = pyam.IamDataFrame(path + \"Baseline no policies no CO2taxconverted.csv\")"
   ]
  },
  {
   "cell_type": "markdown",
   "metadata": {},
   "source": [
    "## Stacked Bart plot for a specific region with stacked variables"
   ]
  },
  {
   "cell_type": "code",
   "execution_count": null,
   "metadata": {},
   "outputs": [],
   "source": [
    "args = dict(model=\"WILIAM\", scenario=\"Baseline no policies no CO2tax\")\n",
    "data = df.filter(**args, variable=\"Primary Energy|*\", region=\"World\")\n",
    "\n",
    "data.plot.bar(stacked=True, title=\"Primary energy mix\")\n",
    "plt.legend()\n",
    "plt.tight_layout()\n",
    "plt.show()"
   ]
  },
  {
   "cell_type": "markdown",
   "metadata": {},
   "source": [
    "## Stacked Bart of a specific variable with stacked amount of each region. \n"
   ]
  },
  {
   "cell_type": "code",
   "execution_count": null,
   "metadata": {},
   "outputs": [],
   "source": [
    "args = dict(model=\"WILIAM\", scenario=\"Baseline no policies no CO2tax\")\n",
    "data = df.filter(**args, variable=\"Primary Energy\")\n",
    "\n",
    "data.plot.bar(bars=\"region\",stacked=True, title=\"Primary energy mix\")\n",
    "plt.legend()\n",
    "plt.tight_layout()\n",
    "plt.show()"
   ]
  }
 ],
 "metadata": {
  "kernelspec": {
   "display_name": "IAMC_format",
   "language": "python",
   "name": "python3"
  },
  "language_info": {
   "codemirror_mode": {
    "name": "ipython",
    "version": 3
   },
   "file_extension": ".py",
   "mimetype": "text/x-python",
   "name": "python",
   "nbconvert_exporter": "python",
   "pygments_lexer": "ipython3",
   "version": "3.10.14"
  }
 },
 "nbformat": 4,
 "nbformat_minor": 2
}
