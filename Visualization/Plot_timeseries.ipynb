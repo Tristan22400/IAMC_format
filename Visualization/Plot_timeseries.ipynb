{
 "cells": [
  {
   "cell_type": "code",
   "execution_count": null,
   "metadata": {},
   "outputs": [],
   "source": [
    "import os\n",
    "import pyam\n",
    "import matplotlib.pyplot as plt\n",
    "# Import the library to efficiently search variables\n",
    "import triesearching"
   ]
  },
  {
   "cell_type": "markdown",
   "metadata": {},
   "source": [
    "# Timseseries Plot"
   ]
  },
  {
   "cell_type": "code",
   "execution_count": null,
   "metadata": {},
   "outputs": [],
   "source": [
    "cwd = os.getcwd()\n",
    "\n",
    "# Complete the path to the results file (in IAMC format)\n",
    "path = \"..\\\\Conversion-Script\\\\File_Converted\\\\\"\n",
    "\n",
    "try:\n",
    "    df = pyam.IamDataFrame(path + \"Baseline no policies no CO2taxconverted.csv\")\n",
    "except:\n",
    "    print(\"ERROR opening the file with results in IAMC format\")"
   ]
  },
  {
   "cell_type": "markdown",
   "metadata": {},
   "source": [
    "### Completions Helpers"
   ]
  },
  {
   "cell_type": "code",
   "execution_count": null,
   "metadata": {},
   "outputs": [],
   "source": [
    "# Creation of the trie (tree data structure) of our results\n",
    "trie = triesearching.Trie()\n",
    "\n",
    "for x in df.variable:\n",
    "    trie.insert(x)"
   ]
  },
  {
   "cell_type": "code",
   "execution_count": null,
   "metadata": {},
   "outputs": [],
   "source": [
    "# Enter the prefix of the variable you want to see.\n",
    "\n",
    "prefix = input(\"Enter a prefix to search for completions: \")\n",
    "completions = triesearching.suggest_completions(trie, prefix)\n",
    "print(\"Completions:\", \"\\n\".join(completions))\n"
   ]
  },
  {
   "cell_type": "code",
   "execution_count": null,
   "metadata": {},
   "outputs": [],
   "source": [
    "# Choose one of your wanted variable with the completion\n",
    "model, scenario = \"WILIAM\", \"Baseline no policies no CO2tax\"\n",
    "variable = 'Final Energy|Heat'\n",
    "title = 'Final Energy|Heat'\n",
    "\n",
    "data = df.filter(model=model, scenario=scenario, variable=variable).filter(region=\"World\", keep=False)\n",
    "\n",
    "\n",
    "data.plot(color=\"region\", title= title)\n",
    "data.timeseries()\n",
    "plt.legend(loc=1)\n",
    "plt.tight_layout()\n",
    "plt.show()"
   ]
  }
 ],
 "metadata": {
  "kernelspec": {
   "display_name": "wiliamcformat",
   "language": "python",
   "name": "python3"
  },
  "language_info": {
   "codemirror_mode": {
    "name": "ipython",
    "version": 3
   },
   "file_extension": ".py",
   "mimetype": "text/x-python",
   "name": "python",
   "nbconvert_exporter": "python",
   "pygments_lexer": "ipython3",
   "version": "3.10.14"
  }
 },
 "nbformat": 4,
 "nbformat_minor": 2
}
