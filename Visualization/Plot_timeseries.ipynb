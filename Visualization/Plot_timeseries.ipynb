{
 "cells": [
  {
   "cell_type": "code",
   "execution_count": null,
   "metadata": {},
   "outputs": [],
   "source": [
    "import os\n",
    "import pyam\n",
    "import matplotlib.pyplot as plt\n",
    "# Import the library to efficiently search variables\n",
    "import triesearching"
   ]
  },
  {
   "cell_type": "markdown",
   "metadata": {},
   "source": [
    "Helpers : \n",
    "This text is to help a future user to plot timeseries data in the IAMC format.\n",
    "First of all, make sure you have done the translation of the Wiliam's variable before using this file. \n",
    "If not, go to the ReadMe to know how to do it. \n",
    "\n",
    "The first three cells should be executed to load the file with the data and get all the required variable in the file. \n",
    "\n",
    "If you want to have the list of all scenario, model, region, variables, the execution in a python cell of df.category_wanted gives you a list all the available elements in the Region, Variable, Model and Scenario category. If you want a globally known the name of your variable the completion helpers can be useful. Put the beginning of your variable's name and it gives you all the variable corresponding to this prefix."
   ]
  },
  {
   "cell_type": "markdown",
   "metadata": {},
   "source": [
    "# Timseseries Plot"
   ]
  },
  {
   "cell_type": "code",
   "execution_count": null,
   "metadata": {},
   "outputs": [],
   "source": [
    "cwd = os.getcwd()\n",
    "\n",
    "# Complete the path to the results file (in IAMC format)\n",
    "path = \"..\\\\Conversion-Script\\\\File_Converted\\\\\"\n",
    "\n",
    "try:\n",
    "    df = pyam.IamDataFrame(path + \"Baseline no policies no CO2taxconverted.csv\")\n",
    "except:\n",
    "    print(\"ERROR opening the file with results in IAMC format\")"
   ]
  },
  {
   "cell_type": "markdown",
   "metadata": {},
   "source": [
    "### Completions Helpers"
   ]
  },
  {
   "cell_type": "code",
   "execution_count": null,
   "metadata": {},
   "outputs": [],
   "source": [
    "# Creation of the trie (tree data structure) of our results\n",
    "trie = triesearching.Trie()\n",
    "\n",
    "for x in df.variable:\n",
    "    trie.insert(x)"
   ]
  },
  {
   "cell_type": "code",
   "execution_count": null,
   "metadata": {},
   "outputs": [],
   "source": [
    "# Enter the prefix of the variable you want to see.\n",
    "\n",
    "prefix = input(\"Enter a prefix to search for completions: \")\n",
    "completions = triesearching.suggest_completions(trie, prefix)\n",
    "print(\"Completions:\", \"\\n\".join(completions))\n"
   ]
  },
  {
   "cell_type": "markdown",
   "metadata": {},
   "source": [
    "# Plot differentiate by variable for a same region \n"
   ]
  },
  {
   "cell_type": "code",
   "execution_count": null,
   "metadata": {},
   "outputs": [],
   "source": [
    "\n",
    "model, scenario = \"WILIAM\", \"Baseline no policies no CO2tax\"\n",
    "variable = 'Final Energy|Waste Management|*'\n",
    "title = 'Test Title' # To complete manually\n",
    "region_of_interest = 'Austria' # To complete manually you can put all the existing region that are present in the country_dict file in the path IAMC_format\\Conversion-Script\\Create_Variable_Dict. \n",
    "\n",
    "data = df.filter(model=model, scenario=scenario, variable=variable, region= region_of_interest)\n",
    "\n",
    "data.plot(color=\"variable\", title= title)\n",
    "data.timeseries()\n",
    "plt.legend(loc=1)\n",
    "plt.tight_layout()\n",
    "plt.savefig('Final Energy')\n",
    "plt.show()"
   ]
  },
  {
   "cell_type": "markdown",
   "metadata": {},
   "source": [
    "# Plot of a same variable differentiate by region "
   ]
  },
  {
   "cell_type": "code",
   "execution_count": null,
   "metadata": {},
   "outputs": [],
   "source": [
    "model, scenario = \"WILIAM\", \"Baseline no policies no CO2tax\"\n",
    "variable = 'Final Energy|Waste Management|Heat' # To change the variable you want to plot you can use the tree searching above to find all the available variables.\n",
    "title = 'Test Title' # To complete manually\n",
    "\n",
    "\n",
    "# If you want to remove the region World, you need to add this at the end of the above line .filter(region=\"World\", keep=False)\n",
    "data = df.filter(model=model, scenario=scenario, variable=variable)\n",
    "\n",
    "data.plot(color=\"region\", title=title)\n",
    "data.timeseries()\n",
    "plt.legend(loc=1)\n",
    "plt.tight_layout()\n",
    "plt.savefig('Final Energy')\n",
    "plt.show()"
   ]
  },
  {
   "cell_type": "markdown",
   "metadata": {},
   "source": [
    "# Plot of a same variable with the same region differentiate by scenario "
   ]
  },
  {
   "cell_type": "code",
   "execution_count": null,
   "metadata": {},
   "outputs": [],
   "source": [
    "model  = \"WILIAM\" \n",
    "variable = 'Final Energy|Waste Management|Heat' # To change the variable you want to plot you can use the tree searching above to find all the available variables.\n",
    "title = 'Test Title' # To complete manually\n",
    "region = 'Austria' #To complete manually\n",
    "\n",
    "# If you want to remove the region World, you need to add this at the end of the above line .filter(region=\"World\", keep=False)\n",
    "data = df.filter(model=model, variable=variable, region=region)\n",
    "\n",
    "data.plot(color=\"scenario\", title=title)\n",
    "data.timeseries()\n",
    "plt.legend(loc=1)\n",
    "plt.tight_layout()\n",
    "plt.savefig('Final Energy')\n",
    "plt.show()"
   ]
  }
 ],
 "metadata": {
  "kernelspec": {
   "display_name": "wiliamcformat",
   "language": "python",
   "name": "python3"
  },
  "language_info": {
   "codemirror_mode": {
    "name": "ipython",
    "version": 3
   },
   "file_extension": ".py",
   "mimetype": "text/x-python",
   "name": "python",
   "nbconvert_exporter": "python",
   "pygments_lexer": "ipython3",
   "version": "3.10.14"
  }
 },
 "nbformat": 4,
 "nbformat_minor": 2
}
