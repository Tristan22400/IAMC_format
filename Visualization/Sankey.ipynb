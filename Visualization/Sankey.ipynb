{
 "cells": [
  {
   "cell_type": "code",
   "execution_count": 1,
   "metadata": {},
   "outputs": [],
   "source": [
    "import os\n",
    "import pandas as pd\n",
    "import pyam"
   ]
  },
  {
   "cell_type": "markdown",
   "metadata": {},
   "source": [
    "Some <b>pyam</b> plots like Sankey are built upon <b>plotly</b>, so we need to import the library "
   ]
  },
  {
   "cell_type": "code",
   "execution_count": 2,
   "metadata": {},
   "outputs": [],
   "source": [
    "import plotly"
   ]
  },
  {
   "cell_type": "markdown",
   "metadata": {},
   "source": [
    "Importing WILIAM results in the converted file in IAMC format"
   ]
  },
  {
   "cell_type": "code",
   "execution_count": 3,
   "metadata": {},
   "outputs": [
    {
     "name": "stderr",
     "output_type": "stream",
     "text": [
      "[INFO] 20:38:57 - pyam.core: Reading file ..\\Conversion-Script\\File_Converted\\Baseline no policies no CO2taxconverted.csv\n",
      "c:\\Users\\34670\\.conda\\envs\\wiliamcformat\\Lib\\site-packages\\pyam\\utils.py:318: FutureWarning: The previous implementation of stack is deprecated and will be removed in a future version of pandas. See the What's New notes for pandas 2.1.0 for details. Specify future_stack=True to adopt the new implementation and silence this warning.\n",
      "  .stack(dropna=True)\n"
     ]
    }
   ],
   "source": [
    "# path to the results file (in IAMC format)\n",
    "path = \"..\\\\Final_script\\\\File_Converted\\\\\"\n",
    "try:\n",
    "    # df = pd.read_csv(path + \"Baseline no policies no CO2taxconverted.csv\", sep=\",\")\n",
    "    df = pyam.IamDataFrame(path + \"Baseline no policies no CO2taxconverted.csv\")\n",
    "except:\n",
    "    print(\"ERROR opening the file with results in IAMC format\")"
   ]
  },
  {
   "cell_type": "code",
   "execution_count": 78,
   "metadata": {},
   "outputs": [
    {
     "data": {
      "text/plain": [
       "['Capacity Requirements|Electricity|Power|Battery Electric Vehicles',\n",
       " 'Capacity|Electricity|Electric Vehicles Chargers',\n",
       " 'Capacity|Electricity|Power|Battery Electric Vehicles With Sc',\n",
       " 'Capacity|Electricity|Power|Battery Electric Vehicles|Lfp|Bev|Bus',\n",
       " 'Capacity|Electricity|Power|Battery Electric Vehicles|Lfp|Bev|Hdv',\n",
       " 'Capacity|Electricity|Power|Battery Electric Vehicles|Lfp|Bev|Ldv',\n",
       " 'Capacity|Electricity|Power|Battery Electric Vehicles|Lfp|Bev|Mdv',\n",
       " 'Capacity|Electricity|Power|Battery Electric Vehicles|Lfp|Bev|Motorcycles 2w 3w',\n",
       " 'Capacity|Electricity|Power|Battery Electric Vehicles|Lfp|Ev|Bus',\n",
       " 'Capacity|Electricity|Power|Battery Electric Vehicles|Lfp|Ev|Hdv',\n",
       " 'Capacity|Electricity|Power|Battery Electric Vehicles|Lfp|Ev|Ldv',\n",
       " 'Capacity|Electricity|Power|Battery Electric Vehicles|Lfp|Ev|Mdv',\n",
       " 'Capacity|Electricity|Power|Battery Electric Vehicles|Lfp|Ev|Motorcycles 2w 3w',\n",
       " 'Capacity|Electricity|Power|Battery Electric Vehicles|Lfp|Fcev|Bus',\n",
       " 'Capacity|Electricity|Power|Battery Electric Vehicles|Lfp|Fcev|Hdv',\n",
       " 'Capacity|Electricity|Power|Battery Electric Vehicles|Lfp|Fcev|Ldv',\n",
       " 'Capacity|Electricity|Power|Battery Electric Vehicles|Lfp|Fcev|Mdv',\n",
       " 'Capacity|Electricity|Power|Battery Electric Vehicles|Lfp|Fcev|Motorcycles 2w 3w',\n",
       " 'Capacity|Electricity|Power|Battery Electric Vehicles|Lfp|Hev|Bus',\n",
       " 'Capacity|Electricity|Power|Battery Electric Vehicles|Lfp|Hev|Hdv',\n",
       " 'Capacity|Electricity|Power|Battery Electric Vehicles|Lfp|Hev|Ldv',\n",
       " 'Capacity|Electricity|Power|Battery Electric Vehicles|Lfp|Hev|Mdv',\n",
       " 'Capacity|Electricity|Power|Battery Electric Vehicles|Lfp|Hev|Motorcycles 2w 3w',\n",
       " 'Capacity|Electricity|Power|Battery Electric Vehicles|Lfp|Hpv|Bus',\n",
       " 'Capacity|Electricity|Power|Battery Electric Vehicles|Lfp|Hpv|Hdv',\n",
       " 'Capacity|Electricity|Power|Battery Electric Vehicles|Lfp|Hpv|Ldv',\n",
       " 'Capacity|Electricity|Power|Battery Electric Vehicles|Lfp|Hpv|Mdv',\n",
       " 'Capacity|Electricity|Power|Battery Electric Vehicles|Lfp|Hpv|Motorcycles 2w 3w',\n",
       " 'Capacity|Electricity|Power|Battery Electric Vehicles|Lfp|Ice Diesel|Bus',\n",
       " 'Capacity|Electricity|Power|Battery Electric Vehicles|Lfp|Ice Diesel|Hdv',\n",
       " 'Capacity|Electricity|Power|Battery Electric Vehicles|Lfp|Ice Diesel|Ldv',\n",
       " 'Capacity|Electricity|Power|Battery Electric Vehicles|Lfp|Ice Diesel|Mdv',\n",
       " 'Capacity|Electricity|Power|Battery Electric Vehicles|Lfp|Ice Diesel|Motorcycles 2w 3w',\n",
       " 'Capacity|Electricity|Power|Battery Electric Vehicles|Lfp|Ice Gasoline|Bus',\n",
       " 'Capacity|Electricity|Power|Battery Electric Vehicles|Lfp|Ice Gasoline|Hdv',\n",
       " 'Capacity|Electricity|Power|Battery Electric Vehicles|Lfp|Ice Gasoline|Ldv',\n",
       " 'Capacity|Electricity|Power|Battery Electric Vehicles|Lfp|Ice Gasoline|Mdv',\n",
       " 'Capacity|Electricity|Power|Battery Electric Vehicles|Lfp|Ice Gasoline|Motorcycles 2w 3w',\n",
       " 'Capacity|Electricity|Power|Battery Electric Vehicles|Lfp|Ice Gas|Bus',\n",
       " 'Capacity|Electricity|Power|Battery Electric Vehicles|Lfp|Ice Gas|Hdv',\n",
       " 'Capacity|Electricity|Power|Battery Electric Vehicles|Lfp|Ice Gas|Ldv',\n",
       " 'Capacity|Electricity|Power|Battery Electric Vehicles|Lfp|Ice Gas|Mdv',\n",
       " 'Capacity|Electricity|Power|Battery Electric Vehicles|Lfp|Ice Gas|Motorcycles 2w 3w',\n",
       " 'Capacity|Electricity|Power|Battery Electric Vehicles|Lfp|Ice Lpg|Bus',\n",
       " 'Capacity|Electricity|Power|Battery Electric Vehicles|Lfp|Ice Lpg|Hdv',\n",
       " 'Capacity|Electricity|Power|Battery Electric Vehicles|Lfp|Ice Lpg|Ldv',\n",
       " 'Capacity|Electricity|Power|Battery Electric Vehicles|Lfp|Ice Lpg|Mdv',\n",
       " 'Capacity|Electricity|Power|Battery Electric Vehicles|Lfp|Ice Lpg|Motorcycles 2w 3w',\n",
       " 'Capacity|Electricity|Power|Battery Electric Vehicles|Lfp|Phev|Bus',\n",
       " 'Capacity|Electricity|Power|Battery Electric Vehicles|Lfp|Phev|Hdv',\n",
       " 'Capacity|Electricity|Power|Battery Electric Vehicles|Lfp|Phev|Ldv',\n",
       " 'Capacity|Electricity|Power|Battery Electric Vehicles|Lfp|Phev|Mdv',\n",
       " 'Capacity|Electricity|Power|Battery Electric Vehicles|Lfp|Phev|Motorcycles 2w 3w',\n",
       " 'Capacity|Electricity|Power|Battery Electric Vehicles|Lmo|Bev|Bus',\n",
       " 'Capacity|Electricity|Power|Battery Electric Vehicles|Lmo|Bev|Hdv',\n",
       " 'Capacity|Electricity|Power|Battery Electric Vehicles|Lmo|Bev|Ldv',\n",
       " 'Capacity|Electricity|Power|Battery Electric Vehicles|Lmo|Bev|Mdv',\n",
       " 'Capacity|Electricity|Power|Battery Electric Vehicles|Lmo|Bev|Motorcycles 2w 3w',\n",
       " 'Capacity|Electricity|Power|Battery Electric Vehicles|Lmo|Ev|Bus',\n",
       " 'Capacity|Electricity|Power|Battery Electric Vehicles|Lmo|Ev|Hdv',\n",
       " 'Capacity|Electricity|Power|Battery Electric Vehicles|Lmo|Ev|Ldv',\n",
       " 'Capacity|Electricity|Power|Battery Electric Vehicles|Lmo|Ev|Mdv',\n",
       " 'Capacity|Electricity|Power|Battery Electric Vehicles|Lmo|Ev|Motorcycles 2w 3w',\n",
       " 'Capacity|Electricity|Power|Battery Electric Vehicles|Lmo|Fcev|Bus',\n",
       " 'Capacity|Electricity|Power|Battery Electric Vehicles|Lmo|Fcev|Hdv',\n",
       " 'Capacity|Electricity|Power|Battery Electric Vehicles|Lmo|Fcev|Ldv',\n",
       " 'Capacity|Electricity|Power|Battery Electric Vehicles|Lmo|Fcev|Mdv',\n",
       " 'Capacity|Electricity|Power|Battery Electric Vehicles|Lmo|Fcev|Motorcycles 2w 3w',\n",
       " 'Capacity|Electricity|Power|Battery Electric Vehicles|Lmo|Hev|Bus',\n",
       " 'Capacity|Electricity|Power|Battery Electric Vehicles|Lmo|Hev|Hdv',\n",
       " 'Capacity|Electricity|Power|Battery Electric Vehicles|Lmo|Hev|Ldv',\n",
       " 'Capacity|Electricity|Power|Battery Electric Vehicles|Lmo|Hev|Mdv',\n",
       " 'Capacity|Electricity|Power|Battery Electric Vehicles|Lmo|Hev|Motorcycles 2w 3w',\n",
       " 'Capacity|Electricity|Power|Battery Electric Vehicles|Lmo|Hpv|Bus',\n",
       " 'Capacity|Electricity|Power|Battery Electric Vehicles|Lmo|Hpv|Hdv',\n",
       " 'Capacity|Electricity|Power|Battery Electric Vehicles|Lmo|Hpv|Ldv',\n",
       " 'Capacity|Electricity|Power|Battery Electric Vehicles|Lmo|Hpv|Mdv',\n",
       " 'Capacity|Electricity|Power|Battery Electric Vehicles|Lmo|Hpv|Motorcycles 2w 3w',\n",
       " 'Capacity|Electricity|Power|Battery Electric Vehicles|Lmo|Ice Diesel|Bus',\n",
       " 'Capacity|Electricity|Power|Battery Electric Vehicles|Lmo|Ice Diesel|Hdv',\n",
       " 'Capacity|Electricity|Power|Battery Electric Vehicles|Lmo|Ice Diesel|Ldv',\n",
       " 'Capacity|Electricity|Power|Battery Electric Vehicles|Lmo|Ice Diesel|Mdv',\n",
       " 'Capacity|Electricity|Power|Battery Electric Vehicles|Lmo|Ice Diesel|Motorcycles 2w 3w',\n",
       " 'Capacity|Electricity|Power|Battery Electric Vehicles|Lmo|Ice Gasoline|Bus',\n",
       " 'Capacity|Electricity|Power|Battery Electric Vehicles|Lmo|Ice Gasoline|Hdv',\n",
       " 'Capacity|Electricity|Power|Battery Electric Vehicles|Lmo|Ice Gasoline|Ldv',\n",
       " 'Capacity|Electricity|Power|Battery Electric Vehicles|Lmo|Ice Gasoline|Mdv',\n",
       " 'Capacity|Electricity|Power|Battery Electric Vehicles|Lmo|Ice Gasoline|Motorcycles 2w 3w',\n",
       " 'Capacity|Electricity|Power|Battery Electric Vehicles|Lmo|Ice Gas|Bus',\n",
       " 'Capacity|Electricity|Power|Battery Electric Vehicles|Lmo|Ice Gas|Hdv',\n",
       " 'Capacity|Electricity|Power|Battery Electric Vehicles|Lmo|Ice Gas|Ldv',\n",
       " 'Capacity|Electricity|Power|Battery Electric Vehicles|Lmo|Ice Gas|Mdv',\n",
       " 'Capacity|Electricity|Power|Battery Electric Vehicles|Lmo|Ice Gas|Motorcycles 2w 3w',\n",
       " 'Capacity|Electricity|Power|Battery Electric Vehicles|Lmo|Ice Lpg|Bus',\n",
       " 'Capacity|Electricity|Power|Battery Electric Vehicles|Lmo|Ice Lpg|Hdv',\n",
       " 'Capacity|Electricity|Power|Battery Electric Vehicles|Lmo|Ice Lpg|Ldv',\n",
       " 'Capacity|Electricity|Power|Battery Electric Vehicles|Lmo|Ice Lpg|Mdv',\n",
       " 'Capacity|Electricity|Power|Battery Electric Vehicles|Lmo|Ice Lpg|Motorcycles 2w 3w',\n",
       " 'Capacity|Electricity|Power|Battery Electric Vehicles|Lmo|Phev|Bus',\n",
       " 'Capacity|Electricity|Power|Battery Electric Vehicles|Lmo|Phev|Hdv',\n",
       " 'Capacity|Electricity|Power|Battery Electric Vehicles|Lmo|Phev|Ldv',\n",
       " 'Capacity|Electricity|Power|Battery Electric Vehicles|Lmo|Phev|Mdv',\n",
       " 'Capacity|Electricity|Power|Battery Electric Vehicles|Lmo|Phev|Motorcycles 2w 3w',\n",
       " 'Capacity|Electricity|Power|Battery Electric Vehicles|Nca|Bev|Bus',\n",
       " 'Capacity|Electricity|Power|Battery Electric Vehicles|Nca|Bev|Hdv',\n",
       " 'Capacity|Electricity|Power|Battery Electric Vehicles|Nca|Bev|Ldv',\n",
       " 'Capacity|Electricity|Power|Battery Electric Vehicles|Nca|Bev|Mdv',\n",
       " 'Capacity|Electricity|Power|Battery Electric Vehicles|Nca|Bev|Motorcycles 2w 3w',\n",
       " 'Capacity|Electricity|Power|Battery Electric Vehicles|Nca|Ev|Bus',\n",
       " 'Capacity|Electricity|Power|Battery Electric Vehicles|Nca|Ev|Hdv',\n",
       " 'Capacity|Electricity|Power|Battery Electric Vehicles|Nca|Ev|Ldv',\n",
       " 'Capacity|Electricity|Power|Battery Electric Vehicles|Nca|Ev|Mdv',\n",
       " 'Capacity|Electricity|Power|Battery Electric Vehicles|Nca|Ev|Motorcycles 2w 3w',\n",
       " 'Capacity|Electricity|Power|Battery Electric Vehicles|Nca|Fcev|Bus',\n",
       " 'Capacity|Electricity|Power|Battery Electric Vehicles|Nca|Fcev|Hdv',\n",
       " 'Capacity|Electricity|Power|Battery Electric Vehicles|Nca|Fcev|Ldv',\n",
       " 'Capacity|Electricity|Power|Battery Electric Vehicles|Nca|Fcev|Mdv',\n",
       " 'Capacity|Electricity|Power|Battery Electric Vehicles|Nca|Fcev|Motorcycles 2w 3w',\n",
       " 'Capacity|Electricity|Power|Battery Electric Vehicles|Nca|Hev|Bus',\n",
       " 'Capacity|Electricity|Power|Battery Electric Vehicles|Nca|Hev|Hdv',\n",
       " 'Capacity|Electricity|Power|Battery Electric Vehicles|Nca|Hev|Ldv',\n",
       " 'Capacity|Electricity|Power|Battery Electric Vehicles|Nca|Hev|Mdv',\n",
       " 'Capacity|Electricity|Power|Battery Electric Vehicles|Nca|Hev|Motorcycles 2w 3w',\n",
       " 'Capacity|Electricity|Power|Battery Electric Vehicles|Nca|Hpv|Bus',\n",
       " 'Capacity|Electricity|Power|Battery Electric Vehicles|Nca|Hpv|Hdv',\n",
       " 'Capacity|Electricity|Power|Battery Electric Vehicles|Nca|Hpv|Ldv',\n",
       " 'Capacity|Electricity|Power|Battery Electric Vehicles|Nca|Hpv|Mdv',\n",
       " 'Capacity|Electricity|Power|Battery Electric Vehicles|Nca|Hpv|Motorcycles 2w 3w',\n",
       " 'Capacity|Electricity|Power|Battery Electric Vehicles|Nca|Ice Diesel|Bus',\n",
       " 'Capacity|Electricity|Power|Battery Electric Vehicles|Nca|Ice Diesel|Hdv',\n",
       " 'Capacity|Electricity|Power|Battery Electric Vehicles|Nca|Ice Diesel|Ldv',\n",
       " 'Capacity|Electricity|Power|Battery Electric Vehicles|Nca|Ice Diesel|Mdv',\n",
       " 'Capacity|Electricity|Power|Battery Electric Vehicles|Nca|Ice Diesel|Motorcycles 2w 3w',\n",
       " 'Capacity|Electricity|Power|Battery Electric Vehicles|Nca|Ice Gasoline|Bus',\n",
       " 'Capacity|Electricity|Power|Battery Electric Vehicles|Nca|Ice Gasoline|Hdv',\n",
       " 'Capacity|Electricity|Power|Battery Electric Vehicles|Nca|Ice Gasoline|Ldv',\n",
       " 'Capacity|Electricity|Power|Battery Electric Vehicles|Nca|Ice Gasoline|Mdv',\n",
       " 'Capacity|Electricity|Power|Battery Electric Vehicles|Nca|Ice Gasoline|Motorcycles 2w 3w',\n",
       " 'Capacity|Electricity|Power|Battery Electric Vehicles|Nca|Ice Gas|Bus',\n",
       " 'Capacity|Electricity|Power|Battery Electric Vehicles|Nca|Ice Gas|Hdv',\n",
       " 'Capacity|Electricity|Power|Battery Electric Vehicles|Nca|Ice Gas|Ldv',\n",
       " 'Capacity|Electricity|Power|Battery Electric Vehicles|Nca|Ice Gas|Mdv',\n",
       " 'Capacity|Electricity|Power|Battery Electric Vehicles|Nca|Ice Gas|Motorcycles 2w 3w',\n",
       " 'Capacity|Electricity|Power|Battery Electric Vehicles|Nca|Ice Lpg|Bus',\n",
       " 'Capacity|Electricity|Power|Battery Electric Vehicles|Nca|Ice Lpg|Hdv',\n",
       " 'Capacity|Electricity|Power|Battery Electric Vehicles|Nca|Ice Lpg|Ldv',\n",
       " 'Capacity|Electricity|Power|Battery Electric Vehicles|Nca|Ice Lpg|Mdv',\n",
       " 'Capacity|Electricity|Power|Battery Electric Vehicles|Nca|Ice Lpg|Motorcycles 2w 3w',\n",
       " 'Capacity|Electricity|Power|Battery Electric Vehicles|Nca|Phev|Bus',\n",
       " 'Capacity|Electricity|Power|Battery Electric Vehicles|Nca|Phev|Hdv',\n",
       " 'Capacity|Electricity|Power|Battery Electric Vehicles|Nca|Phev|Ldv',\n",
       " 'Capacity|Electricity|Power|Battery Electric Vehicles|Nca|Phev|Mdv',\n",
       " 'Capacity|Electricity|Power|Battery Electric Vehicles|Nca|Phev|Motorcycles 2w 3w',\n",
       " 'Capacity|Electricity|Power|Battery Electric Vehicles|Nmc622|Bev|Bus',\n",
       " 'Capacity|Electricity|Power|Battery Electric Vehicles|Nmc622|Bev|Hdv',\n",
       " 'Capacity|Electricity|Power|Battery Electric Vehicles|Nmc622|Bev|Ldv',\n",
       " 'Capacity|Electricity|Power|Battery Electric Vehicles|Nmc622|Bev|Mdv',\n",
       " 'Capacity|Electricity|Power|Battery Electric Vehicles|Nmc622|Bev|Motorcycles 2w 3w',\n",
       " 'Capacity|Electricity|Power|Battery Electric Vehicles|Nmc622|Ev|Bus',\n",
       " 'Capacity|Electricity|Power|Battery Electric Vehicles|Nmc622|Ev|Hdv',\n",
       " 'Capacity|Electricity|Power|Battery Electric Vehicles|Nmc622|Ev|Ldv',\n",
       " 'Capacity|Electricity|Power|Battery Electric Vehicles|Nmc622|Ev|Mdv',\n",
       " 'Capacity|Electricity|Power|Battery Electric Vehicles|Nmc622|Ev|Motorcycles 2w 3w',\n",
       " 'Capacity|Electricity|Power|Battery Electric Vehicles|Nmc622|Fcev|Bus',\n",
       " 'Capacity|Electricity|Power|Battery Electric Vehicles|Nmc622|Fcev|Hdv',\n",
       " 'Capacity|Electricity|Power|Battery Electric Vehicles|Nmc622|Fcev|Ldv',\n",
       " 'Capacity|Electricity|Power|Battery Electric Vehicles|Nmc622|Fcev|Mdv',\n",
       " 'Capacity|Electricity|Power|Battery Electric Vehicles|Nmc622|Fcev|Motorcycles 2w 3w',\n",
       " 'Capacity|Electricity|Power|Battery Electric Vehicles|Nmc622|Hev|Bus',\n",
       " 'Capacity|Electricity|Power|Battery Electric Vehicles|Nmc622|Hev|Hdv',\n",
       " 'Capacity|Electricity|Power|Battery Electric Vehicles|Nmc622|Hev|Ldv',\n",
       " 'Capacity|Electricity|Power|Battery Electric Vehicles|Nmc622|Hev|Mdv',\n",
       " 'Capacity|Electricity|Power|Battery Electric Vehicles|Nmc622|Hev|Motorcycles 2w 3w',\n",
       " 'Capacity|Electricity|Power|Battery Electric Vehicles|Nmc622|Hpv|Bus',\n",
       " 'Capacity|Electricity|Power|Battery Electric Vehicles|Nmc622|Hpv|Hdv',\n",
       " 'Capacity|Electricity|Power|Battery Electric Vehicles|Nmc622|Hpv|Ldv',\n",
       " 'Capacity|Electricity|Power|Battery Electric Vehicles|Nmc622|Hpv|Mdv',\n",
       " 'Capacity|Electricity|Power|Battery Electric Vehicles|Nmc622|Hpv|Motorcycles 2w 3w',\n",
       " 'Capacity|Electricity|Power|Battery Electric Vehicles|Nmc622|Ice Diesel|Bus',\n",
       " 'Capacity|Electricity|Power|Battery Electric Vehicles|Nmc622|Ice Diesel|Hdv',\n",
       " 'Capacity|Electricity|Power|Battery Electric Vehicles|Nmc622|Ice Diesel|Ldv',\n",
       " 'Capacity|Electricity|Power|Battery Electric Vehicles|Nmc622|Ice Diesel|Mdv',\n",
       " 'Capacity|Electricity|Power|Battery Electric Vehicles|Nmc622|Ice Diesel|Motorcycles 2w 3w',\n",
       " 'Capacity|Electricity|Power|Battery Electric Vehicles|Nmc622|Ice Gasoline|Bus',\n",
       " 'Capacity|Electricity|Power|Battery Electric Vehicles|Nmc622|Ice Gasoline|Hdv',\n",
       " 'Capacity|Electricity|Power|Battery Electric Vehicles|Nmc622|Ice Gasoline|Ldv',\n",
       " 'Capacity|Electricity|Power|Battery Electric Vehicles|Nmc622|Ice Gasoline|Mdv',\n",
       " 'Capacity|Electricity|Power|Battery Electric Vehicles|Nmc622|Ice Gasoline|Motorcycles 2w 3w',\n",
       " 'Capacity|Electricity|Power|Battery Electric Vehicles|Nmc622|Ice Gas|Bus',\n",
       " 'Capacity|Electricity|Power|Battery Electric Vehicles|Nmc622|Ice Gas|Hdv',\n",
       " 'Capacity|Electricity|Power|Battery Electric Vehicles|Nmc622|Ice Gas|Ldv',\n",
       " 'Capacity|Electricity|Power|Battery Electric Vehicles|Nmc622|Ice Gas|Mdv',\n",
       " 'Capacity|Electricity|Power|Battery Electric Vehicles|Nmc622|Ice Gas|Motorcycles 2w 3w',\n",
       " 'Capacity|Electricity|Power|Battery Electric Vehicles|Nmc622|Ice Lpg|Bus',\n",
       " 'Capacity|Electricity|Power|Battery Electric Vehicles|Nmc622|Ice Lpg|Hdv',\n",
       " 'Capacity|Electricity|Power|Battery Electric Vehicles|Nmc622|Ice Lpg|Ldv',\n",
       " 'Capacity|Electricity|Power|Battery Electric Vehicles|Nmc622|Ice Lpg|Mdv',\n",
       " 'Capacity|Electricity|Power|Battery Electric Vehicles|Nmc622|Ice Lpg|Motorcycles 2w 3w',\n",
       " 'Capacity|Electricity|Power|Battery Electric Vehicles|Nmc622|Phev|Bus',\n",
       " 'Capacity|Electricity|Power|Battery Electric Vehicles|Nmc622|Phev|Hdv',\n",
       " 'Capacity|Electricity|Power|Battery Electric Vehicles|Nmc622|Phev|Ldv',\n",
       " 'Capacity|Electricity|Power|Battery Electric Vehicles|Nmc622|Phev|Mdv',\n",
       " 'Capacity|Electricity|Power|Battery Electric Vehicles|Nmc622|Phev|Motorcycles 2w 3w',\n",
       " 'Capacity|Electricity|Power|Battery Electric Vehicles|Nmc811|Bev|Bus',\n",
       " 'Capacity|Electricity|Power|Battery Electric Vehicles|Nmc811|Bev|Hdv',\n",
       " 'Capacity|Electricity|Power|Battery Electric Vehicles|Nmc811|Bev|Ldv',\n",
       " 'Capacity|Electricity|Power|Battery Electric Vehicles|Nmc811|Bev|Mdv',\n",
       " 'Capacity|Electricity|Power|Battery Electric Vehicles|Nmc811|Bev|Motorcycles 2w 3w',\n",
       " 'Capacity|Electricity|Power|Battery Electric Vehicles|Nmc811|Ev|Bus',\n",
       " 'Capacity|Electricity|Power|Battery Electric Vehicles|Nmc811|Ev|Hdv',\n",
       " 'Capacity|Electricity|Power|Battery Electric Vehicles|Nmc811|Ev|Ldv',\n",
       " 'Capacity|Electricity|Power|Battery Electric Vehicles|Nmc811|Ev|Mdv',\n",
       " 'Capacity|Electricity|Power|Battery Electric Vehicles|Nmc811|Ev|Motorcycles 2w 3w',\n",
       " 'Capacity|Electricity|Power|Battery Electric Vehicles|Nmc811|Fcev|Bus',\n",
       " 'Capacity|Electricity|Power|Battery Electric Vehicles|Nmc811|Fcev|Hdv',\n",
       " 'Capacity|Electricity|Power|Battery Electric Vehicles|Nmc811|Fcev|Ldv',\n",
       " 'Capacity|Electricity|Power|Battery Electric Vehicles|Nmc811|Fcev|Mdv',\n",
       " 'Capacity|Electricity|Power|Battery Electric Vehicles|Nmc811|Fcev|Motorcycles 2w 3w',\n",
       " 'Capacity|Electricity|Power|Battery Electric Vehicles|Nmc811|Hev|Bus',\n",
       " 'Capacity|Electricity|Power|Battery Electric Vehicles|Nmc811|Hev|Hdv',\n",
       " 'Capacity|Electricity|Power|Battery Electric Vehicles|Nmc811|Hev|Ldv',\n",
       " 'Capacity|Electricity|Power|Battery Electric Vehicles|Nmc811|Hev|Mdv',\n",
       " 'Capacity|Electricity|Power|Battery Electric Vehicles|Nmc811|Hev|Motorcycles 2w 3w',\n",
       " 'Capacity|Electricity|Power|Battery Electric Vehicles|Nmc811|Hpv|Bus',\n",
       " 'Capacity|Electricity|Power|Battery Electric Vehicles|Nmc811|Hpv|Hdv',\n",
       " 'Capacity|Electricity|Power|Battery Electric Vehicles|Nmc811|Hpv|Ldv',\n",
       " 'Capacity|Electricity|Power|Battery Electric Vehicles|Nmc811|Hpv|Mdv',\n",
       " 'Capacity|Electricity|Power|Battery Electric Vehicles|Nmc811|Hpv|Motorcycles 2w 3w',\n",
       " 'Capacity|Electricity|Power|Battery Electric Vehicles|Nmc811|Ice Diesel|Bus',\n",
       " 'Capacity|Electricity|Power|Battery Electric Vehicles|Nmc811|Ice Diesel|Hdv',\n",
       " 'Capacity|Electricity|Power|Battery Electric Vehicles|Nmc811|Ice Diesel|Ldv',\n",
       " 'Capacity|Electricity|Power|Battery Electric Vehicles|Nmc811|Ice Diesel|Mdv',\n",
       " 'Capacity|Electricity|Power|Battery Electric Vehicles|Nmc811|Ice Diesel|Motorcycles 2w 3w',\n",
       " 'Capacity|Electricity|Power|Battery Electric Vehicles|Nmc811|Ice Gasoline|Bus',\n",
       " 'Capacity|Electricity|Power|Battery Electric Vehicles|Nmc811|Ice Gasoline|Hdv',\n",
       " 'Capacity|Electricity|Power|Battery Electric Vehicles|Nmc811|Ice Gasoline|Ldv',\n",
       " 'Capacity|Electricity|Power|Battery Electric Vehicles|Nmc811|Ice Gasoline|Mdv',\n",
       " 'Capacity|Electricity|Power|Battery Electric Vehicles|Nmc811|Ice Gasoline|Motorcycles 2w 3w',\n",
       " 'Capacity|Electricity|Power|Battery Electric Vehicles|Nmc811|Ice Gas|Bus',\n",
       " 'Capacity|Electricity|Power|Battery Electric Vehicles|Nmc811|Ice Gas|Hdv',\n",
       " 'Capacity|Electricity|Power|Battery Electric Vehicles|Nmc811|Ice Gas|Ldv',\n",
       " 'Capacity|Electricity|Power|Battery Electric Vehicles|Nmc811|Ice Gas|Mdv',\n",
       " 'Capacity|Electricity|Power|Battery Electric Vehicles|Nmc811|Ice Gas|Motorcycles 2w 3w',\n",
       " 'Capacity|Electricity|Power|Battery Electric Vehicles|Nmc811|Ice Lpg|Bus',\n",
       " 'Capacity|Electricity|Power|Battery Electric Vehicles|Nmc811|Ice Lpg|Hdv',\n",
       " 'Capacity|Electricity|Power|Battery Electric Vehicles|Nmc811|Ice Lpg|Ldv',\n",
       " 'Capacity|Electricity|Power|Battery Electric Vehicles|Nmc811|Ice Lpg|Mdv',\n",
       " 'Capacity|Electricity|Power|Battery Electric Vehicles|Nmc811|Ice Lpg|Motorcycles 2w 3w',\n",
       " 'Capacity|Electricity|Power|Battery Electric Vehicles|Nmc811|Phev|Bus',\n",
       " 'Capacity|Electricity|Power|Battery Electric Vehicles|Nmc811|Phev|Hdv',\n",
       " 'Capacity|Electricity|Power|Battery Electric Vehicles|Nmc811|Phev|Ldv',\n",
       " 'Capacity|Electricity|Power|Battery Electric Vehicles|Nmc811|Phev|Mdv',\n",
       " 'Capacity|Electricity|Power|Battery Electric Vehicles|Nmc811|Phev|Motorcycles 2w 3w',\n",
       " 'Capacity|Electricity|Storage|Battery Electric Vehicles With Sc',\n",
       " 'Capacity|Electricity|Storage|Battery Electric Vehicles|Lfp|Bev|Bus',\n",
       " 'Capacity|Electricity|Storage|Battery Electric Vehicles|Lfp|Bev|Hdv',\n",
       " 'Capacity|Electricity|Storage|Battery Electric Vehicles|Lfp|Bev|Ldv',\n",
       " 'Capacity|Electricity|Storage|Battery Electric Vehicles|Lfp|Bev|Mdv',\n",
       " 'Capacity|Electricity|Storage|Battery Electric Vehicles|Lfp|Bev|Motorcycles 2w 3w',\n",
       " 'Capacity|Electricity|Storage|Battery Electric Vehicles|Lfp|Ev|Bus',\n",
       " 'Capacity|Electricity|Storage|Battery Electric Vehicles|Lfp|Ev|Hdv',\n",
       " 'Capacity|Electricity|Storage|Battery Electric Vehicles|Lfp|Ev|Ldv',\n",
       " 'Capacity|Electricity|Storage|Battery Electric Vehicles|Lfp|Ev|Mdv',\n",
       " 'Capacity|Electricity|Storage|Battery Electric Vehicles|Lfp|Ev|Motorcycles 2w 3w',\n",
       " 'Capacity|Electricity|Storage|Battery Electric Vehicles|Lfp|Fcev|Bus',\n",
       " 'Capacity|Electricity|Storage|Battery Electric Vehicles|Lfp|Fcev|Hdv',\n",
       " 'Capacity|Electricity|Storage|Battery Electric Vehicles|Lfp|Fcev|Ldv',\n",
       " 'Capacity|Electricity|Storage|Battery Electric Vehicles|Lfp|Fcev|Mdv',\n",
       " 'Capacity|Electricity|Storage|Battery Electric Vehicles|Lfp|Fcev|Motorcycles 2w 3w',\n",
       " 'Capacity|Electricity|Storage|Battery Electric Vehicles|Lfp|Hev|Bus',\n",
       " 'Capacity|Electricity|Storage|Battery Electric Vehicles|Lfp|Hev|Hdv',\n",
       " 'Capacity|Electricity|Storage|Battery Electric Vehicles|Lfp|Hev|Ldv',\n",
       " 'Capacity|Electricity|Storage|Battery Electric Vehicles|Lfp|Hev|Mdv',\n",
       " 'Capacity|Electricity|Storage|Battery Electric Vehicles|Lfp|Hev|Motorcycles 2w 3w',\n",
       " 'Capacity|Electricity|Storage|Battery Electric Vehicles|Lfp|Hpv|Bus',\n",
       " 'Capacity|Electricity|Storage|Battery Electric Vehicles|Lfp|Hpv|Hdv',\n",
       " 'Capacity|Electricity|Storage|Battery Electric Vehicles|Lfp|Hpv|Ldv',\n",
       " 'Capacity|Electricity|Storage|Battery Electric Vehicles|Lfp|Hpv|Mdv',\n",
       " 'Capacity|Electricity|Storage|Battery Electric Vehicles|Lfp|Hpv|Motorcycles 2w 3w',\n",
       " 'Capacity|Electricity|Storage|Battery Electric Vehicles|Lfp|Ice Diesel|Bus',\n",
       " 'Capacity|Electricity|Storage|Battery Electric Vehicles|Lfp|Ice Diesel|Hdv',\n",
       " 'Capacity|Electricity|Storage|Battery Electric Vehicles|Lfp|Ice Diesel|Ldv',\n",
       " 'Capacity|Electricity|Storage|Battery Electric Vehicles|Lfp|Ice Diesel|Mdv',\n",
       " 'Capacity|Electricity|Storage|Battery Electric Vehicles|Lfp|Ice Diesel|Motorcycles 2w 3w',\n",
       " 'Capacity|Electricity|Storage|Battery Electric Vehicles|Lfp|Ice Gasoline|Bus',\n",
       " 'Capacity|Electricity|Storage|Battery Electric Vehicles|Lfp|Ice Gasoline|Hdv',\n",
       " 'Capacity|Electricity|Storage|Battery Electric Vehicles|Lfp|Ice Gasoline|Ldv',\n",
       " 'Capacity|Electricity|Storage|Battery Electric Vehicles|Lfp|Ice Gasoline|Mdv',\n",
       " 'Capacity|Electricity|Storage|Battery Electric Vehicles|Lfp|Ice Gasoline|Motorcycles 2w 3w',\n",
       " 'Capacity|Electricity|Storage|Battery Electric Vehicles|Lfp|Ice Gas|Bus',\n",
       " 'Capacity|Electricity|Storage|Battery Electric Vehicles|Lfp|Ice Gas|Hdv',\n",
       " 'Capacity|Electricity|Storage|Battery Electric Vehicles|Lfp|Ice Gas|Ldv',\n",
       " 'Capacity|Electricity|Storage|Battery Electric Vehicles|Lfp|Ice Gas|Mdv',\n",
       " 'Capacity|Electricity|Storage|Battery Electric Vehicles|Lfp|Ice Gas|Motorcycles 2w 3w',\n",
       " 'Capacity|Electricity|Storage|Battery Electric Vehicles|Lfp|Ice Lpg|Bus',\n",
       " 'Capacity|Electricity|Storage|Battery Electric Vehicles|Lfp|Ice Lpg|Hdv',\n",
       " 'Capacity|Electricity|Storage|Battery Electric Vehicles|Lfp|Ice Lpg|Ldv',\n",
       " 'Capacity|Electricity|Storage|Battery Electric Vehicles|Lfp|Ice Lpg|Mdv',\n",
       " 'Capacity|Electricity|Storage|Battery Electric Vehicles|Lfp|Ice Lpg|Motorcycles 2w 3w',\n",
       " 'Capacity|Electricity|Storage|Battery Electric Vehicles|Lfp|Phev|Bus',\n",
       " 'Capacity|Electricity|Storage|Battery Electric Vehicles|Lfp|Phev|Hdv',\n",
       " 'Capacity|Electricity|Storage|Battery Electric Vehicles|Lfp|Phev|Ldv',\n",
       " 'Capacity|Electricity|Storage|Battery Electric Vehicles|Lfp|Phev|Mdv',\n",
       " 'Capacity|Electricity|Storage|Battery Electric Vehicles|Lfp|Phev|Motorcycles 2w 3w',\n",
       " 'Capacity|Electricity|Storage|Battery Electric Vehicles|Lmo|Bev|Bus',\n",
       " 'Capacity|Electricity|Storage|Battery Electric Vehicles|Lmo|Bev|Hdv',\n",
       " 'Capacity|Electricity|Storage|Battery Electric Vehicles|Lmo|Bev|Ldv',\n",
       " 'Capacity|Electricity|Storage|Battery Electric Vehicles|Lmo|Bev|Mdv',\n",
       " 'Capacity|Electricity|Storage|Battery Electric Vehicles|Lmo|Bev|Motorcycles 2w 3w',\n",
       " 'Capacity|Electricity|Storage|Battery Electric Vehicles|Lmo|Ev|Bus',\n",
       " 'Capacity|Electricity|Storage|Battery Electric Vehicles|Lmo|Ev|Hdv',\n",
       " 'Capacity|Electricity|Storage|Battery Electric Vehicles|Lmo|Ev|Ldv',\n",
       " 'Capacity|Electricity|Storage|Battery Electric Vehicles|Lmo|Ev|Mdv',\n",
       " 'Capacity|Electricity|Storage|Battery Electric Vehicles|Lmo|Ev|Motorcycles 2w 3w',\n",
       " 'Capacity|Electricity|Storage|Battery Electric Vehicles|Lmo|Fcev|Bus',\n",
       " 'Capacity|Electricity|Storage|Battery Electric Vehicles|Lmo|Fcev|Hdv',\n",
       " 'Capacity|Electricity|Storage|Battery Electric Vehicles|Lmo|Fcev|Ldv',\n",
       " 'Capacity|Electricity|Storage|Battery Electric Vehicles|Lmo|Fcev|Mdv',\n",
       " 'Capacity|Electricity|Storage|Battery Electric Vehicles|Lmo|Fcev|Motorcycles 2w 3w',\n",
       " 'Capacity|Electricity|Storage|Battery Electric Vehicles|Lmo|Hev|Bus',\n",
       " 'Capacity|Electricity|Storage|Battery Electric Vehicles|Lmo|Hev|Hdv',\n",
       " 'Capacity|Electricity|Storage|Battery Electric Vehicles|Lmo|Hev|Ldv',\n",
       " 'Capacity|Electricity|Storage|Battery Electric Vehicles|Lmo|Hev|Mdv',\n",
       " 'Capacity|Electricity|Storage|Battery Electric Vehicles|Lmo|Hev|Motorcycles 2w 3w',\n",
       " 'Capacity|Electricity|Storage|Battery Electric Vehicles|Lmo|Hpv|Bus',\n",
       " 'Capacity|Electricity|Storage|Battery Electric Vehicles|Lmo|Hpv|Hdv',\n",
       " 'Capacity|Electricity|Storage|Battery Electric Vehicles|Lmo|Hpv|Ldv',\n",
       " 'Capacity|Electricity|Storage|Battery Electric Vehicles|Lmo|Hpv|Mdv',\n",
       " 'Capacity|Electricity|Storage|Battery Electric Vehicles|Lmo|Hpv|Motorcycles 2w 3w',\n",
       " 'Capacity|Electricity|Storage|Battery Electric Vehicles|Lmo|Ice Diesel|Bus',\n",
       " 'Capacity|Electricity|Storage|Battery Electric Vehicles|Lmo|Ice Diesel|Hdv',\n",
       " 'Capacity|Electricity|Storage|Battery Electric Vehicles|Lmo|Ice Diesel|Ldv',\n",
       " 'Capacity|Electricity|Storage|Battery Electric Vehicles|Lmo|Ice Diesel|Mdv',\n",
       " 'Capacity|Electricity|Storage|Battery Electric Vehicles|Lmo|Ice Diesel|Motorcycles 2w 3w',\n",
       " 'Capacity|Electricity|Storage|Battery Electric Vehicles|Lmo|Ice Gasoline|Bus',\n",
       " 'Capacity|Electricity|Storage|Battery Electric Vehicles|Lmo|Ice Gasoline|Hdv',\n",
       " 'Capacity|Electricity|Storage|Battery Electric Vehicles|Lmo|Ice Gasoline|Ldv',\n",
       " 'Capacity|Electricity|Storage|Battery Electric Vehicles|Lmo|Ice Gasoline|Mdv',\n",
       " 'Capacity|Electricity|Storage|Battery Electric Vehicles|Lmo|Ice Gasoline|Motorcycles 2w 3w',\n",
       " 'Capacity|Electricity|Storage|Battery Electric Vehicles|Lmo|Ice Gas|Bus',\n",
       " 'Capacity|Electricity|Storage|Battery Electric Vehicles|Lmo|Ice Gas|Hdv',\n",
       " 'Capacity|Electricity|Storage|Battery Electric Vehicles|Lmo|Ice Gas|Ldv',\n",
       " 'Capacity|Electricity|Storage|Battery Electric Vehicles|Lmo|Ice Gas|Mdv',\n",
       " 'Capacity|Electricity|Storage|Battery Electric Vehicles|Lmo|Ice Gas|Motorcycles 2w 3w',\n",
       " 'Capacity|Electricity|Storage|Battery Electric Vehicles|Lmo|Ice Lpg|Bus',\n",
       " 'Capacity|Electricity|Storage|Battery Electric Vehicles|Lmo|Ice Lpg|Hdv',\n",
       " 'Capacity|Electricity|Storage|Battery Electric Vehicles|Lmo|Ice Lpg|Ldv',\n",
       " 'Capacity|Electricity|Storage|Battery Electric Vehicles|Lmo|Ice Lpg|Mdv',\n",
       " 'Capacity|Electricity|Storage|Battery Electric Vehicles|Lmo|Ice Lpg|Motorcycles 2w 3w',\n",
       " 'Capacity|Electricity|Storage|Battery Electric Vehicles|Lmo|Phev|Bus',\n",
       " 'Capacity|Electricity|Storage|Battery Electric Vehicles|Lmo|Phev|Hdv',\n",
       " 'Capacity|Electricity|Storage|Battery Electric Vehicles|Lmo|Phev|Ldv',\n",
       " 'Capacity|Electricity|Storage|Battery Electric Vehicles|Lmo|Phev|Mdv',\n",
       " 'Capacity|Electricity|Storage|Battery Electric Vehicles|Lmo|Phev|Motorcycles 2w 3w',\n",
       " 'Capacity|Electricity|Storage|Battery Electric Vehicles|Nca|Bev|Bus',\n",
       " 'Capacity|Electricity|Storage|Battery Electric Vehicles|Nca|Bev|Hdv',\n",
       " 'Capacity|Electricity|Storage|Battery Electric Vehicles|Nca|Bev|Ldv',\n",
       " 'Capacity|Electricity|Storage|Battery Electric Vehicles|Nca|Bev|Mdv',\n",
       " 'Capacity|Electricity|Storage|Battery Electric Vehicles|Nca|Bev|Motorcycles 2w 3w',\n",
       " 'Capacity|Electricity|Storage|Battery Electric Vehicles|Nca|Ev|Bus',\n",
       " 'Capacity|Electricity|Storage|Battery Electric Vehicles|Nca|Ev|Hdv',\n",
       " 'Capacity|Electricity|Storage|Battery Electric Vehicles|Nca|Ev|Ldv',\n",
       " 'Capacity|Electricity|Storage|Battery Electric Vehicles|Nca|Ev|Mdv',\n",
       " 'Capacity|Electricity|Storage|Battery Electric Vehicles|Nca|Ev|Motorcycles 2w 3w',\n",
       " 'Capacity|Electricity|Storage|Battery Electric Vehicles|Nca|Fcev|Bus',\n",
       " 'Capacity|Electricity|Storage|Battery Electric Vehicles|Nca|Fcev|Hdv',\n",
       " 'Capacity|Electricity|Storage|Battery Electric Vehicles|Nca|Fcev|Ldv',\n",
       " 'Capacity|Electricity|Storage|Battery Electric Vehicles|Nca|Fcev|Mdv',\n",
       " 'Capacity|Electricity|Storage|Battery Electric Vehicles|Nca|Fcev|Motorcycles 2w 3w',\n",
       " 'Capacity|Electricity|Storage|Battery Electric Vehicles|Nca|Hev|Bus',\n",
       " 'Capacity|Electricity|Storage|Battery Electric Vehicles|Nca|Hev|Hdv',\n",
       " 'Capacity|Electricity|Storage|Battery Electric Vehicles|Nca|Hev|Ldv',\n",
       " 'Capacity|Electricity|Storage|Battery Electric Vehicles|Nca|Hev|Mdv',\n",
       " 'Capacity|Electricity|Storage|Battery Electric Vehicles|Nca|Hev|Motorcycles 2w 3w',\n",
       " 'Capacity|Electricity|Storage|Battery Electric Vehicles|Nca|Hpv|Bus',\n",
       " 'Capacity|Electricity|Storage|Battery Electric Vehicles|Nca|Hpv|Hdv',\n",
       " 'Capacity|Electricity|Storage|Battery Electric Vehicles|Nca|Hpv|Ldv',\n",
       " 'Capacity|Electricity|Storage|Battery Electric Vehicles|Nca|Hpv|Mdv',\n",
       " 'Capacity|Electricity|Storage|Battery Electric Vehicles|Nca|Hpv|Motorcycles 2w 3w',\n",
       " 'Capacity|Electricity|Storage|Battery Electric Vehicles|Nca|Ice Diesel|Bus',\n",
       " 'Capacity|Electricity|Storage|Battery Electric Vehicles|Nca|Ice Diesel|Hdv',\n",
       " 'Capacity|Electricity|Storage|Battery Electric Vehicles|Nca|Ice Diesel|Ldv',\n",
       " 'Capacity|Electricity|Storage|Battery Electric Vehicles|Nca|Ice Diesel|Mdv',\n",
       " 'Capacity|Electricity|Storage|Battery Electric Vehicles|Nca|Ice Diesel|Motorcycles 2w 3w',\n",
       " 'Capacity|Electricity|Storage|Battery Electric Vehicles|Nca|Ice Gasoline|Bus',\n",
       " 'Capacity|Electricity|Storage|Battery Electric Vehicles|Nca|Ice Gasoline|Hdv',\n",
       " 'Capacity|Electricity|Storage|Battery Electric Vehicles|Nca|Ice Gasoline|Ldv',\n",
       " 'Capacity|Electricity|Storage|Battery Electric Vehicles|Nca|Ice Gasoline|Mdv',\n",
       " 'Capacity|Electricity|Storage|Battery Electric Vehicles|Nca|Ice Gasoline|Motorcycles 2w 3w',\n",
       " 'Capacity|Electricity|Storage|Battery Electric Vehicles|Nca|Ice Gas|Bus',\n",
       " 'Capacity|Electricity|Storage|Battery Electric Vehicles|Nca|Ice Gas|Hdv',\n",
       " 'Capacity|Electricity|Storage|Battery Electric Vehicles|Nca|Ice Gas|Ldv',\n",
       " 'Capacity|Electricity|Storage|Battery Electric Vehicles|Nca|Ice Gas|Mdv',\n",
       " 'Capacity|Electricity|Storage|Battery Electric Vehicles|Nca|Ice Gas|Motorcycles 2w 3w',\n",
       " 'Capacity|Electricity|Storage|Battery Electric Vehicles|Nca|Ice Lpg|Bus',\n",
       " 'Capacity|Electricity|Storage|Battery Electric Vehicles|Nca|Ice Lpg|Hdv',\n",
       " 'Capacity|Electricity|Storage|Battery Electric Vehicles|Nca|Ice Lpg|Ldv',\n",
       " 'Capacity|Electricity|Storage|Battery Electric Vehicles|Nca|Ice Lpg|Mdv',\n",
       " 'Capacity|Electricity|Storage|Battery Electric Vehicles|Nca|Ice Lpg|Motorcycles 2w 3w',\n",
       " 'Capacity|Electricity|Storage|Battery Electric Vehicles|Nca|Phev|Bus',\n",
       " 'Capacity|Electricity|Storage|Battery Electric Vehicles|Nca|Phev|Hdv',\n",
       " 'Capacity|Electricity|Storage|Battery Electric Vehicles|Nca|Phev|Ldv',\n",
       " 'Capacity|Electricity|Storage|Battery Electric Vehicles|Nca|Phev|Mdv',\n",
       " 'Capacity|Electricity|Storage|Battery Electric Vehicles|Nca|Phev|Motorcycles 2w 3w',\n",
       " 'Capacity|Electricity|Storage|Battery Electric Vehicles|Nmc622|Bev|Bus',\n",
       " 'Capacity|Electricity|Storage|Battery Electric Vehicles|Nmc622|Bev|Hdv',\n",
       " 'Capacity|Electricity|Storage|Battery Electric Vehicles|Nmc622|Bev|Ldv',\n",
       " 'Capacity|Electricity|Storage|Battery Electric Vehicles|Nmc622|Bev|Mdv',\n",
       " 'Capacity|Electricity|Storage|Battery Electric Vehicles|Nmc622|Bev|Motorcycles 2w 3w',\n",
       " 'Capacity|Electricity|Storage|Battery Electric Vehicles|Nmc622|Ev|Bus',\n",
       " 'Capacity|Electricity|Storage|Battery Electric Vehicles|Nmc622|Ev|Hdv',\n",
       " 'Capacity|Electricity|Storage|Battery Electric Vehicles|Nmc622|Ev|Ldv',\n",
       " 'Capacity|Electricity|Storage|Battery Electric Vehicles|Nmc622|Ev|Mdv',\n",
       " 'Capacity|Electricity|Storage|Battery Electric Vehicles|Nmc622|Ev|Motorcycles 2w 3w',\n",
       " 'Capacity|Electricity|Storage|Battery Electric Vehicles|Nmc622|Fcev|Bus',\n",
       " 'Capacity|Electricity|Storage|Battery Electric Vehicles|Nmc622|Fcev|Hdv',\n",
       " 'Capacity|Electricity|Storage|Battery Electric Vehicles|Nmc622|Fcev|Ldv',\n",
       " 'Capacity|Electricity|Storage|Battery Electric Vehicles|Nmc622|Fcev|Mdv',\n",
       " 'Capacity|Electricity|Storage|Battery Electric Vehicles|Nmc622|Fcev|Motorcycles 2w 3w',\n",
       " 'Capacity|Electricity|Storage|Battery Electric Vehicles|Nmc622|Hev|Bus',\n",
       " 'Capacity|Electricity|Storage|Battery Electric Vehicles|Nmc622|Hev|Hdv',\n",
       " 'Capacity|Electricity|Storage|Battery Electric Vehicles|Nmc622|Hev|Ldv',\n",
       " 'Capacity|Electricity|Storage|Battery Electric Vehicles|Nmc622|Hev|Mdv',\n",
       " 'Capacity|Electricity|Storage|Battery Electric Vehicles|Nmc622|Hev|Motorcycles 2w 3w',\n",
       " 'Capacity|Electricity|Storage|Battery Electric Vehicles|Nmc622|Hpv|Bus',\n",
       " 'Capacity|Electricity|Storage|Battery Electric Vehicles|Nmc622|Hpv|Hdv',\n",
       " 'Capacity|Electricity|Storage|Battery Electric Vehicles|Nmc622|Hpv|Ldv',\n",
       " 'Capacity|Electricity|Storage|Battery Electric Vehicles|Nmc622|Hpv|Mdv',\n",
       " 'Capacity|Electricity|Storage|Battery Electric Vehicles|Nmc622|Hpv|Motorcycles 2w 3w',\n",
       " 'Capacity|Electricity|Storage|Battery Electric Vehicles|Nmc622|Ice Diesel|Bus',\n",
       " 'Capacity|Electricity|Storage|Battery Electric Vehicles|Nmc622|Ice Diesel|Hdv',\n",
       " 'Capacity|Electricity|Storage|Battery Electric Vehicles|Nmc622|Ice Diesel|Ldv',\n",
       " 'Capacity|Electricity|Storage|Battery Electric Vehicles|Nmc622|Ice Diesel|Mdv',\n",
       " 'Capacity|Electricity|Storage|Battery Electric Vehicles|Nmc622|Ice Diesel|Motorcycles 2w 3w',\n",
       " 'Capacity|Electricity|Storage|Battery Electric Vehicles|Nmc622|Ice Gasoline|Bus',\n",
       " 'Capacity|Electricity|Storage|Battery Electric Vehicles|Nmc622|Ice Gasoline|Hdv',\n",
       " 'Capacity|Electricity|Storage|Battery Electric Vehicles|Nmc622|Ice Gasoline|Ldv',\n",
       " 'Capacity|Electricity|Storage|Battery Electric Vehicles|Nmc622|Ice Gasoline|Mdv',\n",
       " 'Capacity|Electricity|Storage|Battery Electric Vehicles|Nmc622|Ice Gasoline|Motorcycles 2w 3w',\n",
       " 'Capacity|Electricity|Storage|Battery Electric Vehicles|Nmc622|Ice Gas|Bus',\n",
       " 'Capacity|Electricity|Storage|Battery Electric Vehicles|Nmc622|Ice Gas|Hdv',\n",
       " 'Capacity|Electricity|Storage|Battery Electric Vehicles|Nmc622|Ice Gas|Ldv',\n",
       " 'Capacity|Electricity|Storage|Battery Electric Vehicles|Nmc622|Ice Gas|Mdv',\n",
       " 'Capacity|Electricity|Storage|Battery Electric Vehicles|Nmc622|Ice Gas|Motorcycles 2w 3w',\n",
       " 'Capacity|Electricity|Storage|Battery Electric Vehicles|Nmc622|Ice Lpg|Bus',\n",
       " 'Capacity|Electricity|Storage|Battery Electric Vehicles|Nmc622|Ice Lpg|Hdv',\n",
       " 'Capacity|Electricity|Storage|Battery Electric Vehicles|Nmc622|Ice Lpg|Ldv',\n",
       " 'Capacity|Electricity|Storage|Battery Electric Vehicles|Nmc622|Ice Lpg|Mdv',\n",
       " 'Capacity|Electricity|Storage|Battery Electric Vehicles|Nmc622|Ice Lpg|Motorcycles 2w 3w',\n",
       " 'Capacity|Electricity|Storage|Battery Electric Vehicles|Nmc622|Phev|Bus',\n",
       " 'Capacity|Electricity|Storage|Battery Electric Vehicles|Nmc622|Phev|Hdv',\n",
       " 'Capacity|Electricity|Storage|Battery Electric Vehicles|Nmc622|Phev|Ldv',\n",
       " 'Capacity|Electricity|Storage|Battery Electric Vehicles|Nmc622|Phev|Mdv',\n",
       " 'Capacity|Electricity|Storage|Battery Electric Vehicles|Nmc622|Phev|Motorcycles 2w 3w',\n",
       " 'Capacity|Electricity|Storage|Battery Electric Vehicles|Nmc811|Bev|Bus',\n",
       " 'Capacity|Electricity|Storage|Battery Electric Vehicles|Nmc811|Bev|Hdv',\n",
       " 'Capacity|Electricity|Storage|Battery Electric Vehicles|Nmc811|Bev|Ldv',\n",
       " 'Capacity|Electricity|Storage|Battery Electric Vehicles|Nmc811|Bev|Mdv',\n",
       " 'Capacity|Electricity|Storage|Battery Electric Vehicles|Nmc811|Bev|Motorcycles 2w 3w',\n",
       " 'Capacity|Electricity|Storage|Battery Electric Vehicles|Nmc811|Ev|Bus',\n",
       " 'Capacity|Electricity|Storage|Battery Electric Vehicles|Nmc811|Ev|Hdv',\n",
       " 'Capacity|Electricity|Storage|Battery Electric Vehicles|Nmc811|Ev|Ldv',\n",
       " 'Capacity|Electricity|Storage|Battery Electric Vehicles|Nmc811|Ev|Mdv',\n",
       " 'Capacity|Electricity|Storage|Battery Electric Vehicles|Nmc811|Ev|Motorcycles 2w 3w',\n",
       " 'Capacity|Electricity|Storage|Battery Electric Vehicles|Nmc811|Fcev|Bus',\n",
       " 'Capacity|Electricity|Storage|Battery Electric Vehicles|Nmc811|Fcev|Hdv',\n",
       " 'Capacity|Electricity|Storage|Battery Electric Vehicles|Nmc811|Fcev|Ldv',\n",
       " 'Capacity|Electricity|Storage|Battery Electric Vehicles|Nmc811|Fcev|Mdv',\n",
       " 'Capacity|Electricity|Storage|Battery Electric Vehicles|Nmc811|Fcev|Motorcycles 2w 3w',\n",
       " 'Capacity|Electricity|Storage|Battery Electric Vehicles|Nmc811|Hev|Bus',\n",
       " 'Capacity|Electricity|Storage|Battery Electric Vehicles|Nmc811|Hev|Hdv',\n",
       " 'Capacity|Electricity|Storage|Battery Electric Vehicles|Nmc811|Hev|Ldv',\n",
       " 'Capacity|Electricity|Storage|Battery Electric Vehicles|Nmc811|Hev|Mdv',\n",
       " 'Capacity|Electricity|Storage|Battery Electric Vehicles|Nmc811|Hev|Motorcycles 2w 3w',\n",
       " 'Capacity|Electricity|Storage|Battery Electric Vehicles|Nmc811|Hpv|Bus',\n",
       " 'Capacity|Electricity|Storage|Battery Electric Vehicles|Nmc811|Hpv|Hdv',\n",
       " 'Capacity|Electricity|Storage|Battery Electric Vehicles|Nmc811|Hpv|Ldv',\n",
       " 'Capacity|Electricity|Storage|Battery Electric Vehicles|Nmc811|Hpv|Mdv',\n",
       " 'Capacity|Electricity|Storage|Battery Electric Vehicles|Nmc811|Hpv|Motorcycles 2w 3w',\n",
       " 'Capacity|Electricity|Storage|Battery Electric Vehicles|Nmc811|Ice Diesel|Bus',\n",
       " 'Capacity|Electricity|Storage|Battery Electric Vehicles|Nmc811|Ice Diesel|Hdv',\n",
       " 'Capacity|Electricity|Storage|Battery Electric Vehicles|Nmc811|Ice Diesel|Ldv',\n",
       " 'Capacity|Electricity|Storage|Battery Electric Vehicles|Nmc811|Ice Diesel|Mdv',\n",
       " 'Capacity|Electricity|Storage|Battery Electric Vehicles|Nmc811|Ice Diesel|Motorcycles 2w 3w',\n",
       " 'Capacity|Electricity|Storage|Battery Electric Vehicles|Nmc811|Ice Gasoline|Bus',\n",
       " 'Capacity|Electricity|Storage|Battery Electric Vehicles|Nmc811|Ice Gasoline|Hdv',\n",
       " 'Capacity|Electricity|Storage|Battery Electric Vehicles|Nmc811|Ice Gasoline|Ldv',\n",
       " 'Capacity|Electricity|Storage|Battery Electric Vehicles|Nmc811|Ice Gasoline|Mdv',\n",
       " 'Capacity|Electricity|Storage|Battery Electric Vehicles|Nmc811|Ice Gasoline|Motorcycles 2w 3w',\n",
       " 'Capacity|Electricity|Storage|Battery Electric Vehicles|Nmc811|Ice Gas|Bus',\n",
       " 'Capacity|Electricity|Storage|Battery Electric Vehicles|Nmc811|Ice Gas|Hdv',\n",
       " 'Capacity|Electricity|Storage|Battery Electric Vehicles|Nmc811|Ice Gas|Ldv',\n",
       " 'Capacity|Electricity|Storage|Battery Electric Vehicles|Nmc811|Ice Gas|Mdv',\n",
       " 'Capacity|Electricity|Storage|Battery Electric Vehicles|Nmc811|Ice Gas|Motorcycles 2w 3w',\n",
       " 'Capacity|Electricity|Storage|Battery Electric Vehicles|Nmc811|Ice Lpg|Bus',\n",
       " 'Capacity|Electricity|Storage|Battery Electric Vehicles|Nmc811|Ice Lpg|Hdv',\n",
       " 'Capacity|Electricity|Storage|Battery Electric Vehicles|Nmc811|Ice Lpg|Ldv',\n",
       " 'Capacity|Electricity|Storage|Battery Electric Vehicles|Nmc811|Ice Lpg|Mdv',\n",
       " 'Capacity|Electricity|Storage|Battery Electric Vehicles|Nmc811|Ice Lpg|Motorcycles 2w 3w',\n",
       " 'Capacity|Electricity|Storage|Battery Electric Vehicles|Nmc811|Phev|Bus',\n",
       " 'Capacity|Electricity|Storage|Battery Electric Vehicles|Nmc811|Phev|Hdv',\n",
       " 'Capacity|Electricity|Storage|Battery Electric Vehicles|Nmc811|Phev|Ldv',\n",
       " 'Capacity|Electricity|Storage|Battery Electric Vehicles|Nmc811|Phev|Mdv',\n",
       " 'Capacity|Electricity|Storage|Battery Electric Vehicles|Nmc811|Phev|Motorcycles 2w 3w',\n",
       " 'Cost|Capital Cost|Energy Supply|Electricity And Heat|Gas Fuels|w/ CCS',\n",
       " 'Cost|Capital Cost|Energy Supply|Electricity And Heat|Gas Fuels|w/o CCS',\n",
       " 'Cost|Capital Cost|Energy Supply|Electricity And Heat|Geothermal|Deactivated',\n",
       " 'Cost|Capital Cost|Energy Supply|Electricity And Heat|Liquid Fuels|w/ CCS',\n",
       " 'Cost|Capital Cost|Energy Supply|Electricity And Heat|Liquid Fuels|w/o CCS',\n",
       " 'Cost|Capital Cost|Energy Supply|Electricity And Heat|Solid|Biomass|w/ CCS',\n",
       " 'Cost|Capital Cost|Energy Supply|Electricity And Heat|Solid|Biomass|w/o CCS',\n",
       " 'Cost|Capital Cost|Energy Supply|Electricity And Heat|Solid|Fossil|w/ CCS',\n",
       " 'Cost|Capital Cost|Energy Supply|Electricity And Heat|Solid|Fossil|w/o CCS',\n",
       " 'Cost|Capital Cost|Energy Supply|Electricity And Heat|Waste',\n",
       " 'Cost|Capital Cost|Energy Supply|Electricity|Gas Fuels|w/ CCS',\n",
       " 'Cost|Capital Cost|Energy Supply|Electricity|Gas Fuels|w/o CCS',\n",
       " 'Cost|Capital Cost|Energy Supply|Electricity|Geothermal',\n",
       " 'Cost|Capital Cost|Energy Supply|Electricity|Hydro|Dammed',\n",
       " 'Cost|Capital Cost|Energy Supply|Electricity|Hydro|Run Of River',\n",
       " 'Cost|Capital Cost|Energy Supply|Electricity|Liquid Fuels|w/ CCS',\n",
       " 'Cost|Capital Cost|Energy Supply|Electricity|Liquid Fuels|w/o CCS',\n",
       " 'Cost|Capital Cost|Energy Supply|Electricity|Nuclear',\n",
       " 'Cost|Capital Cost|Energy Supply|Electricity|Ocean',\n",
       " 'Cost|Capital Cost|Energy Supply|Electricity|Solar|CSP',\n",
       " 'Cost|Capital Cost|Energy Supply|Electricity|Solar|Open Space|PV',\n",
       " 'Cost|Capital Cost|Energy Supply|Electricity|Solar|Urban|PV',\n",
       " 'Cost|Capital Cost|Energy Supply|Electricity|Solid|Biomass|w/ CCS',\n",
       " 'Cost|Capital Cost|Energy Supply|Electricity|Solid|Biomass|w/o CCS',\n",
       " 'Cost|Capital Cost|Energy Supply|Electricity|Solid|Fossil|w/ CCS',\n",
       " 'Cost|Capital Cost|Energy Supply|Electricity|Solid|Fossil|w/o CCS',\n",
       " 'Cost|Capital Cost|Energy Supply|Electricity|Waste|w/ CCS',\n",
       " 'Cost|Capital Cost|Energy Supply|Electricity|Waste|w/o CCS',\n",
       " 'Cost|Capital Cost|Energy Supply|Electricity|Wind|Offshore',\n",
       " 'Cost|Capital Cost|Energy Supply|Electricity|Wind|Onshore',\n",
       " 'Energy Intensity|Accommodation|Electricity',\n",
       " 'Energy Intensity|Animals|Electricity',\n",
       " 'Energy Intensity|Construction|Electricity',\n",
       " 'Energy Intensity|Crops|Electricity',\n",
       " 'Energy Intensity|Education|Electricity',\n",
       " 'Energy Intensity|Entertaiment|Electricity',\n",
       " 'Energy Intensity|Extraction Gas|Electricity',\n",
       " 'Energy Intensity|Extraction Oil|Electricity',\n",
       " 'Energy Intensity|Extraction Other Gas|Electricity',\n",
       " 'Energy Intensity|Finance|Electricity',\n",
       " 'Energy Intensity|Fishing|Electricity',\n",
       " 'Energy Intensity|Forestry|Electricity',\n",
       " 'Energy Intensity|Health|Electricity',\n",
       " 'Energy Intensity|Manufacture Chemical|Electricity',\n",
       " 'Energy Intensity|Manufacture Electrical Equipment|Electricity',\n",
       " 'Energy Intensity|Manufacture Electronics|Electricity',\n",
       " 'Energy Intensity|Manufacture Food|Electricity',\n",
       " 'Energy Intensity|Manufacture Machinery|Electricity',\n",
       " 'Energy Intensity|Manufacture Metal Products|Electricity',\n",
       " 'Energy Intensity|Manufacture Other Non Metal|Electricity',\n",
       " 'Energy Intensity|Manufacture Other|Electricity',\n",
       " 'Energy Intensity|Manufacture Plastic|Electricity',\n",
       " 'Energy Intensity|Manufacture Vehicles|Electricity',\n",
       " 'Energy Intensity|Manufacture Wood|Electricity',\n",
       " 'Energy Intensity|Mining And Manufacturing Aluminium|Electricity',\n",
       " 'Energy Intensity|Mining And Manufacturing Copper|Electricity',\n",
       " 'Energy Intensity|Mining And Manufacturing Iron|Electricity',\n",
       " 'Energy Intensity|Mining And Manufacturing Lead Zinc Tin|Electricity',\n",
       " 'Energy Intensity|Mining And Manufacturing Nickel|Electricity',\n",
       " 'Energy Intensity|Mining And Manufacturing Other Metals|Electricity',\n",
       " 'Energy Intensity|Mining And Manufacturing Precious Metals|Electricity',\n",
       " 'Energy Intensity|Mining And Manufacturing Uranium Thorium|Electricity',\n",
       " 'Energy Intensity|Mining Coal|Electricity',\n",
       " 'Energy Intensity|Mining Non Metals|Electricity',\n",
       " 'Energy Intensity|Other Services|Electricity',\n",
       " 'Energy Intensity|Private Households|Electricity',\n",
       " 'Energy Intensity|Public Administration|Electricity',\n",
       " 'Energy Intensity|Real Estate|Electricity',\n",
       " 'Energy Intensity|Telecommunications|Electricity',\n",
       " 'Energy Intensity|Trade Repair Vehicles|Electricity',\n",
       " 'Energy Intensity|Transport Air|Electricity',\n",
       " 'Energy Intensity|Transport Inland Water|Electricity',\n",
       " 'Energy Intensity|Transport Other Land|Electricity',\n",
       " 'Energy Intensity|Transport Pipeline|Electricity',\n",
       " 'Energy Intensity|Transport Rail|Electricity',\n",
       " 'Energy Intensity|Transport Sea|Electricity',\n",
       " 'Energy Intensity|Waste Management|Electricity',\n",
       " 'Expenditure|Household|Real|Hh Electricity',\n",
       " 'Final Energy|Accommodation|Electricity',\n",
       " 'Final Energy|Animals|Electricity',\n",
       " 'Final Energy|Construction|Electricity',\n",
       " 'Final Energy|Crops|Electricity',\n",
       " 'Final Energy|Education|Electricity',\n",
       " 'Final Energy|Entertaiment|Electricity',\n",
       " 'Final Energy|Extraction Gas|Electricity',\n",
       " 'Final Energy|Extraction Oil|Electricity',\n",
       " 'Final Energy|Extraction Other Gas|Electricity',\n",
       " 'Final Energy|Finance|Electricity',\n",
       " 'Final Energy|Fishing|Electricity',\n",
       " 'Final Energy|Forestry|Electricity',\n",
       " 'Final Energy|Health|Electricity',\n",
       " 'Final Energy|Manufacture Chemical|Electricity',\n",
       " 'Final Energy|Manufacture Electrical Equipment|Electricity',\n",
       " 'Final Energy|Manufacture Electronics|Electricity',\n",
       " 'Final Energy|Manufacture Food|Electricity',\n",
       " 'Final Energy|Manufacture Machinery|Electricity',\n",
       " 'Final Energy|Manufacture Metal Products|Electricity',\n",
       " 'Final Energy|Manufacture Other Non Metal|Electricity',\n",
       " 'Final Energy|Manufacture Other|Electricity',\n",
       " 'Final Energy|Manufacture Plastic|Electricity',\n",
       " 'Final Energy|Manufacture Vehicles|Electricity',\n",
       " 'Final Energy|Manufacture Wood|Electricity',\n",
       " 'Final Energy|Mining And Manufacturing Aluminium|Electricity',\n",
       " 'Final Energy|Mining And Manufacturing Copper|Electricity',\n",
       " 'Final Energy|Mining And Manufacturing Iron|Electricity',\n",
       " 'Final Energy|Mining And Manufacturing Lead Zinc Tin|Electricity',\n",
       " 'Final Energy|Mining And Manufacturing Nickel|Electricity',\n",
       " 'Final Energy|Mining And Manufacturing Other Metals|Electricity',\n",
       " 'Final Energy|Mining And Manufacturing Precious Metals|Electricity',\n",
       " 'Final Energy|Mining And Manufacturing Uranium Thorium|Electricity',\n",
       " 'Final Energy|Mining Coal|Electricity',\n",
       " 'Final Energy|Mining Non Metals|Electricity',\n",
       " 'Final Energy|Non-Energy Use|Electricity',\n",
       " 'Final Energy|Other Services|Electricity',\n",
       " 'Final Energy|Private Households|Electricity',\n",
       " 'Final Energy|Public Administration|Electricity',\n",
       " 'Final Energy|Real Estate|Electricity',\n",
       " 'Final Energy|Telecommunications|Electricity',\n",
       " 'Final Energy|Trade Repair Vehicles|Electricity',\n",
       " 'Final Energy|Transport Air|Electricity',\n",
       " 'Final Energy|Transport Inland Water|Electricity',\n",
       " 'Final Energy|Transport Other Land|Electricity',\n",
       " 'Final Energy|Transport Pipeline|Electricity',\n",
       " 'Final Energy|Transport Rail|Electricity',\n",
       " 'Final Energy|Transport Sea|Electricity',\n",
       " 'Final Energy|Waste Management|Electricity',\n",
       " 'Index Price|Final Energy|Accommodation|Electricity',\n",
       " 'Index Price|Final Energy|Animals|Electricity',\n",
       " 'Index Price|Final Energy|Construction|Electricity',\n",
       " 'Index Price|Final Energy|Crops|Electricity',\n",
       " 'Index Price|Final Energy|Education|Electricity',\n",
       " 'Index Price|Final Energy|Entertaiment|Electricity',\n",
       " 'Index Price|Final Energy|Extraction Gas|Electricity',\n",
       " 'Index Price|Final Energy|Extraction Oil|Electricity',\n",
       " 'Index Price|Final Energy|Extraction Other Gas|Electricity',\n",
       " 'Index Price|Final Energy|Finance|Electricity',\n",
       " 'Index Price|Final Energy|Fishing|Electricity',\n",
       " 'Index Price|Final Energy|Forestry|Electricity',\n",
       " 'Index Price|Final Energy|Health|Electricity',\n",
       " 'Index Price|Final Energy|Manufacture Chemical|Electricity',\n",
       " 'Index Price|Final Energy|Manufacture Electrical Equipment|Electricity',\n",
       " 'Index Price|Final Energy|Manufacture Electronics|Electricity',\n",
       " 'Index Price|Final Energy|Manufacture Food|Electricity',\n",
       " 'Index Price|Final Energy|Manufacture Machinery|Electricity',\n",
       " 'Index Price|Final Energy|Manufacture Metal Products|Electricity',\n",
       " 'Index Price|Final Energy|Manufacture Other Non Metal|Electricity',\n",
       " 'Index Price|Final Energy|Manufacture Other|Electricity',\n",
       " 'Index Price|Final Energy|Manufacture Plastic|Electricity',\n",
       " 'Index Price|Final Energy|Manufacture Vehicles|Electricity',\n",
       " 'Index Price|Final Energy|Manufacture Wood|Electricity',\n",
       " 'Index Price|Final Energy|Mining And Manufacturing Aluminium|Electricity',\n",
       " 'Index Price|Final Energy|Mining And Manufacturing Copper|Electricity',\n",
       " 'Index Price|Final Energy|Mining And Manufacturing Iron|Electricity',\n",
       " 'Index Price|Final Energy|Mining And Manufacturing Lead Zinc Tin|Electricity',\n",
       " 'Index Price|Final Energy|Mining And Manufacturing Nickel|Electricity',\n",
       " 'Index Price|Final Energy|Mining And Manufacturing Other Metals|Electricity',\n",
       " 'Index Price|Final Energy|Mining And Manufacturing Precious Metals|Electricity',\n",
       " 'Index Price|Final Energy|Mining And Manufacturing Uranium Thorium|Electricity',\n",
       " 'Index Price|Final Energy|Mining Coal|Electricity',\n",
       " 'Index Price|Final Energy|Mining Non Metals|Electricity',\n",
       " 'Index Price|Final Energy|Other Services|Electricity',\n",
       " 'Index Price|Final Energy|Private Households|Electricity',\n",
       " 'Index Price|Final Energy|Public Administration|Electricity',\n",
       " 'Index Price|Final Energy|Real Estate|Electricity',\n",
       " 'Index Price|Final Energy|Telecommunications|Electricity',\n",
       " 'Index Price|Final Energy|Trade Repair Vehicles|Electricity',\n",
       " 'Index Price|Final Energy|Transport Air|Electricity',\n",
       " 'Index Price|Final Energy|Transport Inland Water|Electricity',\n",
       " 'Index Price|Final Energy|Transport Other Land|Electricity',\n",
       " 'Index Price|Final Energy|Transport Pipeline|Electricity',\n",
       " 'Index Price|Final Energy|Transport Rail|Electricity',\n",
       " 'Index Price|Final Energy|Transport Sea|Electricity',\n",
       " 'Index Price|Final Energy|Waste Management|Electricity',\n",
       " 'Intensity|Final Energy|Non-Energy Use|Accommodation|Electricity',\n",
       " 'Intensity|Final Energy|Non-Energy Use|Animals|Electricity',\n",
       " 'Intensity|Final Energy|Non-Energy Use|Coke|Electricity',\n",
       " 'Intensity|Final Energy|Non-Energy Use|Construction|Electricity',\n",
       " 'Intensity|Final Energy|Non-Energy Use|Crops|Electricity',\n",
       " 'Intensity|Final Energy|Non-Energy Use|Distribution Electricity|Electricity',\n",
       " 'Intensity|Final Energy|Non-Energy Use|Distribution Electricity|Gas',\n",
       " 'Intensity|Final Energy|Non-Energy Use|Distribution Electricity|Heat',\n",
       " 'Intensity|Final Energy|Non-Energy Use|Distribution Electricity|Hydrogen',\n",
       " 'Intensity|Final Energy|Non-Energy Use|Distribution Electricity|Liquid',\n",
       " 'Intensity|Final Energy|Non-Energy Use|Distribution Electricity|Solid|Biomass',\n",
       " 'Intensity|Final Energy|Non-Energy Use|Distribution Electricity|Solid|Fossil',\n",
       " 'Intensity|Final Energy|Non-Energy Use|Distribution Gas|Electricity',\n",
       " 'Intensity|Final Energy|Non-Energy Use|Education|Electricity',\n",
       " 'Intensity|Final Energy|Non-Energy Use|Electricity Coal|Electricity',\n",
       " 'Intensity|Final Energy|Non-Energy Use|Electricity Coal|Gas',\n",
       " 'Intensity|Final Energy|Non-Energy Use|Electricity Coal|Heat',\n",
       " 'Intensity|Final Energy|Non-Energy Use|Electricity Coal|Hydrogen',\n",
       " 'Intensity|Final Energy|Non-Energy Use|Electricity Coal|Liquid',\n",
       " 'Intensity|Final Energy|Non-Energy Use|Electricity Coal|Solid|Biomass',\n",
       " 'Intensity|Final Energy|Non-Energy Use|Electricity Coal|Solid|Fossil',\n",
       " 'Intensity|Final Energy|Non-Energy Use|Electricity Gas|Electricity',\n",
       " 'Intensity|Final Energy|Non-Energy Use|Electricity Gas|Gas',\n",
       " 'Intensity|Final Energy|Non-Energy Use|Electricity Gas|Heat',\n",
       " 'Intensity|Final Energy|Non-Energy Use|Electricity Gas|Hydrogen',\n",
       " 'Intensity|Final Energy|Non-Energy Use|Electricity Gas|Liquid',\n",
       " 'Intensity|Final Energy|Non-Energy Use|Electricity Gas|Solid|Biomass',\n",
       " 'Intensity|Final Energy|Non-Energy Use|Electricity Gas|Solid|Fossil',\n",
       " 'Intensity|Final Energy|Non-Energy Use|Electricity Hydro|Electricity',\n",
       " 'Intensity|Final Energy|Non-Energy Use|Electricity Hydro|Gas',\n",
       " 'Intensity|Final Energy|Non-Energy Use|Electricity Hydro|Heat',\n",
       " 'Intensity|Final Energy|Non-Energy Use|Electricity Hydro|Hydrogen',\n",
       " 'Intensity|Final Energy|Non-Energy Use|Electricity Hydro|Liquid',\n",
       " 'Intensity|Final Energy|Non-Energy Use|Electricity Hydro|Solid|Biomass',\n",
       " 'Intensity|Final Energy|Non-Energy Use|Electricity Hydro|Solid|Fossil',\n",
       " 'Intensity|Final Energy|Non-Energy Use|Electricity Nuclear|Electricity',\n",
       " 'Intensity|Final Energy|Non-Energy Use|Electricity Nuclear|Gas',\n",
       " 'Intensity|Final Energy|Non-Energy Use|Electricity Nuclear|Heat',\n",
       " 'Intensity|Final Energy|Non-Energy Use|Electricity Nuclear|Hydrogen',\n",
       " 'Intensity|Final Energy|Non-Energy Use|Electricity Nuclear|Liquid',\n",
       " 'Intensity|Final Energy|Non-Energy Use|Electricity Nuclear|Solid|Biomass',\n",
       " 'Intensity|Final Energy|Non-Energy Use|Electricity Nuclear|Solid|Fossil',\n",
       " 'Intensity|Final Energy|Non-Energy Use|Electricity Oil|Electricity',\n",
       " 'Intensity|Final Energy|Non-Energy Use|Electricity Oil|Gas',\n",
       " 'Intensity|Final Energy|Non-Energy Use|Electricity Oil|Heat',\n",
       " 'Intensity|Final Energy|Non-Energy Use|Electricity Oil|Hydrogen',\n",
       " 'Intensity|Final Energy|Non-Energy Use|Electricity Oil|Liquid',\n",
       " 'Intensity|Final Energy|Non-Energy Use|Electricity Oil|Solid|Biomass',\n",
       " 'Intensity|Final Energy|Non-Energy Use|Electricity Oil|Solid|Fossil',\n",
       " 'Intensity|Final Energy|Non-Energy Use|Electricity Other|Electricity',\n",
       " 'Intensity|Final Energy|Non-Energy Use|Electricity Other|Gas',\n",
       " 'Intensity|Final Energy|Non-Energy Use|Electricity Other|Heat',\n",
       " 'Intensity|Final Energy|Non-Energy Use|Electricity Other|Hydrogen',\n",
       " 'Intensity|Final Energy|Non-Energy Use|Electricity Other|Liquid',\n",
       " 'Intensity|Final Energy|Non-Energy Use|Electricity Other|Solid|Biomass',\n",
       " 'Intensity|Final Energy|Non-Energy Use|Electricity Other|Solid|Fossil',\n",
       " 'Intensity|Final Energy|Non-Energy Use|Electricity Solar Pv|Electricity',\n",
       " 'Intensity|Final Energy|Non-Energy Use|Electricity Solar Pv|Gas',\n",
       " 'Intensity|Final Energy|Non-Energy Use|Electricity Solar Pv|Heat',\n",
       " 'Intensity|Final Energy|Non-Energy Use|Electricity Solar Pv|Hydrogen',\n",
       " 'Intensity|Final Energy|Non-Energy Use|Electricity Solar Pv|Liquid',\n",
       " 'Intensity|Final Energy|Non-Energy Use|Electricity Solar Pv|Solid|Biomass',\n",
       " 'Intensity|Final Energy|Non-Energy Use|Electricity Solar Pv|Solid|Fossil',\n",
       " 'Intensity|Final Energy|Non-Energy Use|Electricity Solar Thermal|Electricity',\n",
       " 'Intensity|Final Energy|Non-Energy Use|Electricity Solar Thermal|Gas',\n",
       " 'Intensity|Final Energy|Non-Energy Use|Electricity Solar Thermal|Heat',\n",
       " 'Intensity|Final Energy|Non-Energy Use|Electricity Solar Thermal|Hydrogen',\n",
       " 'Intensity|Final Energy|Non-Energy Use|Electricity Solar Thermal|Liquid',\n",
       " 'Intensity|Final Energy|Non-Energy Use|Electricity Solar Thermal|Solid|Biomass',\n",
       " 'Intensity|Final Energy|Non-Energy Use|Electricity Solar Thermal|Solid|Fossil',\n",
       " 'Intensity|Final Energy|Non-Energy Use|Electricity Wind|Electricity',\n",
       " 'Intensity|Final Energy|Non-Energy Use|Electricity Wind|Gas',\n",
       " 'Intensity|Final Energy|Non-Energy Use|Electricity Wind|Heat',\n",
       " 'Intensity|Final Energy|Non-Energy Use|Electricity Wind|Hydrogen',\n",
       " 'Intensity|Final Energy|Non-Energy Use|Electricity Wind|Liquid',\n",
       " 'Intensity|Final Energy|Non-Energy Use|Electricity Wind|Solid|Biomass',\n",
       " 'Intensity|Final Energy|Non-Energy Use|Electricity Wind|Solid|Fossil',\n",
       " 'Intensity|Final Energy|Non-Energy Use|Entertaiment|Electricity',\n",
       " 'Intensity|Final Energy|Non-Energy Use|Extraction Gas|Electricity',\n",
       " 'Intensity|Final Energy|Non-Energy Use|Extraction Oil|Electricity',\n",
       " 'Intensity|Final Energy|Non-Energy Use|Extraction Other Gas|Electricity',\n",
       " 'Intensity|Final Energy|Non-Energy Use|Finance|Electricity',\n",
       " 'Intensity|Final Energy|Non-Energy Use|Fishing|Electricity',\n",
       " 'Intensity|Final Energy|Non-Energy Use|Forestry|Electricity',\n",
       " 'Intensity|Final Energy|Non-Energy Use|Health|Electricity',\n",
       " 'Intensity|Final Energy|Non-Energy Use|Hydrogen Production|Electricity',\n",
       " 'Intensity|Final Energy|Non-Energy Use|Manufacture Chemical|Electricity',\n",
       " 'Intensity|Final Energy|Non-Energy Use|Manufacture Electrical Equipment|Electricity',\n",
       " 'Intensity|Final Energy|Non-Energy Use|Manufacture Electronics|Electricity',\n",
       " 'Intensity|Final Energy|Non-Energy Use|Manufacture Food|Electricity',\n",
       " 'Intensity|Final Energy|Non-Energy Use|Manufacture Machinery|Electricity',\n",
       " 'Intensity|Final Energy|Non-Energy Use|Manufacture Metal Products|Electricity',\n",
       " 'Intensity|Final Energy|Non-Energy Use|Manufacture Other Non Metal|Electricity',\n",
       " 'Intensity|Final Energy|Non-Energy Use|Manufacture Other|Electricity',\n",
       " 'Intensity|Final Energy|Non-Energy Use|Manufacture Plastic|Electricity',\n",
       " 'Intensity|Final Energy|Non-Energy Use|Manufacture Vehicles|Electricity',\n",
       " 'Intensity|Final Energy|Non-Energy Use|Manufacture Wood|Electricity',\n",
       " 'Intensity|Final Energy|Non-Energy Use|Mining And Manufacturing Aluminium|Electricity',\n",
       " 'Intensity|Final Energy|Non-Energy Use|Mining And Manufacturing Copper|Electricity',\n",
       " 'Intensity|Final Energy|Non-Energy Use|Mining And Manufacturing Iron|Electricity',\n",
       " 'Intensity|Final Energy|Non-Energy Use|Mining And Manufacturing Lead Zinc Tin|Electricity',\n",
       " 'Intensity|Final Energy|Non-Energy Use|Mining And Manufacturing Nickel|Electricity',\n",
       " 'Intensity|Final Energy|Non-Energy Use|Mining And Manufacturing Other Metals|Electricity',\n",
       " 'Intensity|Final Energy|Non-Energy Use|Mining And Manufacturing Precious Metals|Electricity',\n",
       " 'Intensity|Final Energy|Non-Energy Use|Mining And Manufacturing Uranium Thorium|Electricity',\n",
       " 'Intensity|Final Energy|Non-Energy Use|Mining Coal|Electricity',\n",
       " 'Intensity|Final Energy|Non-Energy Use|Mining Non Metals|Electricity',\n",
       " 'Intensity|Final Energy|Non-Energy Use|Other Services|Electricity',\n",
       " 'Intensity|Final Energy|Non-Energy Use|Private Households|Electricity',\n",
       " 'Intensity|Final Energy|Non-Energy Use|Public Administration|Electricity',\n",
       " 'Intensity|Final Energy|Non-Energy Use|Real Estate|Electricity',\n",
       " 'Intensity|Final Energy|Non-Energy Use|Refining|Electricity',\n",
       " 'Intensity|Final Energy|Non-Energy Use|Steam Hot Water|Electricity',\n",
       " 'Intensity|Final Energy|Non-Energy Use|Telecommunications|Electricity',\n",
       " 'Intensity|Final Energy|Non-Energy Use|Trade Repair Vehicles|Electricity',\n",
       " 'Intensity|Final Energy|Non-Energy Use|Transport Air|Electricity',\n",
       " 'Intensity|Final Energy|Non-Energy Use|Transport Inland Water|Electricity',\n",
       " 'Intensity|Final Energy|Non-Energy Use|Transport Other Land|Electricity',\n",
       " 'Intensity|Final Energy|Non-Energy Use|Transport Pipeline|Electricity',\n",
       " 'Intensity|Final Energy|Non-Energy Use|Transport Rail|Electricity',\n",
       " 'Intensity|Final Energy|Non-Energy Use|Transport Sea|Electricity',\n",
       " 'Intensity|Final Energy|Non-Energy Use|Waste Management|Electricity',\n",
       " 'Trade|Value|Balance|Distribution Electricity',\n",
       " 'Trade|Value|Balance|Electricity Coal',\n",
       " 'Trade|Value|Balance|Electricity Gas',\n",
       " 'Trade|Value|Balance|Electricity Hydro',\n",
       " 'Trade|Value|Balance|Electricity Nuclear',\n",
       " 'Trade|Value|Balance|Electricity Oil',\n",
       " 'Trade|Value|Balance|Electricity Other',\n",
       " 'Trade|Value|Balance|Electricity Solar Pv',\n",
       " 'Trade|Value|Balance|Electricity Solar Thermal',\n",
       " 'Trade|Value|Balance|Electricity Wind',\n",
       " 'Trade|Value|Exports|Distribution Electricity',\n",
       " 'Trade|Value|Exports|Electricity Coal',\n",
       " 'Trade|Value|Exports|Electricity Gas',\n",
       " 'Trade|Value|Exports|Electricity Hydro',\n",
       " 'Trade|Value|Exports|Electricity Nuclear',\n",
       " 'Trade|Value|Exports|Electricity Oil',\n",
       " 'Trade|Value|Exports|Electricity Other',\n",
       " 'Trade|Value|Exports|Electricity Solar Pv',\n",
       " 'Trade|Value|Exports|Electricity Solar Thermal',\n",
       " 'Trade|Value|Exports|Electricity Wind',\n",
       " 'Trade|Value|Imports|Distribution Electricity',\n",
       " 'Trade|Value|Imports|Electricity Coal',\n",
       " 'Trade|Value|Imports|Electricity Gas',\n",
       " 'Trade|Value|Imports|Electricity Hydro',\n",
       " 'Trade|Value|Imports|Electricity Nuclear',\n",
       " 'Trade|Value|Imports|Electricity Oil',\n",
       " 'Trade|Value|Imports|Electricity Other',\n",
       " 'Trade|Value|Imports|Electricity Solar Pv',\n",
       " 'Trade|Value|Imports|Electricity Solar Thermal',\n",
       " 'Trade|Value|Imports|Electricity Wind',\n",
       " 'Value|Added Real|Distribution Electricity',\n",
       " 'Value|Added Real|Electricity Coal',\n",
       " 'Value|Added Real|Electricity Gas',\n",
       " 'Value|Added Real|Electricity Hydro',\n",
       " 'Value|Added Real|Electricity Nuclear',\n",
       " 'Value|Added Real|Electricity Oil',\n",
       " 'Value|Added Real|Electricity Other',\n",
       " 'Value|Added Real|Electricity Solar Pv',\n",
       " 'Value|Added Real|Electricity Solar Thermal',\n",
       " 'Value|Added Real|Electricity Wind',\n",
       " 'Value|Gdp Real|Taxes Products|Distribution Electricity',\n",
       " 'Value|Gdp Real|Taxes Products|Electricity Coal',\n",
       " 'Value|Gdp Real|Taxes Products|Electricity Gas',\n",
       " 'Value|Gdp Real|Taxes Products|Electricity Hydro',\n",
       " 'Value|Gdp Real|Taxes Products|Electricity Nuclear',\n",
       " 'Value|Gdp Real|Taxes Products|Electricity Oil',\n",
       " 'Value|Gdp Real|Taxes Products|Electricity Other',\n",
       " 'Value|Gdp Real|Taxes Products|Electricity Solar Pv',\n",
       " 'Value|Gdp Real|Taxes Products|Electricity Solar Thermal',\n",
       " 'Value|Gdp Real|Taxes Products|Electricity Wind',\n",
       " 'Capacity Additions|Electricity|Electricity And Heat|Gas Fuels|w/ CCS',\n",
       " 'Capacity Additions|Electricity|Electricity And Heat|Gas Fuels|w/o CCS',\n",
       " 'Capacity Additions|Electricity|Electricity And Heat|Geothermal|Deactivated',\n",
       " 'Capacity Additions|Electricity|Electricity And Heat|Liquid Fuels|w/ CCS',\n",
       " 'Capacity Additions|Electricity|Electricity And Heat|Liquid Fuels|w/o CCS',\n",
       " 'Capacity Additions|Electricity|Electricity And Heat|Solid|Biomass|w/ CCS',\n",
       " 'Capacity Additions|Electricity|Electricity And Heat|Solid|Biomass|w/o CCS',\n",
       " 'Capacity Additions|Electricity|Electricity And Heat|Solid|Fossil|w/ CCS',\n",
       " 'Capacity Additions|Electricity|Electricity And Heat|Solid|Fossil|w/o CCS',\n",
       " 'Capacity Additions|Electricity|Electricity And Heat|Waste',\n",
       " 'Capacity Additions|Electricity|Electricity|Gas Fuels|w/ CCS',\n",
       " 'Capacity Additions|Electricity|Electricity|Gas Fuels|w/o CCS',\n",
       " 'Capacity Additions|Electricity|Electricity|Geothermal',\n",
       " 'Capacity Additions|Electricity|Electricity|Hydro|Dammed',\n",
       " 'Capacity Additions|Electricity|Electricity|Hydro|Run Of River',\n",
       " 'Capacity Additions|Electricity|Electricity|Liquid Fuels|w/ CCS',\n",
       " 'Capacity Additions|Electricity|Electricity|Liquid Fuels|w/o CCS',\n",
       " 'Capacity Additions|Electricity|Electricity|Nuclear',\n",
       " 'Capacity Additions|Electricity|Electricity|Ocean',\n",
       " 'Capacity Additions|Electricity|Electricity|Solar|CSP',\n",
       " 'Capacity Additions|Electricity|Electricity|Solar|Open Space|PV',\n",
       " 'Capacity Additions|Electricity|Electricity|Solar|Urban|PV',\n",
       " 'Capacity Additions|Electricity|Electricity|Solid|Biomass|w/ CCS',\n",
       " 'Capacity Additions|Electricity|Electricity|Solid|Biomass|w/o CCS',\n",
       " 'Capacity Additions|Electricity|Electricity|Solid|Fossil|w/ CCS',\n",
       " 'Capacity Additions|Electricity|Electricity|Solid|Fossil|w/o CCS',\n",
       " 'Capacity Additions|Electricity|Electricity|Waste|w/ CCS',\n",
       " 'Capacity Additions|Electricity|Electricity|Waste|w/o CCS',\n",
       " 'Capacity Additions|Electricity|Electricity|Wind|Offshore',\n",
       " 'Capacity Additions|Electricity|Electricity|Wind|Onshore',\n",
       " 'Capacity Additions|Electricity|Gas Fuels',\n",
       " 'Capacity Additions|Electricity|Heat|Gas Fuels',\n",
       " 'Capacity Additions|Electricity|Heat|Geothermal',\n",
       " 'Capacity Additions|Electricity|Heat|Liquid Fuels',\n",
       " 'Capacity Additions|Electricity|Heat|Solar|Deactivated',\n",
       " 'Capacity Additions|Electricity|Heat|Solid|Biomass',\n",
       " 'Capacity Additions|Electricity|Heat|Solid|Fossil',\n",
       " 'Capacity Additions|Electricity|Heat|Waste',\n",
       " 'Capacity Additions|Electricity|Hydrogen',\n",
       " 'Capacity Additions|Electricity|Liquid Fuels',\n",
       " 'Capacity Additions|Electricity|Solids|Biomass',\n",
       " 'Capacity Additions|Electricity|Solids|Fossils',\n",
       " 'Capacity Additions|Gas|Electricity And Heat|Gas Fuels|w/ CCS',\n",
       " 'Capacity Additions|Gas|Electricity And Heat|Gas Fuels|w/o CCS',\n",
       " 'Capacity Additions|Gas|Electricity And Heat|Geothermal|Deactivated',\n",
       " 'Capacity Additions|Gas|Electricity And Heat|Liquid Fuels|w/ CCS',\n",
       " 'Capacity Additions|Gas|Electricity And Heat|Liquid Fuels|w/o CCS',\n",
       " 'Capacity Additions|Gas|Electricity And Heat|Solid|Biomass|w/ CCS',\n",
       " 'Capacity Additions|Gas|Electricity And Heat|Solid|Biomass|w/o CCS',\n",
       " 'Capacity Additions|Gas|Electricity And Heat|Solid|Fossil|w/ CCS',\n",
       " 'Capacity Additions|Gas|Electricity And Heat|Solid|Fossil|w/o CCS',\n",
       " 'Capacity Additions|Gas|Electricity And Heat|Waste',\n",
       " 'Capacity Additions|Gas|Electricity|Gas Fuels|w/ CCS',\n",
       " 'Capacity Additions|Gas|Electricity|Gas Fuels|w/o CCS',\n",
       " 'Capacity Additions|Gas|Electricity|Geothermal',\n",
       " 'Capacity Additions|Gas|Electricity|Hydro|Dammed',\n",
       " 'Capacity Additions|Gas|Electricity|Hydro|Run Of River',\n",
       " 'Capacity Additions|Gas|Electricity|Liquid Fuels|w/ CCS',\n",
       " 'Capacity Additions|Gas|Electricity|Liquid Fuels|w/o CCS',\n",
       " 'Capacity Additions|Gas|Electricity|Nuclear',\n",
       " 'Capacity Additions|Gas|Electricity|Ocean',\n",
       " 'Capacity Additions|Gas|Electricity|Solar|CSP',\n",
       " 'Capacity Additions|Gas|Electricity|Solar|Open Space|PV',\n",
       " 'Capacity Additions|Gas|Electricity|Solar|Urban|PV',\n",
       " 'Capacity Additions|Gas|Electricity|Solid|Biomass|w/ CCS',\n",
       " 'Capacity Additions|Gas|Electricity|Solid|Biomass|w/o CCS',\n",
       " 'Capacity Additions|Gas|Electricity|Solid|Fossil|w/ CCS',\n",
       " 'Capacity Additions|Gas|Electricity|Solid|Fossil|w/o CCS',\n",
       " 'Capacity Additions|Gas|Electricity|Waste|w/ CCS',\n",
       " 'Capacity Additions|Gas|Electricity|Waste|w/o CCS',\n",
       " 'Capacity Additions|Gas|Electricity|Wind|Offshore',\n",
       " 'Capacity Additions|Gas|Electricity|Wind|Onshore',\n",
       " 'Capacity Additions|Heat|Electricity And Heat|Gas Fuels|w/ CCS',\n",
       " 'Capacity Additions|Heat|Electricity And Heat|Gas Fuels|w/o CCS',\n",
       " 'Capacity Additions|Heat|Electricity And Heat|Geothermal|Deactivated',\n",
       " 'Capacity Additions|Heat|Electricity And Heat|Liquid Fuels|w/ CCS',\n",
       " 'Capacity Additions|Heat|Electricity And Heat|Liquid Fuels|w/o CCS',\n",
       " 'Capacity Additions|Heat|Electricity And Heat|Solid|Biomass|w/ CCS',\n",
       " 'Capacity Additions|Heat|Electricity And Heat|Solid|Biomass|w/o CCS',\n",
       " 'Capacity Additions|Heat|Electricity And Heat|Solid|Fossil|w/ CCS',\n",
       " 'Capacity Additions|Heat|Electricity And Heat|Solid|Fossil|w/o CCS',\n",
       " 'Capacity Additions|Heat|Electricity And Heat|Waste',\n",
       " 'Capacity Additions|Heat|Electricity|Gas Fuels|w/ CCS',\n",
       " 'Capacity Additions|Heat|Electricity|Gas Fuels|w/o CCS',\n",
       " 'Capacity Additions|Heat|Electricity|Geothermal',\n",
       " 'Capacity Additions|Heat|Electricity|Hydro|Dammed',\n",
       " 'Capacity Additions|Heat|Electricity|Hydro|Run Of River',\n",
       " 'Capacity Additions|Heat|Electricity|Liquid Fuels|w/ CCS',\n",
       " 'Capacity Additions|Heat|Electricity|Liquid Fuels|w/o CCS',\n",
       " 'Capacity Additions|Heat|Electricity|Nuclear',\n",
       " 'Capacity Additions|Heat|Electricity|Ocean',\n",
       " 'Capacity Additions|Heat|Electricity|Solar|CSP',\n",
       " 'Capacity Additions|Heat|Electricity|Solar|Open Space|PV',\n",
       " 'Capacity Additions|Heat|Electricity|Solar|Urban|PV',\n",
       " 'Capacity Additions|Heat|Electricity|Solid|Biomass|w/ CCS',\n",
       " 'Capacity Additions|Heat|Electricity|Solid|Biomass|w/o CCS',\n",
       " 'Capacity Additions|Heat|Electricity|Solid|Fossil|w/ CCS',\n",
       " 'Capacity Additions|Heat|Electricity|Solid|Fossil|w/o CCS',\n",
       " 'Capacity Additions|Heat|Electricity|Waste|w/ CCS',\n",
       " 'Capacity Additions|Heat|Electricity|Waste|w/o CCS',\n",
       " 'Capacity Additions|Heat|Electricity|Wind|Offshore',\n",
       " 'Capacity Additions|Heat|Electricity|Wind|Onshore',\n",
       " 'Capacity Additions|Hydrogen|Electricity And Heat|Gas Fuels|w/ CCS',\n",
       " 'Capacity Additions|Hydrogen|Electricity And Heat|Gas Fuels|w/o CCS',\n",
       " 'Capacity Additions|Hydrogen|Electricity And Heat|Geothermal|Deactivated',\n",
       " 'Capacity Additions|Hydrogen|Electricity And Heat|Liquid Fuels|w/ CCS',\n",
       " 'Capacity Additions|Hydrogen|Electricity And Heat|Liquid Fuels|w/o CCS',\n",
       " 'Capacity Additions|Hydrogen|Electricity And Heat|Solid|Biomass|w/ CCS',\n",
       " 'Capacity Additions|Hydrogen|Electricity And Heat|Solid|Biomass|w/o CCS',\n",
       " 'Capacity Additions|Hydrogen|Electricity And Heat|Solid|Fossil|w/ CCS',\n",
       " 'Capacity Additions|Hydrogen|Electricity And Heat|Solid|Fossil|w/o CCS',\n",
       " 'Capacity Additions|Hydrogen|Electricity And Heat|Waste',\n",
       " 'Capacity Additions|Hydrogen|Electricity|Gas Fuels|w/ CCS',\n",
       " 'Capacity Additions|Hydrogen|Electricity|Gas Fuels|w/o CCS',\n",
       " 'Capacity Additions|Hydrogen|Electricity|Geothermal',\n",
       " 'Capacity Additions|Hydrogen|Electricity|Hydro|Dammed',\n",
       " 'Capacity Additions|Hydrogen|Electricity|Hydro|Run Of River',\n",
       " 'Capacity Additions|Hydrogen|Electricity|Liquid Fuels|w/ CCS',\n",
       " 'Capacity Additions|Hydrogen|Electricity|Liquid Fuels|w/o CCS',\n",
       " 'Capacity Additions|Hydrogen|Electricity|Nuclear',\n",
       " 'Capacity Additions|Hydrogen|Electricity|Ocean',\n",
       " 'Capacity Additions|Hydrogen|Electricity|Solar|CSP',\n",
       " 'Capacity Additions|Hydrogen|Electricity|Solar|Open Space|PV',\n",
       " 'Capacity Additions|Hydrogen|Electricity|Solar|Urban|PV',\n",
       " 'Capacity Additions|Hydrogen|Electricity|Solid|Biomass|w/ CCS',\n",
       " 'Capacity Additions|Hydrogen|Electricity|Solid|Biomass|w/o CCS',\n",
       " 'Capacity Additions|Hydrogen|Electricity|Solid|Fossil|w/ CCS',\n",
       " 'Capacity Additions|Hydrogen|Electricity|Solid|Fossil|w/o CCS',\n",
       " 'Capacity Additions|Hydrogen|Electricity|Waste|w/ CCS',\n",
       " 'Capacity Additions|Hydrogen|Electricity|Waste|w/o CCS',\n",
       " 'Capacity Additions|Hydrogen|Electricity|Wind|Offshore',\n",
       " 'Capacity Additions|Hydrogen|Electricity|Wind|Onshore',\n",
       " 'Capacity Additions|Liquid|Electricity And Heat|Gas Fuels|w/ CCS',\n",
       " 'Capacity Additions|Liquid|Electricity And Heat|Gas Fuels|w/o CCS',\n",
       " 'Capacity Additions|Liquid|Electricity And Heat|Geothermal|Deactivated',\n",
       " 'Capacity Additions|Liquid|Electricity And Heat|Liquid Fuels|w/ CCS',\n",
       " 'Capacity Additions|Liquid|Electricity And Heat|Liquid Fuels|w/o CCS',\n",
       " 'Capacity Additions|Liquid|Electricity And Heat|Solid|Biomass|w/ CCS',\n",
       " 'Capacity Additions|Liquid|Electricity And Heat|Solid|Biomass|w/o CCS',\n",
       " 'Capacity Additions|Liquid|Electricity And Heat|Solid|Fossil|w/ CCS',\n",
       " 'Capacity Additions|Liquid|Electricity And Heat|Solid|Fossil|w/o CCS',\n",
       " 'Capacity Additions|Liquid|Electricity And Heat|Waste',\n",
       " 'Capacity Additions|Liquid|Electricity|Gas Fuels|w/ CCS',\n",
       " 'Capacity Additions|Liquid|Electricity|Gas Fuels|w/o CCS',\n",
       " 'Capacity Additions|Liquid|Electricity|Geothermal',\n",
       " 'Capacity Additions|Liquid|Electricity|Hydro|Dammed',\n",
       " 'Capacity Additions|Liquid|Electricity|Hydro|Run Of River',\n",
       " 'Capacity Additions|Liquid|Electricity|Liquid Fuels|w/ CCS',\n",
       " 'Capacity Additions|Liquid|Electricity|Liquid Fuels|w/o CCS',\n",
       " 'Capacity Additions|Liquid|Electricity|Nuclear',\n",
       " 'Capacity Additions|Liquid|Electricity|Ocean',\n",
       " ...]"
      ]
     },
     "execution_count": 78,
     "metadata": {},
     "output_type": "execute_result"
    }
   ],
   "source": [
    "df.filter(variable=\"*Electricity*\").variable\n"
   ]
  },
  {
   "cell_type": "markdown",
   "metadata": {},
   "source": [
    "The information of pyam about Sankey diagrams can be shown here: https://pyam-iamc.readthedocs.io/en/stable/gallery/plot_sankey.html#sphx-glr-gallery-plot-sankey-py\n",
    "\n",
    "In essence, the <b>variable</b> defines the value of the flow, meanwhile <b>source</b> and <b>target</b> are user-defined. The diagram automatically identifies <b>sources</b> and <b>targets</b> to build the connections. <br />\n",
    "\n",
    "{ <br />\n",
    "\n",
    "    variable: (source, target), \n",
    "\n",
    "} <br />\n",
    "\n",
    "\n",
    "We first map the variables and define categories. Then, we call the object Sankey plot"
   ]
  },
  {
   "cell_type": "code",
   "execution_count": 79,
   "metadata": {},
   "outputs": [
    {
     "name": "stderr",
     "output_type": "stream",
     "text": [
      "c:\\Users\\34670\\.conda\\envs\\wiliamcformat\\Lib\\site-packages\\pyam\\figures.py:58: FutureWarning:\n",
      "\n",
      "Downcasting behavior in `replace` is deprecated and will be removed in a future version. To retain the old behavior, explicitly call `result.infer_objects(copy=False)`. To opt-in to the future behavior, set `pd.set_option('future.no_silent_downcasting', True)`\n",
      "\n"
     ]
    },
    {
     "data": {
      "application/vnd.plotly.v1+json": {
       "config": {
        "plotlyServerURL": "https://plot.ly"
       },
       "data": [
        {
         "link": {
          "hovertemplate": "\"%{source.label}\" to \"%{target.label}\":                 %{value}<extra></extra>",
          "source": [
           7,
           2,
           8,
           0,
           0,
           9,
           9,
           1,
           5,
           6,
           6,
           6,
           4,
           4,
           4,
           4,
           3,
           3,
           10,
           10
          ],
          "target": [
           11,
           11,
           11,
           11,
           11,
           11,
           11,
           11,
           11,
           11,
           11,
           11,
           11,
           11,
           11,
           11,
           11,
           11,
           11,
           11
          ],
          "value": [
           0,
           4.61141,
           0.64425,
           4.25786,
           0.624191,
           0,
           0.000334759,
           3.75599,
           0.00000895725,
           0.000427612,
           4.46034,
           0.718402,
           0,
           1.55532,
           0,
           10.7275,
           0,
           0.0261382,
           1.71997,
           2.334
          ]
         },
         "node": {
          "color": "blue",
          "hovertemplate": "%{label}: %{value}<extra></extra>",
          "label": [
           "Hydro",
           "Nuclear",
           "Gases wothout CCS",
           "Waste",
           "Solids",
           "Ocean",
           "Solar",
           "Gas fuels",
           "Geothermal",
           "Liquids",
           "Wind",
           "Power Grid"
          ],
          "line": {
           "color": "black",
           "width": 0.5
          },
          "pad": 15,
          "thickness": 10
         },
         "type": "sankey",
         "valuesuffix": "EJ/yr"
        }
       ],
       "layout": {
        "font": {
         "size": 10
        },
        "template": {
         "data": {
          "bar": [
           {
            "error_x": {
             "color": "#2a3f5f"
            },
            "error_y": {
             "color": "#2a3f5f"
            },
            "marker": {
             "line": {
              "color": "#E5ECF6",
              "width": 0.5
             },
             "pattern": {
              "fillmode": "overlay",
              "size": 10,
              "solidity": 0.2
             }
            },
            "type": "bar"
           }
          ],
          "barpolar": [
           {
            "marker": {
             "line": {
              "color": "#E5ECF6",
              "width": 0.5
             },
             "pattern": {
              "fillmode": "overlay",
              "size": 10,
              "solidity": 0.2
             }
            },
            "type": "barpolar"
           }
          ],
          "carpet": [
           {
            "aaxis": {
             "endlinecolor": "#2a3f5f",
             "gridcolor": "white",
             "linecolor": "white",
             "minorgridcolor": "white",
             "startlinecolor": "#2a3f5f"
            },
            "baxis": {
             "endlinecolor": "#2a3f5f",
             "gridcolor": "white",
             "linecolor": "white",
             "minorgridcolor": "white",
             "startlinecolor": "#2a3f5f"
            },
            "type": "carpet"
           }
          ],
          "choropleth": [
           {
            "colorbar": {
             "outlinewidth": 0,
             "ticks": ""
            },
            "type": "choropleth"
           }
          ],
          "contour": [
           {
            "colorbar": {
             "outlinewidth": 0,
             "ticks": ""
            },
            "colorscale": [
             [
              0,
              "#0d0887"
             ],
             [
              0.1111111111111111,
              "#46039f"
             ],
             [
              0.2222222222222222,
              "#7201a8"
             ],
             [
              0.3333333333333333,
              "#9c179e"
             ],
             [
              0.4444444444444444,
              "#bd3786"
             ],
             [
              0.5555555555555556,
              "#d8576b"
             ],
             [
              0.6666666666666666,
              "#ed7953"
             ],
             [
              0.7777777777777778,
              "#fb9f3a"
             ],
             [
              0.8888888888888888,
              "#fdca26"
             ],
             [
              1,
              "#f0f921"
             ]
            ],
            "type": "contour"
           }
          ],
          "contourcarpet": [
           {
            "colorbar": {
             "outlinewidth": 0,
             "ticks": ""
            },
            "type": "contourcarpet"
           }
          ],
          "heatmap": [
           {
            "colorbar": {
             "outlinewidth": 0,
             "ticks": ""
            },
            "colorscale": [
             [
              0,
              "#0d0887"
             ],
             [
              0.1111111111111111,
              "#46039f"
             ],
             [
              0.2222222222222222,
              "#7201a8"
             ],
             [
              0.3333333333333333,
              "#9c179e"
             ],
             [
              0.4444444444444444,
              "#bd3786"
             ],
             [
              0.5555555555555556,
              "#d8576b"
             ],
             [
              0.6666666666666666,
              "#ed7953"
             ],
             [
              0.7777777777777778,
              "#fb9f3a"
             ],
             [
              0.8888888888888888,
              "#fdca26"
             ],
             [
              1,
              "#f0f921"
             ]
            ],
            "type": "heatmap"
           }
          ],
          "heatmapgl": [
           {
            "colorbar": {
             "outlinewidth": 0,
             "ticks": ""
            },
            "colorscale": [
             [
              0,
              "#0d0887"
             ],
             [
              0.1111111111111111,
              "#46039f"
             ],
             [
              0.2222222222222222,
              "#7201a8"
             ],
             [
              0.3333333333333333,
              "#9c179e"
             ],
             [
              0.4444444444444444,
              "#bd3786"
             ],
             [
              0.5555555555555556,
              "#d8576b"
             ],
             [
              0.6666666666666666,
              "#ed7953"
             ],
             [
              0.7777777777777778,
              "#fb9f3a"
             ],
             [
              0.8888888888888888,
              "#fdca26"
             ],
             [
              1,
              "#f0f921"
             ]
            ],
            "type": "heatmapgl"
           }
          ],
          "histogram": [
           {
            "marker": {
             "pattern": {
              "fillmode": "overlay",
              "size": 10,
              "solidity": 0.2
             }
            },
            "type": "histogram"
           }
          ],
          "histogram2d": [
           {
            "colorbar": {
             "outlinewidth": 0,
             "ticks": ""
            },
            "colorscale": [
             [
              0,
              "#0d0887"
             ],
             [
              0.1111111111111111,
              "#46039f"
             ],
             [
              0.2222222222222222,
              "#7201a8"
             ],
             [
              0.3333333333333333,
              "#9c179e"
             ],
             [
              0.4444444444444444,
              "#bd3786"
             ],
             [
              0.5555555555555556,
              "#d8576b"
             ],
             [
              0.6666666666666666,
              "#ed7953"
             ],
             [
              0.7777777777777778,
              "#fb9f3a"
             ],
             [
              0.8888888888888888,
              "#fdca26"
             ],
             [
              1,
              "#f0f921"
             ]
            ],
            "type": "histogram2d"
           }
          ],
          "histogram2dcontour": [
           {
            "colorbar": {
             "outlinewidth": 0,
             "ticks": ""
            },
            "colorscale": [
             [
              0,
              "#0d0887"
             ],
             [
              0.1111111111111111,
              "#46039f"
             ],
             [
              0.2222222222222222,
              "#7201a8"
             ],
             [
              0.3333333333333333,
              "#9c179e"
             ],
             [
              0.4444444444444444,
              "#bd3786"
             ],
             [
              0.5555555555555556,
              "#d8576b"
             ],
             [
              0.6666666666666666,
              "#ed7953"
             ],
             [
              0.7777777777777778,
              "#fb9f3a"
             ],
             [
              0.8888888888888888,
              "#fdca26"
             ],
             [
              1,
              "#f0f921"
             ]
            ],
            "type": "histogram2dcontour"
           }
          ],
          "mesh3d": [
           {
            "colorbar": {
             "outlinewidth": 0,
             "ticks": ""
            },
            "type": "mesh3d"
           }
          ],
          "parcoords": [
           {
            "line": {
             "colorbar": {
              "outlinewidth": 0,
              "ticks": ""
             }
            },
            "type": "parcoords"
           }
          ],
          "pie": [
           {
            "automargin": true,
            "type": "pie"
           }
          ],
          "scatter": [
           {
            "fillpattern": {
             "fillmode": "overlay",
             "size": 10,
             "solidity": 0.2
            },
            "type": "scatter"
           }
          ],
          "scatter3d": [
           {
            "line": {
             "colorbar": {
              "outlinewidth": 0,
              "ticks": ""
             }
            },
            "marker": {
             "colorbar": {
              "outlinewidth": 0,
              "ticks": ""
             }
            },
            "type": "scatter3d"
           }
          ],
          "scattercarpet": [
           {
            "marker": {
             "colorbar": {
              "outlinewidth": 0,
              "ticks": ""
             }
            },
            "type": "scattercarpet"
           }
          ],
          "scattergeo": [
           {
            "marker": {
             "colorbar": {
              "outlinewidth": 0,
              "ticks": ""
             }
            },
            "type": "scattergeo"
           }
          ],
          "scattergl": [
           {
            "marker": {
             "colorbar": {
              "outlinewidth": 0,
              "ticks": ""
             }
            },
            "type": "scattergl"
           }
          ],
          "scattermapbox": [
           {
            "marker": {
             "colorbar": {
              "outlinewidth": 0,
              "ticks": ""
             }
            },
            "type": "scattermapbox"
           }
          ],
          "scatterpolar": [
           {
            "marker": {
             "colorbar": {
              "outlinewidth": 0,
              "ticks": ""
             }
            },
            "type": "scatterpolar"
           }
          ],
          "scatterpolargl": [
           {
            "marker": {
             "colorbar": {
              "outlinewidth": 0,
              "ticks": ""
             }
            },
            "type": "scatterpolargl"
           }
          ],
          "scatterternary": [
           {
            "marker": {
             "colorbar": {
              "outlinewidth": 0,
              "ticks": ""
             }
            },
            "type": "scatterternary"
           }
          ],
          "surface": [
           {
            "colorbar": {
             "outlinewidth": 0,
             "ticks": ""
            },
            "colorscale": [
             [
              0,
              "#0d0887"
             ],
             [
              0.1111111111111111,
              "#46039f"
             ],
             [
              0.2222222222222222,
              "#7201a8"
             ],
             [
              0.3333333333333333,
              "#9c179e"
             ],
             [
              0.4444444444444444,
              "#bd3786"
             ],
             [
              0.5555555555555556,
              "#d8576b"
             ],
             [
              0.6666666666666666,
              "#ed7953"
             ],
             [
              0.7777777777777778,
              "#fb9f3a"
             ],
             [
              0.8888888888888888,
              "#fdca26"
             ],
             [
              1,
              "#f0f921"
             ]
            ],
            "type": "surface"
           }
          ],
          "table": [
           {
            "cells": {
             "fill": {
              "color": "#EBF0F8"
             },
             "line": {
              "color": "white"
             }
            },
            "header": {
             "fill": {
              "color": "#C8D4E3"
             },
             "line": {
              "color": "white"
             }
            },
            "type": "table"
           }
          ]
         },
         "layout": {
          "annotationdefaults": {
           "arrowcolor": "#2a3f5f",
           "arrowhead": 0,
           "arrowwidth": 1
          },
          "autotypenumbers": "strict",
          "coloraxis": {
           "colorbar": {
            "outlinewidth": 0,
            "ticks": ""
           }
          },
          "colorscale": {
           "diverging": [
            [
             0,
             "#8e0152"
            ],
            [
             0.1,
             "#c51b7d"
            ],
            [
             0.2,
             "#de77ae"
            ],
            [
             0.3,
             "#f1b6da"
            ],
            [
             0.4,
             "#fde0ef"
            ],
            [
             0.5,
             "#f7f7f7"
            ],
            [
             0.6,
             "#e6f5d0"
            ],
            [
             0.7,
             "#b8e186"
            ],
            [
             0.8,
             "#7fbc41"
            ],
            [
             0.9,
             "#4d9221"
            ],
            [
             1,
             "#276419"
            ]
           ],
           "sequential": [
            [
             0,
             "#0d0887"
            ],
            [
             0.1111111111111111,
             "#46039f"
            ],
            [
             0.2222222222222222,
             "#7201a8"
            ],
            [
             0.3333333333333333,
             "#9c179e"
            ],
            [
             0.4444444444444444,
             "#bd3786"
            ],
            [
             0.5555555555555556,
             "#d8576b"
            ],
            [
             0.6666666666666666,
             "#ed7953"
            ],
            [
             0.7777777777777778,
             "#fb9f3a"
            ],
            [
             0.8888888888888888,
             "#fdca26"
            ],
            [
             1,
             "#f0f921"
            ]
           ],
           "sequentialminus": [
            [
             0,
             "#0d0887"
            ],
            [
             0.1111111111111111,
             "#46039f"
            ],
            [
             0.2222222222222222,
             "#7201a8"
            ],
            [
             0.3333333333333333,
             "#9c179e"
            ],
            [
             0.4444444444444444,
             "#bd3786"
            ],
            [
             0.5555555555555556,
             "#d8576b"
            ],
            [
             0.6666666666666666,
             "#ed7953"
            ],
            [
             0.7777777777777778,
             "#fb9f3a"
            ],
            [
             0.8888888888888888,
             "#fdca26"
            ],
            [
             1,
             "#f0f921"
            ]
           ]
          },
          "colorway": [
           "#636efa",
           "#EF553B",
           "#00cc96",
           "#ab63fa",
           "#FFA15A",
           "#19d3f3",
           "#FF6692",
           "#B6E880",
           "#FF97FF",
           "#FECB52"
          ],
          "font": {
           "color": "#2a3f5f"
          },
          "geo": {
           "bgcolor": "white",
           "lakecolor": "white",
           "landcolor": "#E5ECF6",
           "showlakes": true,
           "showland": true,
           "subunitcolor": "white"
          },
          "hoverlabel": {
           "align": "left"
          },
          "hovermode": "closest",
          "mapbox": {
           "style": "light"
          },
          "paper_bgcolor": "white",
          "plot_bgcolor": "#E5ECF6",
          "polar": {
           "angularaxis": {
            "gridcolor": "white",
            "linecolor": "white",
            "ticks": ""
           },
           "bgcolor": "#E5ECF6",
           "radialaxis": {
            "gridcolor": "white",
            "linecolor": "white",
            "ticks": ""
           }
          },
          "scene": {
           "xaxis": {
            "backgroundcolor": "#E5ECF6",
            "gridcolor": "white",
            "gridwidth": 2,
            "linecolor": "white",
            "showbackground": true,
            "ticks": "",
            "zerolinecolor": "white"
           },
           "yaxis": {
            "backgroundcolor": "#E5ECF6",
            "gridcolor": "white",
            "gridwidth": 2,
            "linecolor": "white",
            "showbackground": true,
            "ticks": "",
            "zerolinecolor": "white"
           },
           "zaxis": {
            "backgroundcolor": "#E5ECF6",
            "gridcolor": "white",
            "gridwidth": 2,
            "linecolor": "white",
            "showbackground": true,
            "ticks": "",
            "zerolinecolor": "white"
           }
          },
          "shapedefaults": {
           "line": {
            "color": "#2a3f5f"
           }
          },
          "ternary": {
           "aaxis": {
            "gridcolor": "white",
            "linecolor": "white",
            "ticks": ""
           },
           "baxis": {
            "gridcolor": "white",
            "linecolor": "white",
            "ticks": ""
           },
           "bgcolor": "#E5ECF6",
           "caxis": {
            "gridcolor": "white",
            "linecolor": "white",
            "ticks": ""
           }
          },
          "title": {
           "x": 0.05
          },
          "xaxis": {
           "automargin": true,
           "gridcolor": "white",
           "linecolor": "white",
           "ticks": "",
           "title": {
            "standoff": 15
           },
           "zerolinecolor": "white",
           "zerolinewidth": 2
          },
          "yaxis": {
           "automargin": true,
           "gridcolor": "white",
           "linecolor": "white",
           "ticks": "",
           "title": {
            "standoff": 15
           },
           "zerolinecolor": "white",
           "zerolinewidth": 2
          }
         }
        },
        "title": {
         "text": "region: China, year: 2050"
        }
       }
      }
     },
     "metadata": {},
     "output_type": "display_data"
    }
   ],
   "source": [
    "sankey_mapping = {\n",
    "    \"Secondary Energy|Electricity|Gas Fuels|w/ CCS\": (\"Gas fuels\", \"Power Grid\"),\n",
    "    \"Secondary Energy|Electricity|Gas Fuels|w/o CCS\": (\"Gases wothout CCS\", \"Power Grid\"),\n",
    "    \"Secondary Energy|Electricity|Geothermal\": (\"Geothermal\", \"Power Grid\"),\n",
    "    \"Secondary Energy|Electricity|Hydro|Dammed\": (\"Hydro\", \"Power Grid\"),\n",
    "    \"Secondary Energy|Electricity|Hydro|Run Of River\": (\"Hydro\", \"Power Grid\"),\n",
    "    \"Secondary Energy|Electricity|Liquid Fuels|w/ CCS\": (\"Liquids\", \"Power Grid\"),\n",
    "    \"Secondary Energy|Electricity|Liquid Fuels|w/o CCS\": (\"Liquids\", \"Power Grid\"),\n",
    "    \"Secondary Energy|Electricity|Nuclear\": (\"Nuclear\", \"Power Grid\"),\n",
    "    \"Secondary Energy|Electricity|Ocean\": (\"Ocean\", \"Power Grid\"),\n",
    "    \"Secondary Energy|Electricity|Solar|CSP\": (\"Solar\", \"Power Grid\"),\n",
    "    \"Secondary Energy|Electricity|Solar|Open Space|PV\": (\"Solar\", \"Power Grid\"),\n",
    "    \"Secondary Energy|Electricity|Solar|Urban|PV\": (\"Solar\", \"Power Grid\"),\n",
    "    \"Secondary Energy|Electricity|Solid|Biomass|w/ CCS\": (\"Solids\", \"Power Grid\"),\n",
    "    \"Secondary Energy|Electricity|Solid|Biomass|w/o CCS\": (\"Solids\", \"Power Grid\"),\n",
    "    \"Secondary Energy|Electricity|Solid|Fossil|w/ CCS\": (\"Solids\", \"Power Grid\"),\n",
    "    \"Secondary Energy|Electricity|Solid|Fossil|w/o CCS\": (\"Solids\", \"Power Grid\"),\n",
    "    \"Secondary Energy|Electricity|Waste|w/ CCS\": (\"Waste\", \"Power Grid\"),\n",
    "    \"Secondary Energy|Electricity|Waste|w/o CCS\": (\"Waste\", \"Power Grid\"),\n",
    "    \"Secondary Energy|Electricity|Wind|Offshore\": (\"Wind\", \"Power Grid\"),\n",
    "    \"Secondary Energy|Electricity|Wind|Onshore\": (\"Wind\", \"Power Grid\")\n",
    "}\n",
    "\n",
    "\n",
    "fig = df.filter(region=\"China\", year=2050, unit=\"EJ/yr\").plot.sankey(mapping=sankey_mapping)\n",
    "# calling `show()` is necessary to have the thumbnail in the gallery overview\n",
    "plotly.io.show(fig)"
   ]
  },
  {
   "cell_type": "markdown",
   "metadata": {},
   "source": [
    "\"Final Energy|Accommodation|Electricity\": (\"Power Grid\", \"Accommodation\"),\n",
    "    \"Final Energy|Animals|Electricity\": (\"Power Grid\", \"Animals\"),\n",
    "    \"Final Energy|Construction|Electricity\": (\"Power Grid\", \"Construction\"),\n",
    "    \"Final Energy|Crops|Electricity\": (\"Power Grid\", \"Crops\"),\n",
    "    \"Final Energy|Education|Electricity\": (\"Power Grid\", \"Education\"),\n",
    "    \"Final Energy|Entertaiment|Electricity\": (\"Power Grid\", \"Entertaiment\"),\n",
    "    \"Final Energy|Extraction Gas|Electricity\": (\"Power Grid\", \"Extraction Gas\"),\n",
    "    \"Final Energy|Extraction Oil|Electricity\": (\"Power Grid\", \"Extraction Oil\"),\n",
    "    \"Final Energy|Extraction Other Gas|Electricity\": (\"Power Grid\", \"Extraction Other Gas\"),\n",
    "    \"Final Energy|Finance|Electricity\": (\"Power Grid\", \"Finance\"),\n",
    "    \"Final Energy|Fishing|Electricity\": (\"Power Grid\", \"Fishing\"),\n",
    "    \"Final Energy|Forestry|Electricity\": (\"Power Grid\", \"Forestry\"),\n",
    "    \"Final Energy|Health|Electricity\": (\"Power Grid\", \"Health\"),\n",
    "    \"Final Energy|Manufacture Chemical|Electricity\": (\"Power Grid\", \"Manufacture Chemical\"),\n",
    "    \"Final Energy|Manufacture Electrical Equipment|Electricity\": (\"Power Grid\", \"Manufacture Electrical Equipment\"),\n",
    "    \"Final Energy|Manufacture Electronics|Electricity\": (\"Power Grid\", \"Manufacture Electronics\"),\n",
    "    \"Final Energy|Manufacture Food|Electricity\": (\"Power Grid\", \"Manufacture Food\"),\n",
    "    \"Final Energy|Manufacture Machinery|Electricity\": (\"Power Grid\", \"Manufacture Machinery\"),\n",
    "    \"Final Energy|Manufacture Metal Products|Electricity\": (\"Power Grid\", \"Manufacture Metal Products\"),\n",
    "    \"Final Energy|Manufacture Other Non Metal|Electricity\": (\"Power Grid\", \"Manufacture Other Non Metal\"),\n",
    "    \"Final Energy|Manufacture Other|Electricity\": (\"Power Grid\", \"Manufacture Other\"),\n",
    "    \"Final Energy|Manufacture Plastic|Electricity\": (\"Power Grid\", \"Manufacture Plastic\"),\n",
    "    \"Final Energy|Manufacture Vehicles|Electricity\": (\"Power Grid\", \"Manufacture Vehicles\"),\n",
    "    \"Final Energy|Manufacture Wood|Electricity\": (\"Power Grid\", \"Manufacture Wood\"),\n",
    "    \"Final Energy|Mining And Manufacturing Aluminium|Electricity\": (\"Power Grid\", \"Mining And Manufacturing Aluminium\"),\n",
    "    \"Final Energy|Mining And Manufacturing Copper|Electricity\": (\"Power Grid\", \"Mining And Manufacturing Copper\"),\n",
    "    \"Final Energy|Mining And Manufacturing Iron|Electricity\": (\"Power Grid\", \"Mining And Manufacturing Iron\"),\n",
    "    \"Final Energy|Mining And Manufacturing Lead Zinc Tin|Electricity\": (\"Power Grid\", \"Mining And Manufacturing Lead Zinc Tin\"),\n",
    "    \"Final Energy|Mining And Manufacturing Nickel|Electricity\": (\"Power Grid\", \"Mining And Manufacturing Nickel\"),\n",
    "    \"Final Energy|Mining And Manufacturing Other Metals|Electricity\": (\"Power Grid\", \"Mining And Manufacturing Other Metals\"),\n",
    "    \"Final Energy|Mining And Manufacturing Precious Metals|Electricity\": (\"Power Grid\", \"Mining And Manufacturing Precious Metals\"),\n",
    "    \"Final Energy|Mining And Manufacturing Uranium Thorium|Electricity\": (\"Power Grid\", \"Mining And Manufacturing Uranium Thorium\"),\n",
    "    \"Final Energy|Mining Coal|Electricity\": (\"Power Grid\", \"Mining Coal\"),\n",
    "    \"Final Energy|Mining Non Metals|Electricity\": (\"Power Grid\", \"Mining Non Metals\"),\n",
    "    \"Final Energy|Non-Energy Use|Electricity\": (\"Power Grid\", \"Non-Energy Use\"),\n",
    "    \"Final Energy|Other Services|Electricity\": (\"Power Grid\", \"Other Services\"),\n",
    "    \"Final Energy|Private Households|Electricity\": (\"Power Grid\", \"Private Households\"),\n",
    "    \"Final Energy|Public Administration|Electricity\": (\"Power Grid\", \"Public Administration\"),\n",
    "    \"Final Energy|Real Estate|Electricity\": (\"Power Grid\", \"Real Estate\"),\n",
    "    \"Final Energy|Telecommunications|Electricity\": (\"Power Grid\", \"Telecommunications\"),\n",
    "    \"Final Energy|Trade Repair Vehicles|Electricity\": (\"Power Grid\", \"Trade Repair Vehicles\"),\n",
    "    \"Final Energy|Transport Air|Electricity\": (\"Power Grid\", \"Transport Air\"),\n",
    "    \"Final Energy|Transport Inland Water|Electricity\": (\"Power Grid\", \"Transport Inland Water\"),\n",
    "    \"Final Energy|Transport Other Land|Electricity\": (\"Power Grid\", \"Transport Other Land\"),\n",
    "    \"Final Energy|Transport Pipeline|Electricity\": (\"Power Grid\", \"Transport Pipeline\"),\n",
    "    \"Final Energy|Transport Rail|Electricity\": (\"Power Grid\", \"Transport Rail\"),\n",
    "    \"Final Energy|Transport Sea|Electricity\": (\"Power Grid\", \"Transport Sea\"),\n",
    "    \"Final Energy|Waste Management|Electricity\": (\"Power Grid\", \"Waste Management\")"
   ]
  },
  {
   "cell_type": "code",
   "execution_count": 43,
   "metadata": {},
   "outputs": [],
   "source": [
    "subset_df_names = [\n",
    "    \"Final Energy|Accommodation|Electricity\",\n",
    "    \"Final Energy|Animals|Electricity\",\n",
    "    \"Final Energy|Construction|Electricity\",\n",
    "    \"Final Energy|Crops|Electricity\",\n",
    "    \"Final Energy|Education|Electricity\",\n",
    "    \"Final Energy|Entertaiment|Electricity\",\n",
    "    \"Final Energy|Extraction Gas|Electricity\",\n",
    "    \"Final Energy|Extraction Oil|Electricity\",\n",
    "    \"Final Energy|Extraction Other Gas|Electricity\",\n",
    "    \"Final Energy|Finance|Electricity\",\n",
    "    \"Final Energy|Fishing|Electricity\",\n",
    "    \"Final Energy|Forestry|Electricity\",\n",
    "    \"Final Energy|Health|Electricity\",\n",
    "    \"Final Energy|Manufacture Chemical|Electricity\",\n",
    "    \"Final Energy|Manufacture Electrical Equipment|Electricity\",\n",
    "    \"Final Energy|Manufacture Electronics|Electricity\",\n",
    "    \"Final Energy|Manufacture Food|Electricity\",\n",
    "    \"Final Energy|Manufacture Machinery|Electricity\",\n",
    "    \"Final Energy|Manufacture Metal Products|Electricity\",\n",
    "    \"Final Energy|Manufacture Other Non Metal|Electricity\",\n",
    "    \"Final Energy|Manufacture Other|Electricity\",\n",
    "    \"Final Energy|Manufacture Plastic|Electricity\",\n",
    "    \"Final Energy|Manufacture Vehicles|Electricity\",\n",
    "    \"Final Energy|Manufacture Wood|Electricity\",\n",
    "    \"Final Energy|Mining And Manufacturing Aluminium|Electricity\",\n",
    "    \"Final Energy|Mining And Manufacturing Copper|Electricity\",\n",
    "    \"Final Energy|Mining And Manufacturing Iron|Electricity\",\n",
    "    \"Final Energy|Mining And Manufacturing Lead Zinc Tin|Electricity\",\n",
    "    \"Final Energy|Mining And Manufacturing Nickel|Electricity\",\n",
    "    \"Final Energy|Mining And Manufacturing Other Metals|Electricity\",\n",
    "    \"Final Energy|Mining And Manufacturing Precious Metals|Electricity\",\n",
    "    \"Final Energy|Mining And Manufacturing Uranium Thorium|Electricity\",\n",
    "    \"Final Energy|Mining Coal|Electricity\",\n",
    "    \"Final Energy|Mining Non Metals|Electricity\",\n",
    "    \"Final Energy|Non-Energy Use|Electricity\",\n",
    "    \"Final Energy|Other Services|Electricity\",\n",
    "    \"Final Energy|Private Households|Electricity\",\n",
    "    \"Final Energy|Public Administration|Electricity\",\n",
    "    \"Final Energy|Real Estate|Electricity\",\n",
    "    \"Final Energy|Telecommunications|Electricity\",\n",
    "    \"Final Energy|Trade Repair Vehicles|Electricity\",\n",
    "    \"Final Energy|Transport Air|Electricity\",\n",
    "    \"Final Energy|Transport Inland Water|Electricity\",\n",
    "    \"Final Energy|Transport Other Land|Electricity\",\n",
    "    \"Final Energy|Transport Pipeline|Electricity\",\n",
    "    \"Final Energy|Transport Rail|Electricity\",\n",
    "    \"Final Energy|Transport Sea|Electricity\",\n",
    "    \"Final Energy|Waste Management|Electricity\"\n",
    "    ]"
   ]
  },
  {
   "cell_type": "markdown",
   "metadata": {},
   "source": [
    "There is no conversion to TJ/yr...three options: a) adequate energy variables in Wiliam to have all of them in TJ/yr; b) contact to the developers of pyam to integrate all the unit conversion available in WILIAM; c) do a new branch in pyam to integrate the unit conversion available in WILIAM\n",
    "<br/> \n",
    "\n",
    "df.convert_unit(\"EJ/yr\", to=\"TJ/yr\").timeseries()"
   ]
  }
 ],
 "metadata": {
  "kernelspec": {
   "display_name": "wiliamcformat",
   "language": "python",
   "name": "python3"
  },
  "language_info": {
   "codemirror_mode": {
    "name": "ipython",
    "version": 3
   },
   "file_extension": ".py",
   "mimetype": "text/x-python",
   "name": "python",
   "nbconvert_exporter": "python",
   "pygments_lexer": "ipython3",
   "version": "3.12.4"
  }
 },
 "nbformat": 4,
 "nbformat_minor": 2
}
