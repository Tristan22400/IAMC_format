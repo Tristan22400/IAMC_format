{
 "cells": [
  {
   "cell_type": "code",
   "execution_count": 13,
   "metadata": {},
   "outputs": [],
   "source": [
    "import csv\n",
    "\n",
    "def csv_to_dict(filename):\n",
    "    dictionary = {}\n",
    "    with open(filename, mode='r', newline='') as file:\n",
    "        reader = csv.reader(file)\n",
    "        \n",
    "        for row in reader:\n",
    "            if len(row) != 2:\n",
    "                continue  # Skip rows that don't have exactly two columns\n",
    "            key, value = row\n",
    "            dictionary[key] = value\n",
    "    \n",
    "    return dictionary\n",
    "\n",
    "# Convert the CSV file to a dictionary\n",
    "filename = 'example.csv'\n",
    "my_dict = csv_to_dict(filename)"
   ]
  },
  {
   "cell_type": "code",
   "execution_count": 14,
   "metadata": {},
   "outputs": [],
   "source": [
    "# Write the dictionary to a text file\n",
    "with open('new_variable_name_dict.txt', \"w\") as file:\n",
    "    \n",
    "    # Start with the opening curly brace\n",
    "    file.write(\"{\\n\")\n",
    "    \n",
    "    # Write each key-value pair on a new line with single quotes\n",
    "    for key, value in my_dict.items():\n",
    "        file.write(f\"    '{key}': '{value}',\\n\")\n",
    "    \n",
    "    # End with the closing curly brace\n",
    "    file.write(\"}\\n\")"
   ]
  }
 ],
 "metadata": {
  "kernelspec": {
   "display_name": "IAMC_format",
   "language": "python",
   "name": "python3"
  },
  "language_info": {
   "codemirror_mode": {
    "name": "ipython",
    "version": 3
   },
   "file_extension": ".py",
   "mimetype": "text/x-python",
   "name": "python",
   "nbconvert_exporter": "python",
   "pygments_lexer": "ipython3",
   "version": "3.10.14"
  }
 },
 "nbformat": 4,
 "nbformat_minor": 2
}
