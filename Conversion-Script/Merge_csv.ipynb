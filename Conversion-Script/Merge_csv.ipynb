{
 "cells": [
  {
   "cell_type": "code",
   "execution_count": null,
   "metadata": {},
   "outputs": [],
   "source": [
    "import os\n",
    "import glob\n",
    "import pandas as pd\n",
    "\n",
    "def merge_csv_files(input_folder, output_file):\n",
    "    # Get a list of all CSV files in the input folder\n",
    "    csv_files = glob.glob(os.path.join(input_folder, '*.csv'))\n",
    "    \n",
    "    # Initialize a DataFrame to store the merged data\n",
    "    merged_data = pd.DataFrame()\n",
    "\n",
    "    for i, file_path in enumerate(csv_files):\n",
    "        # Read CSV file into a DataFrame\n",
    "        df = pd.read_csv(file_path)\n",
    "        \n",
    "        \n",
    "        \n",
    "        # Append DataFrame to the merged_data DataFrame\n",
    "        merged_data = merged_data._append(df, ignore_index=True)\n",
    "    \n",
    "    # Write the merged data to a CSV file\n",
    "    merged_data.to_csv(output_file, index=False)\n",
    "    print(\"Merged CSV file saved successfully.\")\n",
    "\n",
    "# Example usage:\n",
    "input_folder = 'File_Converted'\n",
    "output_file = 'Scenario.csv'\n",
    "merge_csv_files(input_folder, output_file)"
   ]
  }
 ],
 "metadata": {
  "kernelspec": {
   "display_name": "Energy_economics",
   "language": "python",
   "name": "python3"
  },
  "language_info": {
   "codemirror_mode": {
    "name": "ipython",
    "version": 3
   },
   "file_extension": ".py",
   "mimetype": "text/x-python",
   "name": "python",
   "nbconvert_exporter": "python",
   "pygments_lexer": "ipython3",
   "version": "3.12.1"
  }
 },
 "nbformat": 4,
 "nbformat_minor": 2
}
