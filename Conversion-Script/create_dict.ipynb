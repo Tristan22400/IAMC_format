{
 "cells": [
  {
   "cell_type": "code",
   "execution_count": 3,
   "metadata": {},
   "outputs": [],
   "source": [
    "import pandas as pd\n",
    "\n",
    "file1 = \"/home/tristan-martin/Documents/Stage/Documentation/Data-format/Conversion-Script/File_Converted/Baseline no policies no CO2taxconverted.csv\"\n",
    "file2 = \"/home/tristan-martin/Documents/Stage/Documentation/Data-format/Conversion-Script/File_Converted/Baseline no policies no CO2taxconvertedsimple.csv\"\n",
    "\n",
    "IAMC_name_df = pd.read_csv(file1)\n",
    "Wiliam_name_df = pd.read_csv(file2)\n",
    "\n",
    "IAMC_name_df['Variable Wiliam'] = Wiliam_name_df['Variable']\n",
    "IAMC_name_df['Unit Wiliam'] = Wiliam_name_df['Unit']\n",
    "IAMC_name_df = IAMC_name_df[['Variable', 'Unit', 'Variable Wiliam', 'Unit Wiliam']]\n",
    "IAMC_name_df.to_excel('Variable_Table.xlsx')"
   ]
  }
 ],
 "metadata": {
  "kernelspec": {
   "display_name": "Energy_economics",
   "language": "python",
   "name": "python3"
  },
  "language_info": {
   "codemirror_mode": {
    "name": "ipython",
    "version": 3
   },
   "file_extension": ".py",
   "mimetype": "text/x-python",
   "name": "python",
   "nbconvert_exporter": "python",
   "pygments_lexer": "ipython3",
   "version": "3.12.1"
  }
 },
 "nbformat": 4,
 "nbformat_minor": 2
}
