{
 "cells": [
  {
   "cell_type": "code",
   "execution_count": null,
   "metadata": {},
   "outputs": [],
   "source": [
    "import numpy as np \n",
    "import pandas as pd\n",
    "import os\n",
    "import time"
   ]
  },
  {
   "cell_type": "markdown",
   "metadata": {},
   "source": [
    "The following code enables everyone to transform the data for William to IAMC format in a partial way. \n",
    "To run correctly the code, you need to : \n",
    "- Create the File_To_Convert folder \n",
    "- Put the file to convert inside. \n",
    "- Install the numpy and pandas dependencies if the running of the cell above is not working. \n",
    " - Run the following command line pip3 install pandas and pip3 install numpy \n",
    "- Put the scenario name as input after running the third cell. \n",
    "- Create a folder named Variable_Reference with two files, one called reference.xlsx which correspond to the variable used in IPCC work and another called Variable_name_IAMC.xlsx which corresponds to the translation  of William's name to IAMC's format. It is still under review and needs to be thought again. Only certain variable are translated to IAMC's format. \n",
    " You can download the files on the following link : "
   ]
  },
  {
   "cell_type": "markdown",
   "metadata": {},
   "source": [
    "### Treat all the variables for csv and excel file \n"
   ]
  },
  {
   "cell_type": "code",
   "execution_count": null,
   "metadata": {},
   "outputs": [],
   "source": [
    "\n",
    "time0= time.time()\n",
    "\n",
    "def get_last_added_file(folder_path):\n",
    "    # Get a list of all files in the folder\n",
    "    files = os.listdir(folder_path)\n",
    "    \n",
    "    # Filter Excel files\n",
    "    excel_files = [file for file in files if file.endswith('.xlsx') or file.endswith('.xls') or file.endswith('.csv')]\n",
    "    \n",
    "    if not excel_files:\n",
    "        return None  # No Excel files found\n",
    "    print()\n",
    "    # Sort files by modification time (newest first)\n",
    "    excel_files.sort(key=lambda x: os.path.getctime(os.path.join(folder_path, x)), reverse=True)\n",
    "    \n",
    "    # Return the path to the last added Excel file\n",
    "    return os.path.join(folder_path, excel_files[0])\n",
    "\n",
    "\n",
    "\n",
    "\n",
    "\n",
    "def create_folder_if_not_exists(folder_name):\n",
    "    # Get current folder \n",
    "    folder_path = os.getcwd()\n",
    "    \n",
    "    try:\n",
    "        os.makedirs(\"pip\")\n",
    "        print(\"DONE\")\n",
    "    except FileExistsError:\n",
    "        \n",
    "        pass\n",
    "    if not os.path.exists(os.path.join(folder_path,folder_name)):\n",
    "        os.makedirs(folder_name)\n",
    "        print(\"Folder '{}' created.\".format(folder_name))\n",
    "    else:\n",
    "        print(\"Folder '{}' already exists.\".format(folder_name))\n",
    "\n",
    "# Folder name to create \n",
    "folder_name_to_convert = 'File_To_Convert'\n",
    "folder_name_converted = 'File_Converted'\n",
    "\n",
    "# Get current folder \n",
    "folder_path = os.getcwd()\n",
    "\n",
    "\n",
    "# Create new folder \n",
    "create_folder_if_not_exists(folder_name_converted)\n",
    "\n"
   ]
  },
  {
   "cell_type": "code",
   "execution_count": null,
   "metadata": {},
   "outputs": [],
   "source": [
    "\n",
    "\n",
    "# Get the last upload excel file\n",
    "real_folder_path= os.path.join(folder_path , folder_name_to_convert)\n",
    "\n",
    "last_file = get_last_added_file(real_folder_path)\n",
    "#last_file = \"/home/tristan-martin/Documents/Stage/Documentation/Data-format/Conversion-Script/File_To_Convert/Scenario 3b.csv\"\n",
    "\n",
    "if last_file:\n",
    "    print(\"Last added file:\", last_file)\n",
    "else:\n",
    "    print(\"No files found in the folder.\")\n",
    "\n",
    "# Get the correct naming for the converted file \n",
    "filename_with_extension = os.path.basename(last_file)\n",
    "splited_filename_with_extension = os.path.splitext(filename_with_extension)\n",
    "print(splited_filename_with_extension)\n",
    "filename = splited_filename_with_extension[0] + 'converted' + splited_filename_with_extension[1]\n",
    "\n",
    "# Possibility to create a thread to run all the code during the wait for the user answer. \n",
    "# scenario = input(\"Give the name of the scenario\")\n",
    "scenario = splited_filename_with_extension[0]\n",
    "\n",
    "# Read the selected file \n",
    "if splited_filename_with_extension[1] == '.xls' or splited_filename_with_extension[1] == '.xlsx':\n",
    "    scenario_variable_df = pd.read_excel(last_file)\n",
    "elif  splited_filename_with_extension[1] == '.csv': \n",
    "    scenario_variable_df = pd.read_csv(last_file)\n",
    "\n",
    "\n",
    "scenario_variable_df"
   ]
  },
  {
   "cell_type": "code",
   "execution_count": null,
   "metadata": {},
   "outputs": [],
   "source": [
    "\n",
    "#Rename the column of the file \n",
    "columns = scenario_variable_df.columns.str.replace('Unnamed:', 'Subscript')\n",
    "columns = columns.str.replace('.', ' ')\n",
    "\n",
    "# Define the string you want in column names\n",
    "search_string = 'Subscript'\n",
    "counter=0 \n",
    "\n",
    "for k in range(len(columns)): \n",
    "    if search_string in columns[k]: \n",
    "        columns.values[k]= search_string + ' ' + str(counter)\n",
    "        counter+=1\n",
    "\n",
    "\n",
    "\n",
    "# Create a dictionary using zip() and dictionary comprehension\n",
    "my_dict = {k: v for k, v in zip(scenario_variable_df.columns[2:6], columns[2:6])}\n",
    "scenario_variable_df.rename(columns=my_dict, inplace=True)\n",
    "scenario_variable_df.rename(columns={\"Time\": \"Variable\", \"Year\": \"Unit\", \"Subscript\":\"Subscript 0\"}, inplace=True)\n",
    "\n",
    "# Insert the three columns in the right place for IAMC format\n",
    "scenario_variable_df.insert(0, 'Model', \"WILIAM\")\n",
    "scenario_variable_df.insert(1, 'Scenario', scenario)\n",
    "scenario_variable_df.insert(2,\"Region\",\"World\")\n"
   ]
  },
  {
   "cell_type": "markdown",
   "metadata": {},
   "source": [
    "### Read the Excel File to change the name of the variable\n"
   ]
  },
  {
   "cell_type": "code",
   "execution_count": null,
   "metadata": {},
   "outputs": [],
   "source": [
    "# Read the CSV file into a pandas DataFrame\n",
    "data_name_df = pd.read_excel('Variable_Reference/Variable_name_IAMC.xlsx')\n",
    "# Remplacer les tirets du bas par des espaces dans la colonne\n",
    "# data_name_df['WILIAM_variable'] = data_name_df['WILIAM_variable'].str.replace('_', ' ')\n",
    "# Drop rows with NaN values which corresponds to values not conserv for the final upload of data in IAMC format\n",
    "data_name_df.dropna(subset=['IAMC_variable'],inplace=True)\n",
    "data_name_df"
   ]
  },
  {
   "cell_type": "code",
   "execution_count": null,
   "metadata": {},
   "outputs": [],
   "source": [
    "# Create a dict with Wiliam's name as key, IAMC's name as value\n",
    "IAMC_WILIAM_name_dict = data_name_df.set_index('WILIAM_variable')['IAMC_variable'].to_dict()\n",
    "print(IAMC_WILIAM_name_dict)\n"
   ]
  },
  {
   "cell_type": "code",
   "execution_count": null,
   "metadata": {},
   "outputs": [],
   "source": [
    "# Replace the variable name used in William to the ones used for IAMC format. \n",
    "scenario_variable_df['Variable']= scenario_variable_df['Variable'].replace(IAMC_WILIAM_name_dict)"
   ]
  },
  {
   "cell_type": "markdown",
   "metadata": {},
   "source": [
    "### Create dictionary of Energy subscripts  \n"
   ]
  },
  {
   "cell_type": "code",
   "execution_count": null,
   "metadata": {},
   "outputs": [],
   "source": [
    "\"\"\"energy_sources_new = [\n",
    "    \"Electricity\",\n",
    "    \"Gas\",\n",
    "    \"Heat\",\n",
    "    \"Hydrogen\",\n",
    "    \"TO Liquid\",\n",
    "    \"Solid Biomass\",\n",
    "    \"Solid Fossil\"\n",
    "]\n",
    "energy_sources_old = [\n",
    "    \"TO_elec\",\n",
    "    \"TO_gas\",\n",
    "    \"TO_heat\",\n",
    "    \"TO_hydrogen\",\n",
    "    \"TO_liquid\",\n",
    "    \"TO_solid_bio\",\n",
    "    \"TO_solid_fossil\"\n",
    "]\n",
    "energy_vector_dict= dict(zip(energy_sources_old, energy_sources_new))\n",
    "energy_vector_dict\"\"\""
   ]
  },
  {
   "cell_type": "code",
   "execution_count": null,
   "metadata": {},
   "outputs": [],
   "source": [
    "\n",
    "\n",
    "energy_final_old = [\n",
    "    \"FE_elec\",\n",
    "    \"FE_gas\",\n",
    "    \"FE_heat\",\n",
    "    \"FE_hydrogen\",\n",
    "    \"FE_liquid\",\n",
    "    \"FE_solid_bio\",\n",
    "    \"FE_solid_fossil\"\n",
    "]\n",
    "\n",
    "\n",
    "energy_final_new = [\n",
    "    \"Electricity\",\n",
    "    \"Gas\",\n",
    "    \"Heat\",\n",
    "    \"Hydrogen\",\n",
    "    \"Liquid\",\n",
    "    \"Solid Biomass\",\n",
    "    \"Solid Fossil\"\n",
    "]\n",
    "\n",
    "energy_final_dict= dict(zip(energy_final_old, energy_final_new))\n",
    "energy_final_dict"
   ]
  },
  {
   "cell_type": "code",
   "execution_count": null,
   "metadata": {},
   "outputs": [],
   "source": [
    "energy_processes_old = [\n",
    "    \"PROTRA_CHP_gas_fuels\",\n",
    "    \"PROTRA_CHP_gas_fuels_CCS\",\n",
    "    \"PROTRA_CHP_geothermal_DEACTIVATED\",\n",
    "    \"PROTRA_CHP_liquid_fuels\",\n",
    "    \"PROTRA_CHP_liquid_fuels_CCS\",\n",
    "    \"PROTRA_CHP_solid_fossil\",\n",
    "    \"PROTRA_CHP_solid_fossil_CCS\",\n",
    "    \"PROTRA_CHP_waste\",\n",
    "    \"PROTRA_CHP_solid_bio\",\n",
    "    \"PROTRA_CHP_solid_bio_CCS\",\n",
    "    \"PROTRA_HP_gas_fuels\",\n",
    "    \"PROTRA_HP_solid_bio\",\n",
    "    \"PROTRA_HP_geothermal\",\n",
    "    \"PROTRA_HP_liquid_fuels\",\n",
    "    \"PROTRA_HP_solar_DEACTIVATED\",\n",
    "    \"PROTRA_HP_solid_fossil\",\n",
    "    \"PROTRA_HP_waste\",\n",
    "    \"PROTRA_PP_solid_bio\",\n",
    "    \"PROTRA_PP_solid_bio_CCS\",\n",
    "    \"PROTRA_PP_gas_fuels\",\n",
    "    \"PROTRA_PP_gas_fuels_CCS\",\n",
    "    \"PROTRA_PP_geothermal\",\n",
    "    \"PROTRA_PP_hydropower_dammed\",\n",
    "    \"PROTRA_PP_hydropower_run_of_river\",\n",
    "    \"PROTRA_PP_liquid_fuels\",\n",
    "    \"PROTRA_PP_liquid_fuels_CCS\",\n",
    "    \"PROTRA_PP_nuclear\",\n",
    "    \"PROTRA_PP_oceanic\",\n",
    "    \"PROTRA_PP_solar_CSP\",\n",
    "    \"PROTRA_PP_solar_open_space_PV\",\n",
    "    \"PROTRA_PP_solar_urban_PV\",\n",
    "    \"PROTRA_PP_solid_fossil\",\n",
    "    \"PROTRA_PP_solid_fossil_CCS\",\n",
    "    \"PROTRA_PP_waste\",\n",
    "    \"PROTRA_PP_waste_CCS\",\n",
    "    \"PROTRA_PP_wind_offshore\",\n",
    "    \"PROTRA_PP_wind_onshore\",\n",
    "]\n",
    "\n",
    "# Fonction pour appliquer un changement aux éléments successifs similaires\n",
    "def apply_change_if_similar(lst):\n",
    "    new_lst = [lst[k] for k in range(len(lst))]\n",
    "    for i in range(len(lst)-1):\n",
    "        \n",
    "        \n",
    "        if new_lst[i] == new_lst[i+1][:-4]:\n",
    "            new_lst[i],new_lst[i+1] = modify_element(new_lst[i],new_lst[i+1])\n",
    "        new_lst[i] = remove_underscore_before_word(new_lst[i],'fuels')\n",
    "        new_lst[i] = remove_underscore_before_word(new_lst[i],'of')\n",
    "        new_lst[i] = remove_underscore_before_word(new_lst[i],'river')\n",
    "        new_lst[i] = remove_underscore_before_word(new_lst[i],'space')\n",
    "        \n",
    "            \n",
    "    return new_lst\n",
    "\n",
    "\n",
    "def remove_underscore_before_word(string, word):\n",
    "    index = string.find(word)\n",
    "    if index != -1:\n",
    "        string = string[:index-1] + string[index-1:index].replace(\"_\", \" \") + string[index:]\n",
    "    return string\n",
    "\n",
    "\n",
    "# Fonction de modification de l'élément\n",
    "def modify_element(element, element1):\n",
    "    # Exemple de modification, vous pouvez remplacer cela par la modification souhaitée\n",
    "    element = element + '_w/o CCS'\n",
    "    element1 = element1[:-3] + 'w/ ' +element1[-3:]\n",
    "    return element, element1\n",
    "\n",
    "\n",
    "energy_processes_transformed = apply_change_if_similar(energy_processes_old)\n",
    "energy_processes_transformed"
   ]
  },
  {
   "cell_type": "code",
   "execution_count": null,
   "metadata": {},
   "outputs": [],
   "source": [
    "\n",
    "\n",
    "# Fonction de modification de l'élément\n",
    "def modify_element(element):\n",
    "    # Remplacer les underscores par des espaces et mettre chaque mot en majuscule\n",
    "    return \"|\".join([word.capitalize() for word in element.split(\"_\")])\n",
    "\n",
    "\n",
    "energy_processes_new = []\n",
    "for elem in energy_processes_transformed:\n",
    "    new_elem = ''\n",
    "    elem = elem[7:]\n",
    "    if elem[0:2] == 'PP':\n",
    "        new_elem = 'Electricity Generation'\n",
    "        new_elem = new_elem + '|' + modify_element(elem[3:])\n",
    "    elif elem[0:2] == 'HP': \n",
    "        new_elem = 'Heat Generation'\n",
    "        new_elem = new_elem + '|' + modify_element(elem[3:])\n",
    "    elif elem[0:3] == 'CHP': \n",
    "        new_elem = 'Combined Electricity and Heat Generation'\n",
    "        new_elem = new_elem + '|' + modify_element(elem[4:])\n",
    "    energy_processes_new.append(new_elem)\n",
    "\n",
    "    \n",
    "energy_processes_dict = dict(zip(energy_processes_old, energy_processes_new))\n",
    "energy_processes_dict"
   ]
  },
  {
   "cell_type": "markdown",
   "metadata": {},
   "source": [
    "### Create dictionary of Age subscript"
   ]
  },
  {
   "cell_type": "code",
   "execution_count": null,
   "metadata": {},
   "outputs": [],
   "source": [
    "# Create the subscript list of the Wiliam model \n",
    "number_list= [[0+5*k, 4+5*k] for k in range(16)]\n",
    "age_subscript_list = ['c'+str(number_list[k][0])+'c'+str(number_list[k][1]) for k in range(len(number_list))]\n",
    "age_subscript_list.append('cover80')\n",
    "age_subscript_list\n",
    "\n",
    "\n",
    "# Create the subscript list of the IAMC Compact format\n",
    "new_age_subscript_list = ['Age '+str(number_list[k][0])+'-'+str(number_list[k][1]) for k in range(len(number_list))]\n",
    "new_age_subscript_list.append('Age +80')\n",
    "new_age_subscript_list\n",
    "\n",
    "age_translation_dict = dict(zip(age_subscript_list, new_age_subscript_list))\n",
    "age_translation_dict"
   ]
  },
  {
   "cell_type": "markdown",
   "metadata": {},
   "source": [
    "### Change the naming of Subcript in William\n"
   ]
  },
  {
   "cell_type": "code",
   "execution_count": null,
   "metadata": {},
   "outputs": [],
   "source": [
    "scenario_variable_df['Subscript 0'] = scenario_variable_df['Subscript 0'].replace(energy_processes_dict)\n",
    "scenario_variable_df['Subscript 1'] = scenario_variable_df['Subscript 1'].replace(energy_processes_dict)\n",
    "scenario_variable_df['Subscript 2'] = scenario_variable_df['Subscript 2'].replace(energy_processes_dict)\n",
    "scenario_variable_df['Subscript 3'] = scenario_variable_df['Subscript 3'].replace(energy_processes_dict)\n",
    "\n",
    "scenario_variable_df['Subscript 0'] = scenario_variable_df['Subscript 0'].replace(energy_final_dict)\n",
    "scenario_variable_df['Subscript 1'] = scenario_variable_df['Subscript 1'].replace(energy_final_dict)\n",
    "scenario_variable_df['Subscript 2'] = scenario_variable_df['Subscript 2'].replace(energy_final_dict)\n",
    "scenario_variable_df['Subscript 3'] = scenario_variable_df['Subscript 3'].replace(energy_final_dict)\n",
    "\n",
    "\"\"\"df['Subscript 0'] = df['Subscript 0'].replace(energy_vector_dict)\n",
    "df['Subscript 1'] = df['Subscript 1'].replace(energy_vector_dict)\n",
    "df['Subscript 2'] = df['Subscript 2'].replace(energy_vector_dict)\n",
    "df['Subscript 3'] = df['Subscript 3'].replace(energy_vector_dict)\"\"\"\n",
    "\n",
    "scenario_variable_df['Subscript 0'] = scenario_variable_df['Subscript 0'].replace(age_translation_dict)\n",
    "scenario_variable_df['Subscript 1'] = scenario_variable_df['Subscript 1'].replace(age_translation_dict)\n",
    "scenario_variable_df['Subscript 2'] = scenario_variable_df['Subscript 2'].replace(age_translation_dict)\n",
    "scenario_variable_df['Subscript 3'] = scenario_variable_df['Subscript 3'].replace(age_translation_dict)"
   ]
  },
  {
   "cell_type": "code",
   "execution_count": null,
   "metadata": {},
   "outputs": [],
   "source": [
    "# check that the change is working \n",
    "value_counts_0 = scenario_variable_df['Subscript 2'].value_counts()\n",
    "print(value_counts_0[0:50])"
   ]
  },
  {
   "cell_type": "markdown",
   "metadata": {},
   "source": [
    "### Order Dataframe to the required Format by adding subscript at the end of the variable\n"
   ]
  },
  {
   "cell_type": "code",
   "execution_count": null,
   "metadata": {},
   "outputs": [],
   "source": [
    "# Dict used to check if the subscripts are a country\n",
    "country_dict= {'EU27':1, 'UK':1,'CHINA':1,'EASOC':1,'INDIA':1,'LATAM':1,'RUSSIA':1,'USMCA':1,'LROW':1,'AUSTRIA':1,'BELGIUM':1,'BULGARIA':1,'CROATIA':1,'CYPRUS':1,'CZECH_REPUBLIC':1,'DENMARK':1,'ESTONIA':1,'FINLAND':1,'FRANCE':1,'GERMANY':1,'GREECE':1,'HUNGARY':1,'IRELAND':1,'ITALY':1,'LATVIA':1,'LITHUANIA':1,'LUXEMBOURG':1,'MALTA':1,'NETHERLANDS':1,'POLAND':1,'PORTUGAL':1,'ROMANIA':1,'SLOVAKIA':1,'SLOVENIA':1,'SPAIN':1,'SWEDEN':1}\n",
    "\n",
    "# Aggregate the subscripts at the end of the variable \n",
    "def aggregate_variable_name(row, counter):\n",
    "    for k in range(counter):\n",
    "        subscript=row[\"Subscript \"+str(k)]\n",
    "\n",
    "        \n",
    "    \n",
    "        if k==0 :\n",
    "            if country_dict.get(subscript)==1: \n",
    "                #Give the name of the region for that variable\n",
    "                row[\"Region\"]=subscript\n",
    "                \n",
    "                row[\"Subscript 0\"]=np.nan\n",
    "                continue\n",
    "        \n",
    "        if not pd.isnull(subscript):\n",
    "            row[\"Variable\"]=row[\"Variable\"]+\"|\"+subscript\n",
    "            \n",
    "    return row \n",
    "\n",
    "\n",
    "# Apply the previous function on all the lines \n",
    "scenario_variable_df= scenario_variable_df.apply(aggregate_variable_name, args=(counter,),axis=1)\n",
    "\n",
    "# Remove the subscript columns once they have been added at the end of the variable name\n",
    "drop_columns_list=[\"Subscript \" + str(k) for k in range(counter)]\n",
    "scenario_variable_df.drop(columns=drop_columns_list, inplace=True)\n",
    "\n"
   ]
  },
  {
   "cell_type": "markdown",
   "metadata": {},
   "source": [
    "### Country Traduction between IAMC country and Wiliam\n"
   ]
  },
  {
   "cell_type": "code",
   "execution_count": null,
   "metadata": {},
   "outputs": [],
   "source": [
    "file_path = \"Variable_Reference/reference.xlsx\"  # Update this with the correct path\n",
    "\n",
    "# Read the Excel file into a pandas DataFrame\n",
    "country_IPCC_df = pd.read_excel(file_path,sheet_name=2)\n",
    "\n",
    "# Now you can work with the DataFrame 'df' as needed\n",
    "country_IPCC_df.head()  # Print the first few rows of the DataFrame"
   ]
  },
  {
   "cell_type": "code",
   "execution_count": null,
   "metadata": {},
   "outputs": [],
   "source": [
    "# Put the country in list \n",
    "country_IPCC_list = country_IPCC_df[\"Name\"].to_list()\n",
    "\n",
    "# Get all the region used in Wiliam\n",
    "country_William_list = scenario_variable_df[\"Region\"].unique()\n",
    "country_William_list"
   ]
  },
  {
   "cell_type": "code",
   "execution_count": null,
   "metadata": {},
   "outputs": [],
   "source": [
    "# Put the country in lowercase except for the first letter (format used by IPCC for the Countries)\n",
    "new_country_Wiliam_list=[]\n",
    "for country in country_William_list: \n",
    "    country = country.lower()\n",
    "    country = country.title()\n",
    "    country = country.replace('_',' ')\n",
    "    new_country_Wiliam_list.append(country)\n",
    "\n",
    "\n",
    "# Check the country that are not in the IPCC's list \n",
    "for country in new_country_Wiliam_list:\n",
    "    if country not in country_IPCC_list:\n",
    "        print(country)"
   ]
  },
  {
   "cell_type": "code",
   "execution_count": null,
   "metadata": {},
   "outputs": [],
   "source": [
    "# Create a dict that associated old name with the new name. \n",
    "country_Wiliam_dict = dict(zip(country_William_list, new_country_Wiliam_list))\n",
    "\n",
    "# Change the name by hand for all the countries that appeared in the previous cell\n",
    "country_Wiliam_dict['EU27'] = 'European Union (27 member countries)' # 27 countries only different with the previous versions of \n",
    "country_Wiliam_dict['SLOVAKIA'] = 'Slovak Republic'\n",
    "country_Wiliam_dict['UK'] = 'United Kingdom'\n",
    "country_Wiliam_dict['EASOC'] = 'East Asia and Oceania'\n",
    "country_Wiliam_dict['LATAM'] = 'Latin America' # Latin American countries \n",
    "country_Wiliam_dict['USMCA'] = 'United States, Mexico and Canada' # not correponding in an according manner, there is mexico also. \n",
    "country_Wiliam_dict['LROW'] = 'Rest of the World'"
   ]
  },
  {
   "cell_type": "code",
   "execution_count": null,
   "metadata": {},
   "outputs": [],
   "source": [
    "country_Wiliam_dict"
   ]
  },
  {
   "cell_type": "code",
   "execution_count": null,
   "metadata": {},
   "outputs": [],
   "source": [
    "# Replace the region name by the ones used for the IAMC format \n",
    "scenario_variable_df['Region'] = scenario_variable_df['Region'].replace(country_Wiliam_dict)\n",
    "scenario_variable_df"
   ]
  },
  {
   "cell_type": "code",
   "execution_count": null,
   "metadata": {},
   "outputs": [],
   "source": [
    "def check_countries(list1, list2): \n",
    "    for elem1 in list1: \n",
    "        if elem1 not in list2: \n",
    "            print(elem1)\n",
    "\n",
    "# Print the countries that are not used in IPCC's format \n",
    "check_countries(scenario_variable_df['Region'].unique(), country_IPCC_list)"
   ]
  },
  {
   "cell_type": "markdown",
   "metadata": {},
   "source": [
    "### Correct Mistakes in the file (Not used now)"
   ]
  },
  {
   "cell_type": "code",
   "execution_count": null,
   "metadata": {},
   "outputs": [],
   "source": [
    "\"\"\"# Select one specific country \n",
    "scenario_variable_df = scenario_variable_df[scenario_variable_df['Region'] == 'Rest of the World']\n",
    "\n",
    "# Select one specific variable \n",
    "specific_string = 'Final Energy'\n",
    "filtered_df = scenario_variable_df[scenario_variable_df['Variable'].str.startswith(specific_string)]\n",
    "\n",
    "# Remove Demand rows\n",
    "specific_string_1 = 'Demand'\n",
    "filtered_df = filtered_df[~filtered_df['Variable'].str.contains(specific_string_1)]\"\"\""
   ]
  },
  {
   "cell_type": "code",
   "execution_count": null,
   "metadata": {},
   "outputs": [],
   "source": [
    "scenario_variable_df['Region'].value_counts()"
   ]
  },
  {
   "cell_type": "markdown",
   "metadata": {},
   "source": [
    "### Check how to explain duplicates rows "
   ]
  },
  {
   "cell_type": "code",
   "execution_count": null,
   "metadata": {},
   "outputs": [],
   "source": [
    "# Check for duplicate rows\n",
    "duplicate_rows = scenario_variable_df[scenario_variable_df.duplicated()]\n",
    "\n",
    "# Display duplicate rows\n",
    "print(\"Duplicate Rows:\")\n",
    "print(duplicate_rows)\n",
    "\n",
    "# Count the number of duplicate rows\n",
    "num_duplicate_rows = duplicate_rows.shape[0]\n",
    "print(\"Number of Duplicate Rows:\", num_duplicate_rows)\n"
   ]
  },
  {
   "cell_type": "markdown",
   "metadata": {},
   "source": [
    "### Writing File"
   ]
  },
  {
   "cell_type": "code",
   "execution_count": null,
   "metadata": {},
   "outputs": [],
   "source": [
    "#Write the new excel file in the File_Converted folder\n",
    "folder_file_converted=os.path.join(folder_path,folder_name_converted)\n",
    "\n",
    "# Get the correct naming for the converted file \n",
    "filename_with_extension = os.path.basename(last_file)\n",
    "filename = splited_filename_with_extension[0] + 'converted' + splited_filename_with_extension[1]\n",
    "\n",
    "# Remove duplicate rows\n",
    "scenario_variable_df.drop_duplicates(subset=['Region', 'Variable'],inplace=True)\n",
    "\n",
    "# Write the following dataframe to excel\n",
    "if splited_filename_with_extension[1] == '.xls' or splited_filename_with_extension[1] == '.xlsx':\n",
    "    scenario_variable_df.to_excel(os.path.join(folder_file_converted,filename))\n",
    "elif  splited_filename_with_extension[1] == '.csv': \n",
    "    scenario_variable_df.to_csv(os.path.join(folder_file_converted,filename),index=False)\n",
    "\n",
    "print(\"Conversion Done\")\n",
    "print(time.time()-time0, \"Seconds to run the code.\")"
   ]
  }
 ],
 "metadata": {
  "kernelspec": {
   "display_name": "data_IAMC",
   "language": "python",
   "name": "python3"
  },
  "language_info": {
   "codemirror_mode": {
    "name": "ipython",
    "version": 3
   },
   "file_extension": ".py",
   "mimetype": "text/x-python",
   "name": "python",
   "nbconvert_exporter": "python",
   "pygments_lexer": "ipython3",
   "version": "3.12.1"
  }
 },
 "nbformat": 4,
 "nbformat_minor": 2
}
