{
 "cells": [
  {
   "cell_type": "code",
   "execution_count": null,
   "metadata": {},
   "outputs": [],
   "source": [
    "import numpy as np \n",
    "import pandas as pd\n",
    "import os\n",
    "import time\n",
    "import ast"
   ]
  },
  {
   "cell_type": "markdown",
   "metadata": {},
   "source": [
    "The following code enables everyone to transform the data for William to IAMC format in a partial way. \n",
    "To run correctly the code, you need to : \n",
    "- Create the File_To_Convert folder \n",
    "- Put the file to convert inside. \n",
    "- Install the numpy and pandas dependencies if the running of the cell above is not working. \n",
    " - Run the following command line pip3 install pandas and pip3 install numpy \n",
    "- Put the scenario name as input after running the third cell. \n",
    "- Create a folder named Variable_Reference with two files, one called reference.xlsx which correspond to the variable used in IPCC work and another called Variable_name_IAMC.xlsx which corresponds to the translation  of William's name to IAMC's format. It is still under review and needs to be thought again. Only certain variable are translated to IAMC's format. \n",
    " You can download the files on the following link : "
   ]
  },
  {
   "cell_type": "markdown",
   "metadata": {},
   "source": [
    "### Treat all the variables for csv and excel file \n"
   ]
  },
  {
   "cell_type": "code",
   "execution_count": null,
   "metadata": {},
   "outputs": [],
   "source": [
    "\n",
    "time0= time.time()\n",
    "\n",
    "def get_last_added_file(folder_path):\n",
    "    # Get a list of all files in the folder\n",
    "    files = os.listdir(folder_path)\n",
    "    \n",
    "    # Filter Excel files\n",
    "    excel_files = [file for file in files if file.endswith('.xlsx') or file.endswith('.xls') or file.endswith('.csv')]\n",
    "    \n",
    "    if not excel_files:\n",
    "        return None  # No Excel files found\n",
    "    print()\n",
    "    # Sort files by modification time (newest first)\n",
    "    excel_files.sort(key=lambda x: os.path.getctime(os.path.join(folder_path, x)), reverse=True)\n",
    "    \n",
    "    # Return the path to the last added Excel file\n",
    "    return os.path.join(folder_path, excel_files[0])\n",
    "\n",
    "\n",
    "\n",
    "\n",
    "\n",
    "def create_folder_if_not_exists(folder_name):\n",
    "    # Get current folder \n",
    "    folder_path = os.getcwd()\n",
    "    \n",
    "    try:\n",
    "        os.makedirs(\"pip\")\n",
    "        print(\"DONE\")\n",
    "    except FileExistsError:\n",
    "        \n",
    "        pass\n",
    "    if not os.path.exists(os.path.join(folder_path,folder_name)):\n",
    "        os.makedirs(folder_name)\n",
    "        print(\"Folder '{}' created.\".format(folder_name))\n",
    "    else:\n",
    "        print(\"Folder '{}' already exists.\".format(folder_name))\n",
    "\n",
    "# Folder name to create \n",
    "folder_name_to_convert = 'File_To_Convert'\n",
    "folder_name_converted = 'File_Converted'\n",
    "\n",
    "# Get current folder \n",
    "folder_path = os.getcwd()\n",
    "\n",
    "\n",
    "# Create new folder \n",
    "create_folder_if_not_exists(folder_name_converted)\n",
    "\n"
   ]
  },
  {
   "cell_type": "code",
   "execution_count": null,
   "metadata": {},
   "outputs": [],
   "source": [
    "\n",
    "\n",
    "# Get the last upload excel file\n",
    "real_folder_path= os.path.join(folder_path , folder_name_to_convert)\n",
    "\n",
    "last_file = get_last_added_file(real_folder_path)\n",
    "#last_file = \"/home/tristan-martin/Documents/Stage/Documentation/Data-format/Conversion-Script/File_To_Convert/Scenario 3b.csv\"\n",
    "\n",
    "if last_file:\n",
    "    print(\"Last added file:\", last_file)\n",
    "else:\n",
    "    print(\"No files found in the folder.\")\n",
    "\n",
    "# Get the correct naming for the converted file \n",
    "filename_with_extension = os.path.basename(last_file)\n",
    "splited_filename_with_extension = os.path.splitext(filename_with_extension)\n",
    "print(splited_filename_with_extension)\n",
    "filename = splited_filename_with_extension[0] + 'converted' + splited_filename_with_extension[1]\n",
    "\n",
    "# Possibility to create a thread to run all the code during the wait for the user answer. \n",
    "# scenario = input(\"Give the name of the scenario\")\n",
    "scenario = splited_filename_with_extension[0]\n",
    "\n",
    "# Read the selected file \n",
    "if splited_filename_with_extension[1] == '.xls' or splited_filename_with_extension[1] == '.xlsx':\n",
    "    scenario_variable_df = pd.read_excel(last_file)\n",
    "elif  splited_filename_with_extension[1] == '.csv': \n",
    "    scenario_variable_df = pd.read_csv(last_file)\n",
    "\n",
    "\n",
    "scenario_variable_df"
   ]
  },
  {
   "cell_type": "code",
   "execution_count": null,
   "metadata": {},
   "outputs": [],
   "source": [
    "\n",
    "#Rename the column of the file \n",
    "columns = scenario_variable_df.columns.str.replace('Unnamed:', 'Subscript')\n",
    "columns = columns.str.replace('.', ' ')\n",
    "\n",
    "# Define the string you want in column names\n",
    "search_string = 'Subscript'\n",
    "counter=0 \n",
    "\n",
    "for k in range(len(columns)): \n",
    "    if search_string in columns[k]: \n",
    "        columns.values[k]= search_string + ' ' + str(counter)\n",
    "        counter+=1\n",
    "\n",
    "\n",
    "\n",
    "# Create a dictionary using zip() and dictionary comprehension\n",
    "my_dict = {k: v for k, v in zip(scenario_variable_df.columns[2:6], columns[2:6])}\n",
    "scenario_variable_df.rename(columns=my_dict, inplace=True)\n",
    "scenario_variable_df.rename(columns={\"Time\": \"Variable\", \"Year\": \"Unit\", \"Subscript\":\"Subscript 0\"}, inplace=True)\n",
    "\n",
    "# Insert the three columns in the right place for IAMC format\n",
    "scenario_variable_df.insert(0, 'Model', \"WILIAM\")\n",
    "scenario_variable_df.insert(1, 'Scenario', scenario)\n",
    "scenario_variable_df.insert(2,\"Region\",\"World\")\n"
   ]
  },
  {
   "cell_type": "markdown",
   "metadata": {},
   "source": [
    "### Read the Excel File to change the name of the variable\n"
   ]
  },
  {
   "cell_type": "code",
   "execution_count": null,
   "metadata": {},
   "outputs": [],
   "source": [
    "# Read the CSV file into a pandas DataFrame\n",
    "data_name_df = pd.read_excel('Variable_Reference/Variable_name_IAMC.xlsx')\n",
    "# Remplacer les tirets du bas par des espaces dans la colonne\n",
    "# data_name_df['WILIAM_variable'] = data_name_df['WILIAM_variable'].str.replace('_', ' ')\n",
    "# Drop rows with NaN values which corresponds to values not conserv for the final upload of data in IAMC format\n",
    "data_name_df.dropna(subset=['IAMC_variable'],inplace=True)\n",
    "data_name_df"
   ]
  },
  {
   "cell_type": "code",
   "execution_count": null,
   "metadata": {},
   "outputs": [],
   "source": [
    "# Create a dict with Wiliam's name as key, IAMC's name as value\n",
    "IAMC_WILIAM_name_dict = data_name_df.set_index('WILIAM_variable')['IAMC_variable'].to_dict()\n",
    "print(IAMC_WILIAM_name_dict)\n",
    "# Replace the variable name used in William to the ones used for IAMC format. \n",
    "scenario_variable_df['Variable']= scenario_variable_df['Variable'].replace(IAMC_WILIAM_name_dict)\n",
    "\n",
    "# Keep only the rows where the value in column 'Variable' belongs to the list of wanted values \n",
    "variable_required_list = data_name_df['IAMC_variable'].to_list()\n",
    "scenario_variable_df = scenario_variable_df[scenario_variable_df['Variable'].isin(variable_required_list)]"
   ]
  },
  {
   "cell_type": "markdown",
   "metadata": {},
   "source": [
    "### Check of the variable included in the file\n"
   ]
  },
  {
   "cell_type": "code",
   "execution_count": null,
   "metadata": {},
   "outputs": [],
   "source": [
    "variables_used_list = scenario_variable_df['Variable'].to_list()\n",
    "variables_required_not_in = list(set(variable_required_list) - set(variables_used_list))\n",
    "print('The missing variable in the export dataset are the following:', variables_required_not_in)\n",
    "print('The number of missing varibles is ', len(variables_required_not_in))"
   ]
  },
  {
   "cell_type": "markdown",
   "metadata": {},
   "source": [
    "### Change the naming of Subcript in William\n"
   ]
  },
  {
   "cell_type": "code",
   "execution_count": null,
   "metadata": {},
   "outputs": [],
   "source": [
    "# Open the text file containing the energy dictionary\n",
    "with open('Create_Variable_Dict/energy_dict.txt', 'r') as f:\n",
    "    # Read the contents of the file\n",
    "    energy_dict_str = f.read()\n",
    "\n",
    "# Convert the string representation of the dictionary back to a dictionary object\n",
    "energy_dict = ast.literal_eval(energy_dict_str)\n",
    "\n",
    "\n",
    "# Open the text file containing the rest dictionary\n",
    "with open('Create_Variable_Dict/rest_dict.txt', 'r') as f:\n",
    "    # Read the contents of the file\n",
    "    rest_dict_str = f.read()\n",
    "\n",
    "# Convert the string representation of the dictionary back to a dictionary object\n",
    "rest_dict = ast.literal_eval(rest_dict_str)\n",
    "\n"
   ]
  },
  {
   "cell_type": "markdown",
   "metadata": {},
   "source": [
    "### Order Dataframe to the required Format by adding subscript at the end of the variable\n"
   ]
  },
  {
   "cell_type": "code",
   "execution_count": null,
   "metadata": {},
   "outputs": [],
   "source": [
    "# Dict used to check if the subscripts are a country\n",
    "country_dict= {'EU27':1, 'UK':1,'CHINA':1,'EASOC':1,'INDIA':1,'LATAM':1,'RUSSIA':1,'USMCA':1,'LROW':1,'AUSTRIA':1,'BELGIUM':1,'BULGARIA':1,'CROATIA':1,'CYPRUS':1,'CZECH_REPUBLIC':1,'DENMARK':1,'ESTONIA':1,'FINLAND':1,'FRANCE':1,'GERMANY':1,'GREECE':1,'HUNGARY':1,'IRELAND':1,'ITALY':1,'LATVIA':1,'LITHUANIA':1,'LUXEMBOURG':1,'MALTA':1,'NETHERLANDS':1,'POLAND':1,'PORTUGAL':1,'ROMANIA':1,'SLOVAKIA':1,'SLOVENIA':1,'SPAIN':1,'SWEDEN':1}\n",
    "\n",
    "# Aggregate the subscripts at the end of the variable \n",
    "def aggregate_variable_name(row, counter):\n",
    "    for k in range(counter):\n",
    "        subscript=row[\"Subscript \"+str(k)]\n",
    "\n",
    "        \n",
    "    \n",
    "        if k==0 :\n",
    "            if country_dict.get(subscript)==1: \n",
    "                #Give the name of the region for that variable\n",
    "                row[\"Region\"]=subscript\n",
    "                \n",
    "                row[\"Subscript 0\"]=np.nan\n",
    "                continue\n",
    "        \n",
    "        if not pd.isnull(subscript):\n",
    "            \n",
    "            if energy_dict.get(subscript, None) is not None:\n",
    "                \n",
    "                subscript = energy_dict[subscript]\n",
    "            elif rest_dict.get(subscript,None): \n",
    "                subscript = rest_dict[subscript]\n",
    "            \n",
    "            row[\"Variable\"]=row[\"Variable\"]+\"|\"+subscript\n",
    "            \n",
    "    return row \n",
    "\n",
    "\n",
    "# Apply the previous function on all the lines \n",
    "scenario_variable_df= scenario_variable_df.apply(aggregate_variable_name, args=(counter,),axis=1)\n",
    "\n",
    "# Remove the subscript columns once they have been added at the end of the variable name\n",
    "drop_columns_list=[\"Subscript \" + str(k) for k in range(counter)]\n",
    "scenario_variable_df.drop(columns=drop_columns_list, inplace=True)\n",
    "\n",
    "scenario_variable_df"
   ]
  },
  {
   "cell_type": "code",
   "execution_count": null,
   "metadata": {},
   "outputs": [],
   "source": [
    "# List with the words in uppercase which will not be capitalized by the next functions\n",
    "upper_word_list = ['CO2', 'CH4', 'N2O', 'PFC', 'SF6', 'HFC134a', 'HFC23', 'HFC32', 'HFC125', 'HFC143a', 'HFC152a', 'HFC227ea', 'HFC245ca', 'HFC43-10', 'HFC', 'w/o CCS' ,'w/ CCS', 'PV', 'CSP', 'AFOLU', 'CO2eq', 'EROI']\n",
    "\n",
    "\n",
    "# Change the format of the string to respect IAMC's format\n",
    "def transform_string(s):\n",
    "    # Split the string into words\n",
    "    if pd.isnull(s): \n",
    "        return s\n",
    "    words = s.split('|')\n",
    "\n",
    "    capitalized_words = []\n",
    "    # Capitalize the first letter of each word\n",
    "    for word in words: \n",
    "        if word not in upper_word_list:\n",
    "            new_word_list = word.split('_')\n",
    "            new_word_list = [new_word.capitalize() for new_word in new_word_list] \n",
    "            capitalized_words += [' '.join(new_word_list) + '|']\n",
    "        else: \n",
    "            capitalized_words += [word + '|']\n",
    "    \n",
    "    # Join the words with spaces\n",
    "    transformed_string = ''.join(capitalized_words)\n",
    "\n",
    "    result = ''\n",
    "    capitalize_next=False\n",
    "    # Capitalize the letter after each space\n",
    "    for char in transformed_string[:-1]:\n",
    "        if char == ' ' or char == '|' or char == '-':\n",
    "            capitalize_next = True\n",
    "            result += char\n",
    "        elif capitalize_next:\n",
    "            result += char.upper()\n",
    "            capitalize_next = False\n",
    "        else:\n",
    "            result += char\n",
    "                \n",
    "    \n",
    "    return result\n",
    "\n",
    "# Capitalize each variable's name\n",
    "scenario_variable_df['Variable'] = scenario_variable_df['Variable'].apply(transform_string)\n",
    "scenario_variable_df"
   ]
  },
  {
   "cell_type": "markdown",
   "metadata": {},
   "source": [
    "### Country Traduction between IAMC country and Wiliam\n"
   ]
  },
  {
   "cell_type": "code",
   "execution_count": null,
   "metadata": {},
   "outputs": [],
   "source": [
    "# Open the text file containing the dictionary\n",
    "with open('Create_Variable_Dict/country_dict.txt', 'r') as f:\n",
    "    # Read the contents of the file\n",
    "    dict_str = f.read()\n",
    "\n",
    "# Convert the string representation of the dictionary back to a dictionary object\n",
    "country_Wiliam_dict = ast.literal_eval(dict_str)\n",
    "\n",
    "# Replace the region name by the ones adapted for Wiliam. \n",
    "scenario_variable_df['Region'] = scenario_variable_df['Region'].replace(country_Wiliam_dict)\n",
    "scenario_variable_df"
   ]
  },
  {
   "cell_type": "markdown",
   "metadata": {},
   "source": [
    "### Correct Naming Emissions Intensity, Primary Energy, Secondary Energy"
   ]
  },
  {
   "cell_type": "code",
   "execution_count": null,
   "metadata": {},
   "outputs": [],
   "source": [
    "# Select rows with the name 'Emission'\n",
    "emission_rows = scenario_variable_df[scenario_variable_df['Variable'].str.contains('Emission')]\n",
    "emission_name_old = emission_rows['Variable'].to_list()\n",
    "# List of Greenhouses Gases used in Wiliam \n",
    "GHGs_to_check = ['CH4', 'N2O', 'PFC', 'SF6','CO2']\n",
    "HFC_list = ['HFC134a', 'HFC23', 'HFC32', 'HFC125', 'HFC143a', 'HFC152a', 'HFC227ea', 'HFC245ca', 'HFC43-10']\n",
    "\n",
    "# Function to move the matched string after the specific word\n",
    "def move_string(s):\n",
    "    specific_word = 'Emissions'\n",
    "    for string in GHGs_to_check:\n",
    "        if string in s:\n",
    "            \n",
    "            index_emission = s.find('Emissions') + len(specific_word)\n",
    "            index_gas = s.find(string)\n",
    "            s = s[:index_emission] + '|' + string + s[index_emission:index_gas-1] + s[index_gas+len(string):]\n",
    "            break\n",
    "    for string in HFC_list:\n",
    "        if string in s:\n",
    "            \n",
    "            index_emission = s.find('Emissions') + len(specific_word)\n",
    "            index_gas = s.find(string)\n",
    "            s = s[:index_emission] + '|HFC|' + string + s[index_emission:index_gas-1] + s[index_gas+len(string):]\n",
    "            break\n",
    "    return s\n",
    "\n",
    "# Apply the function to the 'Product' column\n",
    "emission_rows['Variable'] = emission_rows['Variable'].apply(move_string)\n",
    "emission_name_new = emission_rows['Variable'].to_list()\n",
    "\n",
    "emission_dict = dict(zip(emission_name_old, emission_name_new))\n",
    "\n",
    "scenario_variable_df['Variable']= scenario_variable_df['Variable'].replace(emission_dict)\n",
    "\n"
   ]
  },
  {
   "cell_type": "code",
   "execution_count": null,
   "metadata": {},
   "outputs": [],
   "source": [
    "# Change Primary Energy Naming\n",
    "# Select the rows where the primary energy word \n",
    "energy_rows = scenario_variable_df[scenario_variable_df['Variable'].str.contains('Per Capita')]\n",
    "\n",
    "\n",
    "energy_name_old = energy_rows['Variable'].to_list()\n",
    "\n",
    "# Function to move the matched string after the specific word\n",
    "def move_per_capita(s):\n",
    "    specific_word = 'Per Capita'\n",
    "    \n",
    "    if specific_word in s:\n",
    "        index_emission = s.find(specific_word) \n",
    "        \n",
    "        s = s[:index_emission-1] + s[index_emission+len(specific_word):] + '|' + specific_word\n",
    "   \n",
    "    return s\n",
    "\n",
    "# Apply the function to the 'Variable' column\n",
    "energy_rows['Variable'] = energy_rows['Variable'].apply(move_per_capita)\n",
    "energy_name_new = energy_rows['Variable'].to_list()\n",
    "\n",
    "energy_per_capita_dict = dict(zip(energy_name_old, energy_name_new))\n",
    "\n",
    "scenario_variable_df['Variable']= scenario_variable_df['Variable'].replace(energy_per_capita_dict)\n"
   ]
  },
  {
   "cell_type": "code",
   "execution_count": null,
   "metadata": {},
   "outputs": [],
   "source": [
    "# Change Secondary Energy Naming \n",
    "secondary_energy_rows = scenario_variable_df[scenario_variable_df['Variable'].str.contains('Secondary Energy')]\n",
    "\n",
    "secondary_energy_rows"
   ]
  },
  {
   "cell_type": "markdown",
   "metadata": {},
   "source": [
    "### Check how to explain duplicates rows "
   ]
  },
  {
   "cell_type": "code",
   "execution_count": null,
   "metadata": {},
   "outputs": [],
   "source": [
    "# Check for duplicate rows\n",
    "duplicate_rows = scenario_variable_df[scenario_variable_df.duplicated()]\n",
    "\n",
    "# Display duplicate rows\n",
    "print(\"Duplicate Rows:\")\n",
    "print(duplicate_rows)\n",
    "\n",
    "# Count the number of duplicate rows\n",
    "num_duplicate_rows = duplicate_rows.shape[0]\n",
    "print(\"Number of Duplicate Rows:\", num_duplicate_rows)\n"
   ]
  },
  {
   "cell_type": "markdown",
   "metadata": {},
   "source": [
    "### Writing File"
   ]
  },
  {
   "cell_type": "code",
   "execution_count": null,
   "metadata": {},
   "outputs": [],
   "source": [
    "# Write the new excel file in the File_Converted folder\n",
    "folder_file_converted=os.path.join(folder_path,folder_name_converted)\n",
    "\n",
    "# Get the correct naming for the converted file \n",
    "filename_with_extension = os.path.basename(last_file)\n",
    "filename = splited_filename_with_extension[0] + 'converted' + splited_filename_with_extension[1]\n",
    "\n",
    "# Remove duplicate rows\n",
    "# scenario_variable_df.drop_duplicates(subset=['Region', 'Variable'],inplace=True)\n",
    "scenario_variable_df.drop_duplicates(subset=['Region','Variable'],inplace=True)\n",
    "\n",
    "# Write the following dataframe to excel\n",
    "if splited_filename_with_extension[1] == '.xls' or splited_filename_with_extension[1] == '.xlsx':\n",
    "    scenario_variable_df.to_excel(os.path.join(folder_file_converted,filename))\n",
    "elif  splited_filename_with_extension[1] == '.csv': \n",
    "    scenario_variable_df.to_csv(os.path.join(folder_file_converted,filename),index=False)\n",
    "\n",
    "print(\"Conversion Done\")\n",
    "print(time.time()-time0, \"Seconds to run the code.\")"
   ]
  }
 ],
 "metadata": {
  "kernelspec": {
   "display_name": "data_IAMC",
   "language": "python",
   "name": "python3"
  },
  "language_info": {
   "codemirror_mode": {
    "name": "ipython",
    "version": 3
   },
   "file_extension": ".py",
   "mimetype": "text/x-python",
   "name": "python",
   "nbconvert_exporter": "python",
   "pygments_lexer": "ipython3",
   "version": "3.12.1"
  }
 },
 "nbformat": 4,
 "nbformat_minor": 2
}
